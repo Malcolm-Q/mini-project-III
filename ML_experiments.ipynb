{
 "cells": [
  {
   "cell_type": "code",
   "execution_count": 3,
   "metadata": {},
   "outputs": [],
   "source": [
    "import pandas as pd\n",
    "import numpy as np\n",
    "from sklearn.model_selection import train_test_split\n",
    "import statsmodels.tools as sm"
   ]
  },
  {
   "cell_type": "code",
   "execution_count": 4,
   "metadata": {},
   "outputs": [
    {
     "data": {
      "text/html": [
       "<div>\n",
       "<style scoped>\n",
       "    .dataframe tbody tr th:only-of-type {\n",
       "        vertical-align: middle;\n",
       "    }\n",
       "\n",
       "    .dataframe tbody tr th {\n",
       "        vertical-align: top;\n",
       "    }\n",
       "\n",
       "    .dataframe thead th {\n",
       "        text-align: right;\n",
       "    }\n",
       "</style>\n",
       "<table border=\"1\" class=\"dataframe\">\n",
       "  <thead>\n",
       "    <tr style=\"text-align: right;\">\n",
       "      <th></th>\n",
       "      <th>const</th>\n",
       "      <th>income</th>\n",
       "      <th>age</th>\n",
       "      <th>num_cred_trans</th>\n",
       "      <th>num_save_trans</th>\n",
       "      <th>num_cheq_trans</th>\n",
       "      <th>avg_cheq_amt</th>\n",
       "      <th>avg_save_amt</th>\n",
       "      <th>avg_cred_amt</th>\n",
       "      <th>money_gained</th>\n",
       "    </tr>\n",
       "  </thead>\n",
       "  <tbody>\n",
       "    <tr>\n",
       "      <th>0</th>\n",
       "      <td>1.0</td>\n",
       "      <td>50890.0</td>\n",
       "      <td>33.0</td>\n",
       "      <td>32.0</td>\n",
       "      <td>26.0</td>\n",
       "      <td>99.0</td>\n",
       "      <td>-2.474646</td>\n",
       "      <td>18.550769</td>\n",
       "      <td>60.895625</td>\n",
       "      <td>-450.503333</td>\n",
       "    </tr>\n",
       "  </tbody>\n",
       "</table>\n",
       "</div>"
      ],
      "text/plain": [
       "   const   income   age  num_cred_trans  num_save_trans  num_cheq_trans  \\\n",
       "0    1.0  50890.0  33.0            32.0            26.0            99.0   \n",
       "\n",
       "   avg_cheq_amt  avg_save_amt  avg_cred_amt  money_gained  \n",
       "0     -2.474646     18.550769     60.895625   -450.503333  "
      ]
     },
     "execution_count": 4,
     "metadata": {},
     "output_type": "execute_result"
    }
   ],
   "source": [
    "x = pd.read_feather('created_data/final_transaction_cluster.feather')\n",
    "y = x.cluster\n",
    "x.drop(['cust_id','cluster'],inplace=True,axis=1)\n",
    "x = sm.add_constant(x)\n",
    "x.head(1)"
   ]
  },
  {
   "cell_type": "code",
   "execution_count": 5,
   "metadata": {},
   "outputs": [],
   "source": [
    "x_train,x_test,y_train,y_test=train_test_split(x,y,test_size=0.2)"
   ]
  },
  {
   "cell_type": "code",
   "execution_count": 6,
   "metadata": {},
   "outputs": [
    {
     "name": "stdout",
     "output_type": "stream",
     "text": [
      "accuracy:  56.390977443609025\n"
     ]
    },
    {
     "name": "stderr",
     "output_type": "stream",
     "text": [
      "c:\\Users\\malco\\anaconda3\\lib\\site-packages\\sklearn\\linear_model\\_logistic.py:814: ConvergenceWarning: lbfgs failed to converge (status=1):\n",
      "STOP: TOTAL NO. of ITERATIONS REACHED LIMIT.\n",
      "\n",
      "Increase the number of iterations (max_iter) or scale the data as shown in:\n",
      "    https://scikit-learn.org/stable/modules/preprocessing.html\n",
      "Please also refer to the documentation for alternative solver options:\n",
      "    https://scikit-learn.org/stable/modules/linear_model.html#logistic-regression\n",
      "  n_iter_i = _check_optimize_result(\n"
     ]
    }
   ],
   "source": [
    "from sklearn.linear_model import LogisticRegression\n",
    "from sklearn.metrics import accuracy_score\n",
    "\n",
    "logistic_regression = LogisticRegression()\n",
    "logistic_regression.fit(x_train, y_train)\n",
    "y_pred = logistic_regression.predict(x_test)\n",
    "accuracy = accuracy_score(y_test, y_pred)\n",
    "\n",
    "print(\"accuracy: \", accuracy*100)"
   ]
  },
  {
   "cell_type": "code",
   "execution_count": 7,
   "metadata": {},
   "outputs": [
    {
     "data": {
      "text/plain": [
       "array([-1.24068627e-04, -4.47788196e-05,  2.73942975e-05,  3.63425862e-05,\n",
       "        1.05110563e-04])"
      ]
     },
     "execution_count": 7,
     "metadata": {},
     "output_type": "execute_result"
    }
   ],
   "source": [
    "logistic_regression.intercept_"
   ]
  },
  {
   "cell_type": "code",
   "execution_count": 8,
   "metadata": {},
   "outputs": [
    {
     "data": {
      "text/plain": [
       "array([[-1.24068611e-04, -1.86310914e-05, -4.75407353e-03,\n",
       "        -4.78118845e-03, -2.30247876e-03, -8.67242142e-03,\n",
       "        -3.05326502e-04, -6.44952030e-04,  2.85653136e-03,\n",
       "        -1.57510136e-03],\n",
       "       [-4.47788129e-05,  6.91760119e-05, -8.51333340e-04,\n",
       "        -1.28733562e-03, -1.60604986e-03, -1.67566151e-02,\n",
       "         1.86253526e-03, -2.84635788e-03,  1.82725392e-03,\n",
       "         4.15107267e-04],\n",
       "       [ 2.73942939e-05,  4.22895692e-05,  5.68727075e-04,\n",
       "         1.42584610e-03, -5.17578902e-03,  1.04349008e-02,\n",
       "         1.39520187e-03, -3.34826109e-03, -4.23192745e-03,\n",
       "        -1.52467076e-04],\n",
       "       [ 3.63425814e-05, -9.74906458e-05, -4.19824189e-04,\n",
       "        -1.07109238e-03,  1.39165662e-03, -3.18119209e-03,\n",
       "         1.90648166e-04,  6.01464176e-04,  1.51825767e-03,\n",
       "         1.09483461e-03],\n",
       "       [ 1.05110549e-04,  4.65615618e-06,  5.45650398e-03,\n",
       "         5.71377035e-03,  7.69266101e-03,  1.81753278e-02,\n",
       "        -3.14305879e-03,  6.23810683e-03, -1.97011550e-03,\n",
       "         2.17626569e-04]])"
      ]
     },
     "execution_count": 8,
     "metadata": {},
     "output_type": "execute_result"
    }
   ],
   "source": [
    "logistic_regression.coef_"
   ]
  },
  {
   "cell_type": "code",
   "execution_count": 9,
   "metadata": {},
   "outputs": [
    {
     "data": {
      "text/plain": [
       "array([4, 2, 4, 4, 1, 2, 4, 4, 4, 4, 4, 2, 0, 4, 4, 2, 4, 4, 4, 4, 4, 2,\n",
       "       4, 1, 1, 0, 4, 4, 1, 4, 2, 3, 4, 1, 2, 4, 2, 4, 2, 0, 4, 4, 4, 4,\n",
       "       4, 4, 4, 4, 4, 4, 4, 4, 2, 4, 4, 3, 3, 4, 4, 4, 1, 4, 1, 4, 4, 0,\n",
       "       1, 2, 0, 0, 0, 1, 4, 4, 2, 1, 1, 4, 2, 2, 2, 0, 4, 0, 4, 1, 4, 0,\n",
       "       4, 4, 4, 4, 1, 4, 4, 1, 2, 4, 1, 4, 4, 4, 4, 2, 4, 4, 4, 4, 4, 2,\n",
       "       2, 1, 4, 4, 1, 2, 4, 4, 2, 4, 4, 3, 0, 4, 4, 4, 0, 2, 3, 1, 2, 2,\n",
       "       4])"
      ]
     },
     "execution_count": 9,
     "metadata": {},
     "output_type": "execute_result"
    }
   ],
   "source": [
    "y_pred"
   ]
  },
  {
   "cell_type": "code",
   "execution_count": 10,
   "metadata": {},
   "outputs": [],
   "source": [
    "coef = logistic_regression.coef_\n",
    "\n",
    "z = np.dot(x_test, coef.T)\n",
    "\n",
    "z += logistic_regression.intercept_"
   ]
  },
  {
   "cell_type": "code",
   "execution_count": 11,
   "metadata": {},
   "outputs": [
    {
     "data": {
      "text/plain": [
       "array([4, 2, 4, 4, 1, 2, 4, 4, 4, 4, 4, 2, 0, 4, 4, 2, 4, 4, 4, 4, 4, 2,\n",
       "       4, 1, 1, 0, 4, 4, 1, 4, 2, 3, 4, 1, 2, 4, 2, 4, 2, 0, 4, 4, 4, 4,\n",
       "       4, 4, 4, 4, 4, 4, 4, 4, 2, 4, 4, 3, 3, 4, 4, 4, 1, 4, 1, 4, 4, 0,\n",
       "       1, 2, 0, 0, 0, 1, 4, 4, 2, 1, 1, 4, 2, 2, 2, 0, 4, 0, 4, 1, 4, 0,\n",
       "       4, 4, 4, 4, 1, 4, 4, 1, 2, 4, 1, 4, 4, 4, 4, 2, 4, 4, 4, 4, 4, 2,\n",
       "       2, 1, 4, 4, 1, 2, 4, 4, 2, 4, 4, 3, 0, 4, 4, 4, 0, 2, 3, 1, 2, 2,\n",
       "       4], dtype=int64)"
      ]
     },
     "execution_count": 11,
     "metadata": {},
     "output_type": "execute_result"
    }
   ],
   "source": [
    "np.argmax(z,axis=1)"
   ]
  },
  {
   "cell_type": "code",
   "execution_count": 12,
   "metadata": {},
   "outputs": [
    {
     "data": {
      "text/plain": [
       "array([-1.05140549, -1.75047762,  1.12979081, -1.21480906,  2.88690136])"
      ]
     },
     "execution_count": 12,
     "metadata": {},
     "output_type": "execute_result"
    }
   ],
   "source": [
    "z[0]"
   ]
  },
  {
   "cell_type": "code",
   "execution_count": 13,
   "metadata": {},
   "outputs": [
    {
     "data": {
      "text/plain": [
       "array([0.2589553 , 0.14798697, 0.75580029, 0.22885125, 0.94719511])"
      ]
     },
     "execution_count": 13,
     "metadata": {},
     "output_type": "execute_result"
    }
   ],
   "source": [
    "probs = 1 / (1 + np.exp(-z))\n",
    "probs[0]"
   ]
  },
  {
   "cell_type": "code",
   "execution_count": 14,
   "metadata": {},
   "outputs": [
    {
     "data": {
      "text/plain": [
       "array([4, 2, 4, 4, 1, 2, 4, 4, 4, 4, 4, 2, 0, 4, 4, 2, 4, 4, 4, 4, 4, 2,\n",
       "       4, 1, 1, 0, 4, 4, 1, 4, 2, 3, 4, 1, 2, 4, 2, 4, 2, 0, 4, 4, 4, 4,\n",
       "       4, 4, 4, 4, 4, 4, 4, 4, 2, 4, 4, 3, 3, 4, 4, 4, 1, 4, 1, 4, 4, 0,\n",
       "       1, 2, 0, 0, 0, 1, 4, 4, 2, 1, 1, 4, 2, 2, 2, 0, 4, 0, 4, 1, 4, 0,\n",
       "       4, 4, 4, 4, 1, 4, 4, 1, 2, 4, 1, 4, 4, 4, 4, 2, 4, 4, 4, 4, 4, 2,\n",
       "       2, 1, 4, 4, 1, 2, 4, 4, 2, 4, 4, 3, 0, 4, 4, 4, 0, 2, 3, 1, 2, 2,\n",
       "       4], dtype=int64)"
      ]
     },
     "execution_count": 14,
     "metadata": {},
     "output_type": "execute_result"
    }
   ],
   "source": [
    "y_pred = np.argmax(probs, axis=1)\n",
    "y_pred"
   ]
  },
  {
   "cell_type": "code",
   "execution_count": 15,
   "metadata": {},
   "outputs": [
    {
     "name": "stdout",
     "output_type": "stream",
     "text": [
      "accuracy: 90.97744360902256%\n"
     ]
    }
   ],
   "source": [
    "import pandas as pd\n",
    "import numpy as np\n",
    "from sklearn.model_selection import train_test_split\n",
    "from sklearn.ensemble import RandomForestClassifier\n",
    "from sklearn.metrics import accuracy_score\n",
    "\n",
    "# load data\n",
    "x = pd.read_feather('created_data/final_transaction_cluster.feather')\n",
    "y = x.cluster\n",
    "x.drop(['cust_id','cluster'],inplace=True,axis=1)\n",
    "\n",
    "# split\n",
    "x_train,x_test,y_train,y_test=train_test_split(x,y,test_size=0.2)\n",
    "\n",
    "rand_forest = RandomForestClassifier().fit(x_train, y_train)\n",
    "\n",
    "y_pred = rand_forest.predict(x_test)\n",
    "\n",
    "accuracy = accuracy_score(y_test, y_pred)\n",
    "\n",
    "print('accuracy: ' + str(accuracy*100) + '%')"
   ]
  },
  {
   "cell_type": "code",
   "execution_count": 16,
   "metadata": {},
   "outputs": [
    {
     "data": {
      "text/plain": [
       "array([0.06270882, 0.08313687, 0.03497778, 0.24729606, 0.23419928,\n",
       "       0.106874  , 0.11485164, 0.01909426, 0.09686128])"
      ]
     },
     "execution_count": 16,
     "metadata": {},
     "output_type": "execute_result"
    }
   ],
   "source": [
    "rand_forest.feature_importances_"
   ]
  },
  {
   "cell_type": "code",
   "execution_count": 17,
   "metadata": {},
   "outputs": [
    {
     "data": {
      "text/plain": [
       "array([3, 2, 3, 2, 2, 4, 2, 3, 1, 4, 2, 2, 3, 4, 2, 4, 4, 1, 1, 3, 0, 0,\n",
       "       3, 2, 1, 4, 4, 4, 0, 1, 1, 4, 4, 1, 3, 4, 4, 4, 4, 4, 2, 1, 3, 4,\n",
       "       2, 3, 2, 2, 4, 2, 1, 2, 3, 4, 4, 4, 4, 2, 1, 3, 2, 2, 4, 2, 2, 4,\n",
       "       2, 4, 2, 4, 2, 4, 4, 3, 2, 4, 4, 4, 2, 1, 4, 2, 3, 2, 4, 2, 2, 2,\n",
       "       1, 4, 1, 4, 2, 4, 4, 2, 1, 2, 1, 4, 4, 4, 3, 3, 4, 4, 2, 2, 4, 2,\n",
       "       4, 4, 2, 0, 0, 4, 1, 4, 2, 4, 4, 3, 4, 4, 3, 1, 0, 2, 1, 2, 2, 2,\n",
       "       1])"
      ]
     },
     "execution_count": 17,
     "metadata": {},
     "output_type": "execute_result"
    }
   ],
   "source": [
    "y_pred"
   ]
  }
 ],
 "metadata": {
  "kernelspec": {
   "display_name": "base",
   "language": "python",
   "name": "python3"
  },
  "language_info": {
   "codemirror_mode": {
    "name": "ipython",
    "version": 3
   },
   "file_extension": ".py",
   "mimetype": "text/x-python",
   "name": "python",
   "nbconvert_exporter": "python",
   "pygments_lexer": "ipython3",
   "version": "3.9.13"
  },
  "orig_nbformat": 4,
  "vscode": {
   "interpreter": {
    "hash": "8a34b3273de5bc47428473d2a098b2b644951547a78dfc045c680f0cd3ff6f5f"
   }
  }
 },
 "nbformat": 4,
 "nbformat_minor": 2
}
