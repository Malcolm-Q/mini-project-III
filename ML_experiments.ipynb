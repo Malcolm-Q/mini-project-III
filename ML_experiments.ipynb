{
 "cells": [
  {
   "cell_type": "code",
   "execution_count": 37,
   "metadata": {},
   "outputs": [],
   "source": [
    "import pandas as pd\n",
    "import numpy as np\n",
    "from sklearn.model_selection import train_test_split"
   ]
  },
  {
   "cell_type": "code",
   "execution_count": 38,
   "metadata": {},
   "outputs": [
    {
     "data": {
      "text/html": [
       "<div>\n",
       "<style scoped>\n",
       "    .dataframe tbody tr th:only-of-type {\n",
       "        vertical-align: middle;\n",
       "    }\n",
       "\n",
       "    .dataframe tbody tr th {\n",
       "        vertical-align: top;\n",
       "    }\n",
       "\n",
       "    .dataframe thead th {\n",
       "        text-align: right;\n",
       "    }\n",
       "</style>\n",
       "<table border=\"1\" class=\"dataframe\">\n",
       "  <thead>\n",
       "    <tr style=\"text-align: right;\">\n",
       "      <th></th>\n",
       "      <th>income</th>\n",
       "      <th>age</th>\n",
       "      <th>num_cred_trans</th>\n",
       "      <th>num_save_trans</th>\n",
       "      <th>num_cheq_trans</th>\n",
       "      <th>avg_cheq_amt</th>\n",
       "      <th>avg_save_amt</th>\n",
       "      <th>avg_cred_amt</th>\n",
       "      <th>money_gained</th>\n",
       "    </tr>\n",
       "  </thead>\n",
       "  <tbody>\n",
       "    <tr>\n",
       "      <th>0</th>\n",
       "      <td>50890.0</td>\n",
       "      <td>33.0</td>\n",
       "      <td>32.0</td>\n",
       "      <td>26.0</td>\n",
       "      <td>99.0</td>\n",
       "      <td>-2.474646</td>\n",
       "      <td>18.550769</td>\n",
       "      <td>60.895625</td>\n",
       "      <td>-450.503333</td>\n",
       "    </tr>\n",
       "  </tbody>\n",
       "</table>\n",
       "</div>"
      ],
      "text/plain": [
       "    income   age  num_cred_trans  num_save_trans  num_cheq_trans  \\\n",
       "0  50890.0  33.0            32.0            26.0            99.0   \n",
       "\n",
       "   avg_cheq_amt  avg_save_amt  avg_cred_amt  money_gained  \n",
       "0     -2.474646     18.550769     60.895625   -450.503333  "
      ]
     },
     "execution_count": 38,
     "metadata": {},
     "output_type": "execute_result"
    }
   ],
   "source": [
    "x = pd.read_feather('created_data/final_transaction_cluster.feather')\n",
    "y = x.cluster\n",
    "x.drop(['cust_id','cluster'],inplace=True,axis=1)\n",
    "x.head(1)"
   ]
  },
  {
   "cell_type": "code",
   "execution_count": 39,
   "metadata": {},
   "outputs": [],
   "source": [
    "x_train,x_test,y_train,y_test=train_test_split(x,y,test_size=0.2)"
   ]
  },
  {
   "cell_type": "code",
   "execution_count": 62,
   "metadata": {},
   "outputs": [
    {
     "name": "stdout",
     "output_type": "stream",
     "text": [
      "accuracy:  63.1578947368421\n"
     ]
    },
    {
     "name": "stderr",
     "output_type": "stream",
     "text": [
      "c:\\Users\\malco\\anaconda3\\lib\\site-packages\\sklearn\\linear_model\\_logistic.py:814: ConvergenceWarning: lbfgs failed to converge (status=1):\n",
      "STOP: TOTAL NO. of ITERATIONS REACHED LIMIT.\n",
      "\n",
      "Increase the number of iterations (max_iter) or scale the data as shown in:\n",
      "    https://scikit-learn.org/stable/modules/preprocessing.html\n",
      "Please also refer to the documentation for alternative solver options:\n",
      "    https://scikit-learn.org/stable/modules/linear_model.html#logistic-regression\n",
      "  n_iter_i = _check_optimize_result(\n"
     ]
    }
   ],
   "source": [
    "from sklearn.linear_model import LogisticRegression\n",
    "from sklearn.metrics import accuracy_score\n",
    "\n",
    "logistic_regression = LogisticRegression()\n",
    "logistic_regression.fit(x_train, y_train)\n",
    "y_pred = logistic_regression.predict(x_test)\n",
    "accuracy = accuracy_score(y_test, y_pred)\n",
    "\n",
    "print(\"accuracy: \", accuracy*100)"
   ]
  },
  {
   "cell_type": "code",
   "execution_count": 57,
   "metadata": {},
   "outputs": [
    {
     "data": {
      "text/plain": [
       "array([-1.30011450e-04, -5.69493236e-05,  1.62085005e-05,  4.72936024e-05,\n",
       "        1.23458671e-04])"
      ]
     },
     "execution_count": 57,
     "metadata": {},
     "output_type": "execute_result"
    }
   ],
   "source": [
    "logistic_regression.intercept_"
   ]
  },
  {
   "cell_type": "code",
   "execution_count": 59,
   "metadata": {},
   "outputs": [
    {
     "data": {
      "text/plain": [
       "array([[-1.67415842e-05, -4.64011721e-03, -4.65598287e-03,\n",
       "        -2.66269782e-03, -8.96894578e-03, -2.92500977e-05,\n",
       "        -3.91248690e-04, -6.00441358e-03, -1.85215079e-03],\n",
       "       [ 6.61608210e-05, -1.32811313e-03, -1.64645294e-03,\n",
       "        -2.02660136e-03, -1.83829200e-02,  2.15103215e-03,\n",
       "        -2.54949470e-03,  7.20708228e-03,  6.65964047e-04],\n",
       "       [ 4.16723506e-05,  8.69312973e-05,  1.11398695e-03,\n",
       "        -5.68987739e-03,  1.04996309e-02,  1.04839577e-03,\n",
       "        -3.17002623e-03, -5.02699259e-04, -1.50352385e-04],\n",
       "       [-8.24625881e-05, -4.14101014e-04, -1.24260119e-03,\n",
       "         1.80025437e-03, -3.76876464e-03,  2.02894984e-04,\n",
       "         8.80034192e-04,  1.97080364e-03,  1.39844775e-03],\n",
       "       [-8.62899937e-06,  6.29540006e-03,  6.43105005e-03,\n",
       "         8.57892220e-03,  2.06209995e-02, -3.37307280e-03,\n",
       "         5.23073542e-03, -2.67077308e-03, -6.19086173e-05]])"
      ]
     },
     "execution_count": 59,
     "metadata": {},
     "output_type": "execute_result"
    }
   ],
   "source": [
    "logistic_regression.coef_"
   ]
  },
  {
   "cell_type": "code",
   "execution_count": 65,
   "metadata": {},
   "outputs": [
    {
     "data": {
      "text/plain": [
       "array([0, 4, 2, 1, 4, 1, 4, 4, 0, 1, 0, 1, 4, 4, 2, 2, 1, 1, 4, 4, 4, 4,\n",
       "       2, 0, 4, 1, 1, 2, 1, 2, 4, 4, 0, 4, 4, 2, 1, 4, 4, 4, 4, 2, 4, 4,\n",
       "       4, 4, 0, 4, 4, 2, 0, 4, 2, 4, 4, 1, 2, 3, 4, 1, 1, 4, 0, 0, 4, 4,\n",
       "       4, 1, 0, 4, 4, 4, 4, 4, 4, 4, 0, 4, 4, 4, 4, 4, 1, 4, 4, 4, 2, 4,\n",
       "       2, 3, 3, 4, 4, 1, 4, 0, 1, 2, 4, 4, 4, 4, 0, 0, 0, 4, 3, 4, 4, 4,\n",
       "       4, 4, 4, 4, 1, 4, 1, 4, 4, 4, 3, 4, 4, 4, 4, 4, 1, 4, 4, 4, 0, 2,\n",
       "       4])"
      ]
     },
     "execution_count": 65,
     "metadata": {},
     "output_type": "execute_result"
    }
   ],
   "source": [
    "y_pred"
   ]
  },
  {
   "cell_type": "code",
   "execution_count": 96,
   "metadata": {},
   "outputs": [],
   "source": [
    "coef = logistic_regression.coef_\n",
    "\n",
    "z = np.dot(x_test, coef.T)\n",
    "\n",
    "z += logistic_regression.intercept_"
   ]
  },
  {
   "cell_type": "code",
   "execution_count": 105,
   "metadata": {},
   "outputs": [
    {
     "data": {
      "text/plain": [
       "array([0, 4, 2, 1, 4, 1, 4, 4, 0, 1, 0, 1, 4, 4, 2, 2, 1, 1, 4, 4, 4, 4,\n",
       "       2, 0, 4, 1, 1, 2, 1, 2, 4, 4, 0, 4, 4, 2, 1, 4, 4, 4, 4, 2, 4, 4,\n",
       "       4, 4, 0, 4, 4, 2, 0, 4, 2, 4, 4, 1, 2, 3, 4, 1, 1, 4, 0, 0, 4, 4,\n",
       "       4, 1, 0, 4, 4, 4, 4, 4, 4, 4, 0, 4, 4, 4, 4, 4, 1, 4, 4, 4, 2, 4,\n",
       "       2, 3, 3, 4, 4, 1, 4, 0, 1, 2, 4, 4, 4, 4, 0, 0, 0, 4, 3, 4, 4, 4,\n",
       "       4, 4, 4, 4, 1, 4, 1, 4, 4, 4, 3, 4, 4, 4, 4, 4, 1, 4, 4, 4, 0, 2,\n",
       "       4], dtype=int64)"
      ]
     },
     "execution_count": 105,
     "metadata": {},
     "output_type": "execute_result"
    }
   ],
   "source": [
    "np.argmax(z,axis=1)"
   ]
  },
  {
   "cell_type": "code",
   "execution_count": 109,
   "metadata": {},
   "outputs": [
    {
     "data": {
      "text/plain": [
       "array([ 5.259428  , -3.42102193,  2.6412508 , -7.38767275,  2.90801587])"
      ]
     },
     "execution_count": 109,
     "metadata": {},
     "output_type": "execute_result"
    }
   ],
   "source": [
    "z[0]"
   ]
  },
  {
   "cell_type": "code",
   "execution_count": 107,
   "metadata": {},
   "outputs": [
    {
     "data": {
      "text/plain": [
       "array([9.94828605e-01, 3.16448979e-02, 9.33469686e-01, 6.18451744e-04,\n",
       "       9.48241271e-01])"
      ]
     },
     "execution_count": 107,
     "metadata": {},
     "output_type": "execute_result"
    }
   ],
   "source": [
    "probs = 1 / (1 + np.exp(-z))\n",
    "probs[0]"
   ]
  },
  {
   "cell_type": "code",
   "execution_count": 88,
   "metadata": {},
   "outputs": [
    {
     "data": {
      "text/plain": [
       "array([0, 4, 2, 1, 4, 1, 4, 4, 0, 1, 0, 1, 4, 4, 2, 2, 1, 1, 4, 4, 4, 4,\n",
       "       2, 0, 4, 1, 1, 2, 1, 2, 4, 4, 0, 4, 4, 2, 1, 4, 4, 4, 4, 2, 4, 4,\n",
       "       4, 4, 0, 4, 4, 2, 0, 4, 2, 4, 4, 1, 2, 3, 4, 1, 1, 4, 0, 0, 4, 4,\n",
       "       4, 1, 0, 4, 4, 4, 4, 4, 4, 4, 0, 4, 4, 4, 4, 4, 1, 4, 4, 4, 2, 4,\n",
       "       2, 3, 3, 4, 4, 1, 4, 0, 1, 2, 4, 4, 4, 4, 0, 0, 0, 4, 3, 4, 4, 4,\n",
       "       4, 4, 4, 4, 1, 4, 1, 4, 4, 4, 3, 4, 4, 4, 4, 4, 1, 4, 4, 4, 0, 2,\n",
       "       4], dtype=int64)"
      ]
     },
     "execution_count": 88,
     "metadata": {},
     "output_type": "execute_result"
    }
   ],
   "source": [
    "y_pred = np.argmax(probs, axis=1)\n",
    "y_pred"
   ]
  },
  {
   "cell_type": "code",
   "execution_count": 42,
   "metadata": {},
   "outputs": [
    {
     "name": "stdout",
     "output_type": "stream",
     "text": [
      "accuracy: 93.98496240601504%\n"
     ]
    }
   ],
   "source": [
    "import pandas as pd\n",
    "import numpy as np\n",
    "from sklearn.model_selection import train_test_split\n",
    "from sklearn.ensemble import RandomForestClassifier\n",
    "from sklearn.metrics import accuracy_score\n",
    "\n",
    "# load data\n",
    "x = pd.read_feather('created_data/final_transaction_cluster.feather')\n",
    "y = x.cluster\n",
    "x.drop(['cust_id','cluster'],inplace=True,axis=1)\n",
    "\n",
    "# split\n",
    "x_train,x_test,y_train,y_test=train_test_split(x,y,test_size=0.2)\n",
    "\n",
    "rand_forest = RandomForestClassifier().fit(x_train, y_train)\n",
    "\n",
    "y_pred = rand_forest.predict(x_test)\n",
    "\n",
    "accuracy = accuracy_score(y_test, y_pred)\n",
    "\n",
    "print('accuracy: ' + str(accuracy*100) + '%')"
   ]
  },
  {
   "cell_type": "code",
   "execution_count": 43,
   "metadata": {},
   "outputs": [
    {
     "data": {
      "text/plain": [
       "array([0.06004063, 0.08077949, 0.03625793, 0.27258364, 0.2359054 ,\n",
       "       0.09451042, 0.08854979, 0.02118138, 0.11019132])"
      ]
     },
     "execution_count": 43,
     "metadata": {},
     "output_type": "execute_result"
    }
   ],
   "source": [
    "rand_forest.feature_importances_"
   ]
  },
  {
   "cell_type": "code",
   "execution_count": null,
   "metadata": {},
   "outputs": [
    {
     "data": {
      "text/plain": [
       "array([3, 4, 4, 4, 4, 1, 1, 2, 2, 3, 2, 4, 1, 1, 4, 2, 4, 1, 2, 4, 1, 4,\n",
       "       3, 3, 4, 4, 2, 4, 2, 2, 4, 4, 4, 2, 4, 2, 3, 4, 2, 2, 3, 1, 1, 2,\n",
       "       2, 4, 1, 2, 4, 2, 1, 2, 2, 2, 2, 0, 1, 3, 4, 1, 2, 4, 4, 4, 4, 1,\n",
       "       4, 4, 4, 1, 4, 0, 2, 2, 2, 3, 4, 2, 4, 1, 1, 1, 0, 1, 3, 4, 2, 2,\n",
       "       4, 4, 0, 2, 1, 2, 2, 4, 1, 0, 4, 1, 4, 0, 0, 1, 4, 2, 1, 4, 1, 4,\n",
       "       4, 2, 2, 4, 1, 4, 2, 0, 1, 4, 2, 1, 2, 4, 4, 3, 2, 2, 1, 2, 4, 4,\n",
       "       2])"
      ]
     },
     "execution_count": 18,
     "metadata": {},
     "output_type": "execute_result"
    }
   ],
   "source": [
    "y_pred"
   ]
  }
 ],
 "metadata": {
  "kernelspec": {
   "display_name": "base",
   "language": "python",
   "name": "python3"
  },
  "language_info": {
   "codemirror_mode": {
    "name": "ipython",
    "version": 3
   },
   "file_extension": ".py",
   "mimetype": "text/x-python",
   "name": "python",
   "nbconvert_exporter": "python",
   "pygments_lexer": "ipython3",
   "version": "3.9.13"
  },
  "orig_nbformat": 4,
  "vscode": {
   "interpreter": {
    "hash": "8a34b3273de5bc47428473d2a098b2b644951547a78dfc045c680f0cd3ff6f5f"
   }
  }
 },
 "nbformat": 4,
 "nbformat_minor": 2
}
