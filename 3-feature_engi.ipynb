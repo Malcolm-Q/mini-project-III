{
 "cells": [
  {
   "cell_type": "code",
   "execution_count": 1261,
   "metadata": {},
   "outputs": [],
   "source": [
    "import numpy as np\n",
    "import plotly.express as px\n",
    "import matplotlib.pyplot as plt\n",
    "import pandas as pd\n",
    "import seaborn as sns"
   ]
  },
  {
   "cell_type": "code",
   "execution_count": 1262,
   "metadata": {},
   "outputs": [],
   "source": [
    "# root dfs\n",
    "cust = pd.read_feather('created_data/customer.feather')\n",
    "acc = pd.read_feather('created_data/account.feather')\n",
    "tran = pd.read_feather('created_data/transactions.feather')\n",
    "\n",
    "\n",
    "#account info\n",
    "acc_cheq = pd.read_feather('created_data/account_checking.feather')\n",
    "acc_cred = pd.read_feather('created_data/account_credit.feather')\n",
    "acc_save = pd.read_feather('created_data/account_saving.feather')\n",
    "\n",
    "#transaction info\n",
    "tran_cheq = pd.read_feather('created_data/transaction_checking.feather')\n",
    "tran_cred = pd.read_feather('created_data/transaction_credit.feather')\n",
    "tran_save = pd.read_feather('created_data/transaction_saving.feather')\n"
   ]
  },
  {
   "attachments": {},
   "cell_type": "markdown",
   "metadata": {},
   "source": [
    "# <u>Feature Engi - Customer Cluster</u>"
   ]
  },
  {
   "cell_type": "code",
   "execution_count": 1263,
   "metadata": {},
   "outputs": [
    {
     "data": {
      "text/html": [
       "<div>\n",
       "<style scoped>\n",
       "    .dataframe tbody tr th:only-of-type {\n",
       "        vertical-align: middle;\n",
       "    }\n",
       "\n",
       "    .dataframe tbody tr th {\n",
       "        vertical-align: top;\n",
       "    }\n",
       "\n",
       "    .dataframe thead th {\n",
       "        text-align: right;\n",
       "    }\n",
       "</style>\n",
       "<table border=\"1\" class=\"dataframe\">\n",
       "  <thead>\n",
       "    <tr style=\"text-align: right;\">\n",
       "      <th></th>\n",
       "      <th>cust_id</th>\n",
       "      <th>income</th>\n",
       "      <th>age</th>\n",
       "      <th>years_with_bank</th>\n",
       "      <th>nbr_children</th>\n",
       "      <th>gender</th>\n",
       "      <th>marital_status</th>\n",
       "      <th>name_prefix</th>\n",
       "      <th>postal_code</th>\n",
       "      <th>city_name</th>\n",
       "      <th>state_code</th>\n",
       "    </tr>\n",
       "  </thead>\n",
       "  <tbody>\n",
       "    <tr>\n",
       "      <th>0</th>\n",
       "      <td>1362691</td>\n",
       "      <td>26150</td>\n",
       "      <td>46</td>\n",
       "      <td>5</td>\n",
       "      <td>1</td>\n",
       "      <td>M</td>\n",
       "      <td>2</td>\n",
       "      <td></td>\n",
       "      <td>89194</td>\n",
       "      <td>Las Vegas</td>\n",
       "      <td>NV</td>\n",
       "    </tr>\n",
       "    <tr>\n",
       "      <th>1</th>\n",
       "      <td>1362487</td>\n",
       "      <td>6605</td>\n",
       "      <td>71</td>\n",
       "      <td>1</td>\n",
       "      <td>0</td>\n",
       "      <td>M</td>\n",
       "      <td>2</td>\n",
       "      <td></td>\n",
       "      <td>90159</td>\n",
       "      <td>Los Angeles</td>\n",
       "      <td>CA</td>\n",
       "    </tr>\n",
       "    <tr>\n",
       "      <th>2</th>\n",
       "      <td>1363160</td>\n",
       "      <td>18548</td>\n",
       "      <td>38</td>\n",
       "      <td>8</td>\n",
       "      <td>0</td>\n",
       "      <td>F</td>\n",
       "      <td>1</td>\n",
       "      <td></td>\n",
       "      <td>90024</td>\n",
       "      <td>Los Angeles</td>\n",
       "      <td>CA</td>\n",
       "    </tr>\n",
       "    <tr>\n",
       "      <th>3</th>\n",
       "      <td>1362752</td>\n",
       "      <td>47668</td>\n",
       "      <td>54</td>\n",
       "      <td>3</td>\n",
       "      <td>0</td>\n",
       "      <td>F</td>\n",
       "      <td>1</td>\n",
       "      <td></td>\n",
       "      <td>90172</td>\n",
       "      <td>Los Angeles</td>\n",
       "      <td>CA</td>\n",
       "    </tr>\n",
       "    <tr>\n",
       "      <th>4</th>\n",
       "      <td>1362548</td>\n",
       "      <td>44554</td>\n",
       "      <td>59</td>\n",
       "      <td>9</td>\n",
       "      <td>2</td>\n",
       "      <td>F</td>\n",
       "      <td>4</td>\n",
       "      <td></td>\n",
       "      <td>10138</td>\n",
       "      <td>New York City</td>\n",
       "      <td>NY</td>\n",
       "    </tr>\n",
       "    <tr>\n",
       "      <th>...</th>\n",
       "      <td>...</td>\n",
       "      <td>...</td>\n",
       "      <td>...</td>\n",
       "      <td>...</td>\n",
       "      <td>...</td>\n",
       "      <td>...</td>\n",
       "      <td>...</td>\n",
       "      <td>...</td>\n",
       "      <td>...</td>\n",
       "      <td>...</td>\n",
       "      <td>...</td>\n",
       "    </tr>\n",
       "    <tr>\n",
       "      <th>742</th>\n",
       "      <td>1363324</td>\n",
       "      <td>14795</td>\n",
       "      <td>36</td>\n",
       "      <td>6</td>\n",
       "      <td>1</td>\n",
       "      <td>F</td>\n",
       "      <td>4</td>\n",
       "      <td></td>\n",
       "      <td>90016</td>\n",
       "      <td>Los Angeles</td>\n",
       "      <td>CA</td>\n",
       "    </tr>\n",
       "    <tr>\n",
       "      <th>743</th>\n",
       "      <td>1362895</td>\n",
       "      <td>26387</td>\n",
       "      <td>56</td>\n",
       "      <td>6</td>\n",
       "      <td>1</td>\n",
       "      <td>M</td>\n",
       "      <td>2</td>\n",
       "      <td></td>\n",
       "      <td>10126</td>\n",
       "      <td>New York City</td>\n",
       "      <td>NY</td>\n",
       "    </tr>\n",
       "    <tr>\n",
       "      <th>744</th>\n",
       "      <td>1362569</td>\n",
       "      <td>61300</td>\n",
       "      <td>50</td>\n",
       "      <td>0</td>\n",
       "      <td>2</td>\n",
       "      <td>M</td>\n",
       "      <td>2</td>\n",
       "      <td></td>\n",
       "      <td>87194</td>\n",
       "      <td>Albuquerque</td>\n",
       "      <td>NM</td>\n",
       "    </tr>\n",
       "    <tr>\n",
       "      <th>745</th>\n",
       "      <td>1363364</td>\n",
       "      <td>15100</td>\n",
       "      <td>37</td>\n",
       "      <td>7</td>\n",
       "      <td>0</td>\n",
       "      <td>F</td>\n",
       "      <td>2</td>\n",
       "      <td></td>\n",
       "      <td>35241</td>\n",
       "      <td>Birmingham</td>\n",
       "      <td>AL</td>\n",
       "    </tr>\n",
       "    <tr>\n",
       "      <th>746</th>\n",
       "      <td>1363303</td>\n",
       "      <td>17875</td>\n",
       "      <td>18</td>\n",
       "      <td>3</td>\n",
       "      <td>0</td>\n",
       "      <td>F</td>\n",
       "      <td>1</td>\n",
       "      <td></td>\n",
       "      <td>90029</td>\n",
       "      <td>Los Angeles</td>\n",
       "      <td>CA</td>\n",
       "    </tr>\n",
       "  </tbody>\n",
       "</table>\n",
       "<p>747 rows × 11 columns</p>\n",
       "</div>"
      ],
      "text/plain": [
       "     cust_id  income  age  years_with_bank  nbr_children gender  \\\n",
       "0    1362691   26150   46                5             1      M   \n",
       "1    1362487    6605   71                1             0      M   \n",
       "2    1363160   18548   38                8             0      F   \n",
       "3    1362752   47668   54                3             0      F   \n",
       "4    1362548   44554   59                9             2      F   \n",
       "..       ...     ...  ...              ...           ...    ...   \n",
       "742  1363324   14795   36                6             1      F   \n",
       "743  1362895   26387   56                6             1      M   \n",
       "744  1362569   61300   50                0             2      M   \n",
       "745  1363364   15100   37                7             0      F   \n",
       "746  1363303   17875   18                3             0      F   \n",
       "\n",
       "     marital_status name_prefix  postal_code      city_name state_code  \n",
       "0                 2                    89194      Las Vegas         NV  \n",
       "1                 2                    90159    Los Angeles         CA  \n",
       "2                 1                    90024    Los Angeles         CA  \n",
       "3                 1                    90172    Los Angeles         CA  \n",
       "4                 4                    10138  New York City         NY  \n",
       "..              ...         ...          ...            ...        ...  \n",
       "742               4                    90016    Los Angeles         CA  \n",
       "743               2                    10126  New York City         NY  \n",
       "744               2                    87194    Albuquerque         NM  \n",
       "745               2                    35241     Birmingham         AL  \n",
       "746               1                    90029    Los Angeles         CA  \n",
       "\n",
       "[747 rows x 11 columns]"
      ]
     },
     "execution_count": 1263,
     "metadata": {},
     "output_type": "execute_result"
    }
   ],
   "source": [
    "cust"
   ]
  },
  {
   "attachments": {},
   "cell_type": "markdown",
   "metadata": {},
   "source": [
    "first cluster, 4d before dummies"
   ]
  },
  {
   "cell_type": "code",
   "execution_count": 1264,
   "metadata": {},
   "outputs": [],
   "source": [
    "clust_1 = cust[['income','age','gender','state_code']]"
   ]
  },
  {
   "attachments": {},
   "cell_type": "markdown",
   "metadata": {},
   "source": [
    "convert to dummies and clean a bit"
   ]
  },
  {
   "cell_type": "code",
   "execution_count": 1265,
   "metadata": {},
   "outputs": [
    {
     "name": "stderr",
     "output_type": "stream",
     "text": [
      "C:\\Users\\malco\\AppData\\Local\\Temp\\ipykernel_17664\\4042773886.py:2: SettingWithCopyWarning:\n",
      "\n",
      "\n",
      "A value is trying to be set on a copy of a slice from a DataFrame.\n",
      "Try using .loc[row_indexer,col_indexer] = value instead\n",
      "\n",
      "See the caveats in the documentation: https://pandas.pydata.org/pandas-docs/stable/user_guide/indexing.html#returning-a-view-versus-a-copy\n",
      "\n"
     ]
    }
   ],
   "source": [
    "# simple boolean dummy for gender\n",
    "clust_1['gender_dummy'] = clust_1['gender'].replace({'M':1,'F':0})\n",
    "\n",
    "# expand state dummy into boolean dummy\n",
    "df_dummy = pd.get_dummies(clust_1['state_code'])\n",
    "\n",
    "# concat and drop old dummies\n",
    "clust_1 = pd.concat([clust_1,df_dummy], axis=1)\n",
    "clust_1 = clust_1.drop(['gender','state_code'],axis=1)\n",
    "\n",
    "\n",
    "# People under 18 have no income, can't get credit cards and are not valuable to our data.\n",
    "clust_1 = clust_1[clust_1['age'] > 18]"
   ]
  },
  {
   "cell_type": "code",
   "execution_count": 1266,
   "metadata": {},
   "outputs": [
    {
     "data": {
      "application/vnd.plotly.v1+json": {
       "config": {
        "plotlyServerURL": "https://plot.ly"
       },
       "data": [
        {
         "hovertemplate": "x=%{x}<br>y=%{y}<extra></extra>",
         "legendgroup": "",
         "marker": {
          "color": "#636efa",
          "symbol": "circle"
         },
         "mode": "markers",
         "name": "",
         "orientation": "v",
         "showlegend": false,
         "type": "scatter",
         "x": [
          10992,
          3339,
          15472.5,
          10839.75,
          12952.125,
          20660,
          16485,
          8689.75,
          11786.166666666666,
          9376.9,
          11078.90909090909,
          31211.333333333332,
          29937.384615384617,
          28466.30769230769,
          24712.933333333334,
          25110.333333333332,
          32831.92307692308,
          32393.9375,
          28058.777777777777,
          25089.81818181818,
          27081.5,
          32004.88888888889,
          28576.41176470588,
          27727.5,
          49542.916666666664,
          27547.923076923078,
          24676.666666666668,
          29766.315789473683,
          33792.875,
          31374.75,
          27782.454545454544,
          40596.10526315789,
          36182.11111111111,
          41316.357142857145,
          37192.57142857143,
          48051.833333333336,
          43151,
          43832.666666666664,
          46512.17647058824,
          59940.916666666664,
          38209.22222222222,
          17019.454545454544,
          9877.57142857143,
          19454.666666666668,
          15621.333333333334,
          20910.444444444445,
          14937.7,
          15527,
          21003.333333333332,
          20482.5,
          19429.545454545456,
          14804.4,
          5165.5,
          11795,
          15938,
          12151.4,
          18635,
          12301,
          11661.166666666666,
          4626,
          6110.2,
          6530.75,
          12544,
          6476,
          5566,
          6446,
          12033,
          8961,
          3994,
          8196.333333333334,
          7209
         ],
         "xaxis": "x",
         "y": [
          19,
          20,
          21,
          22,
          23,
          24,
          25,
          26,
          27,
          28,
          29,
          30,
          31,
          32,
          33,
          34,
          35,
          36,
          37,
          38,
          39,
          40,
          41,
          42,
          43,
          44,
          45,
          46,
          47,
          48,
          49,
          50,
          51,
          52,
          53,
          54,
          55,
          56,
          57,
          58,
          59,
          60,
          61,
          62,
          63,
          64,
          65,
          66,
          67,
          68,
          69,
          70,
          71,
          72,
          73,
          74,
          75,
          76,
          77,
          78,
          79,
          80,
          81,
          82,
          83,
          84,
          85,
          86,
          87,
          88,
          89
         ],
         "yaxis": "y"
        }
       ],
       "layout": {
        "legend": {
         "tracegroupgap": 0
        },
        "margin": {
         "t": 60
        },
        "template": {
         "data": {
          "bar": [
           {
            "error_x": {
             "color": "#2a3f5f"
            },
            "error_y": {
             "color": "#2a3f5f"
            },
            "marker": {
             "line": {
              "color": "#E5ECF6",
              "width": 0.5
             },
             "pattern": {
              "fillmode": "overlay",
              "size": 10,
              "solidity": 0.2
             }
            },
            "type": "bar"
           }
          ],
          "barpolar": [
           {
            "marker": {
             "line": {
              "color": "#E5ECF6",
              "width": 0.5
             },
             "pattern": {
              "fillmode": "overlay",
              "size": 10,
              "solidity": 0.2
             }
            },
            "type": "barpolar"
           }
          ],
          "carpet": [
           {
            "aaxis": {
             "endlinecolor": "#2a3f5f",
             "gridcolor": "white",
             "linecolor": "white",
             "minorgridcolor": "white",
             "startlinecolor": "#2a3f5f"
            },
            "baxis": {
             "endlinecolor": "#2a3f5f",
             "gridcolor": "white",
             "linecolor": "white",
             "minorgridcolor": "white",
             "startlinecolor": "#2a3f5f"
            },
            "type": "carpet"
           }
          ],
          "choropleth": [
           {
            "colorbar": {
             "outlinewidth": 0,
             "ticks": ""
            },
            "type": "choropleth"
           }
          ],
          "contour": [
           {
            "colorbar": {
             "outlinewidth": 0,
             "ticks": ""
            },
            "colorscale": [
             [
              0,
              "#0d0887"
             ],
             [
              0.1111111111111111,
              "#46039f"
             ],
             [
              0.2222222222222222,
              "#7201a8"
             ],
             [
              0.3333333333333333,
              "#9c179e"
             ],
             [
              0.4444444444444444,
              "#bd3786"
             ],
             [
              0.5555555555555556,
              "#d8576b"
             ],
             [
              0.6666666666666666,
              "#ed7953"
             ],
             [
              0.7777777777777778,
              "#fb9f3a"
             ],
             [
              0.8888888888888888,
              "#fdca26"
             ],
             [
              1,
              "#f0f921"
             ]
            ],
            "type": "contour"
           }
          ],
          "contourcarpet": [
           {
            "colorbar": {
             "outlinewidth": 0,
             "ticks": ""
            },
            "type": "contourcarpet"
           }
          ],
          "heatmap": [
           {
            "colorbar": {
             "outlinewidth": 0,
             "ticks": ""
            },
            "colorscale": [
             [
              0,
              "#0d0887"
             ],
             [
              0.1111111111111111,
              "#46039f"
             ],
             [
              0.2222222222222222,
              "#7201a8"
             ],
             [
              0.3333333333333333,
              "#9c179e"
             ],
             [
              0.4444444444444444,
              "#bd3786"
             ],
             [
              0.5555555555555556,
              "#d8576b"
             ],
             [
              0.6666666666666666,
              "#ed7953"
             ],
             [
              0.7777777777777778,
              "#fb9f3a"
             ],
             [
              0.8888888888888888,
              "#fdca26"
             ],
             [
              1,
              "#f0f921"
             ]
            ],
            "type": "heatmap"
           }
          ],
          "heatmapgl": [
           {
            "colorbar": {
             "outlinewidth": 0,
             "ticks": ""
            },
            "colorscale": [
             [
              0,
              "#0d0887"
             ],
             [
              0.1111111111111111,
              "#46039f"
             ],
             [
              0.2222222222222222,
              "#7201a8"
             ],
             [
              0.3333333333333333,
              "#9c179e"
             ],
             [
              0.4444444444444444,
              "#bd3786"
             ],
             [
              0.5555555555555556,
              "#d8576b"
             ],
             [
              0.6666666666666666,
              "#ed7953"
             ],
             [
              0.7777777777777778,
              "#fb9f3a"
             ],
             [
              0.8888888888888888,
              "#fdca26"
             ],
             [
              1,
              "#f0f921"
             ]
            ],
            "type": "heatmapgl"
           }
          ],
          "histogram": [
           {
            "marker": {
             "pattern": {
              "fillmode": "overlay",
              "size": 10,
              "solidity": 0.2
             }
            },
            "type": "histogram"
           }
          ],
          "histogram2d": [
           {
            "colorbar": {
             "outlinewidth": 0,
             "ticks": ""
            },
            "colorscale": [
             [
              0,
              "#0d0887"
             ],
             [
              0.1111111111111111,
              "#46039f"
             ],
             [
              0.2222222222222222,
              "#7201a8"
             ],
             [
              0.3333333333333333,
              "#9c179e"
             ],
             [
              0.4444444444444444,
              "#bd3786"
             ],
             [
              0.5555555555555556,
              "#d8576b"
             ],
             [
              0.6666666666666666,
              "#ed7953"
             ],
             [
              0.7777777777777778,
              "#fb9f3a"
             ],
             [
              0.8888888888888888,
              "#fdca26"
             ],
             [
              1,
              "#f0f921"
             ]
            ],
            "type": "histogram2d"
           }
          ],
          "histogram2dcontour": [
           {
            "colorbar": {
             "outlinewidth": 0,
             "ticks": ""
            },
            "colorscale": [
             [
              0,
              "#0d0887"
             ],
             [
              0.1111111111111111,
              "#46039f"
             ],
             [
              0.2222222222222222,
              "#7201a8"
             ],
             [
              0.3333333333333333,
              "#9c179e"
             ],
             [
              0.4444444444444444,
              "#bd3786"
             ],
             [
              0.5555555555555556,
              "#d8576b"
             ],
             [
              0.6666666666666666,
              "#ed7953"
             ],
             [
              0.7777777777777778,
              "#fb9f3a"
             ],
             [
              0.8888888888888888,
              "#fdca26"
             ],
             [
              1,
              "#f0f921"
             ]
            ],
            "type": "histogram2dcontour"
           }
          ],
          "mesh3d": [
           {
            "colorbar": {
             "outlinewidth": 0,
             "ticks": ""
            },
            "type": "mesh3d"
           }
          ],
          "parcoords": [
           {
            "line": {
             "colorbar": {
              "outlinewidth": 0,
              "ticks": ""
             }
            },
            "type": "parcoords"
           }
          ],
          "pie": [
           {
            "automargin": true,
            "type": "pie"
           }
          ],
          "scatter": [
           {
            "fillpattern": {
             "fillmode": "overlay",
             "size": 10,
             "solidity": 0.2
            },
            "type": "scatter"
           }
          ],
          "scatter3d": [
           {
            "line": {
             "colorbar": {
              "outlinewidth": 0,
              "ticks": ""
             }
            },
            "marker": {
             "colorbar": {
              "outlinewidth": 0,
              "ticks": ""
             }
            },
            "type": "scatter3d"
           }
          ],
          "scattercarpet": [
           {
            "marker": {
             "colorbar": {
              "outlinewidth": 0,
              "ticks": ""
             }
            },
            "type": "scattercarpet"
           }
          ],
          "scattergeo": [
           {
            "marker": {
             "colorbar": {
              "outlinewidth": 0,
              "ticks": ""
             }
            },
            "type": "scattergeo"
           }
          ],
          "scattergl": [
           {
            "marker": {
             "colorbar": {
              "outlinewidth": 0,
              "ticks": ""
             }
            },
            "type": "scattergl"
           }
          ],
          "scattermapbox": [
           {
            "marker": {
             "colorbar": {
              "outlinewidth": 0,
              "ticks": ""
             }
            },
            "type": "scattermapbox"
           }
          ],
          "scatterpolar": [
           {
            "marker": {
             "colorbar": {
              "outlinewidth": 0,
              "ticks": ""
             }
            },
            "type": "scatterpolar"
           }
          ],
          "scatterpolargl": [
           {
            "marker": {
             "colorbar": {
              "outlinewidth": 0,
              "ticks": ""
             }
            },
            "type": "scatterpolargl"
           }
          ],
          "scatterternary": [
           {
            "marker": {
             "colorbar": {
              "outlinewidth": 0,
              "ticks": ""
             }
            },
            "type": "scatterternary"
           }
          ],
          "surface": [
           {
            "colorbar": {
             "outlinewidth": 0,
             "ticks": ""
            },
            "colorscale": [
             [
              0,
              "#0d0887"
             ],
             [
              0.1111111111111111,
              "#46039f"
             ],
             [
              0.2222222222222222,
              "#7201a8"
             ],
             [
              0.3333333333333333,
              "#9c179e"
             ],
             [
              0.4444444444444444,
              "#bd3786"
             ],
             [
              0.5555555555555556,
              "#d8576b"
             ],
             [
              0.6666666666666666,
              "#ed7953"
             ],
             [
              0.7777777777777778,
              "#fb9f3a"
             ],
             [
              0.8888888888888888,
              "#fdca26"
             ],
             [
              1,
              "#f0f921"
             ]
            ],
            "type": "surface"
           }
          ],
          "table": [
           {
            "cells": {
             "fill": {
              "color": "#EBF0F8"
             },
             "line": {
              "color": "white"
             }
            },
            "header": {
             "fill": {
              "color": "#C8D4E3"
             },
             "line": {
              "color": "white"
             }
            },
            "type": "table"
           }
          ]
         },
         "layout": {
          "annotationdefaults": {
           "arrowcolor": "#2a3f5f",
           "arrowhead": 0,
           "arrowwidth": 1
          },
          "autotypenumbers": "strict",
          "coloraxis": {
           "colorbar": {
            "outlinewidth": 0,
            "ticks": ""
           }
          },
          "colorscale": {
           "diverging": [
            [
             0,
             "#8e0152"
            ],
            [
             0.1,
             "#c51b7d"
            ],
            [
             0.2,
             "#de77ae"
            ],
            [
             0.3,
             "#f1b6da"
            ],
            [
             0.4,
             "#fde0ef"
            ],
            [
             0.5,
             "#f7f7f7"
            ],
            [
             0.6,
             "#e6f5d0"
            ],
            [
             0.7,
             "#b8e186"
            ],
            [
             0.8,
             "#7fbc41"
            ],
            [
             0.9,
             "#4d9221"
            ],
            [
             1,
             "#276419"
            ]
           ],
           "sequential": [
            [
             0,
             "#0d0887"
            ],
            [
             0.1111111111111111,
             "#46039f"
            ],
            [
             0.2222222222222222,
             "#7201a8"
            ],
            [
             0.3333333333333333,
             "#9c179e"
            ],
            [
             0.4444444444444444,
             "#bd3786"
            ],
            [
             0.5555555555555556,
             "#d8576b"
            ],
            [
             0.6666666666666666,
             "#ed7953"
            ],
            [
             0.7777777777777778,
             "#fb9f3a"
            ],
            [
             0.8888888888888888,
             "#fdca26"
            ],
            [
             1,
             "#f0f921"
            ]
           ],
           "sequentialminus": [
            [
             0,
             "#0d0887"
            ],
            [
             0.1111111111111111,
             "#46039f"
            ],
            [
             0.2222222222222222,
             "#7201a8"
            ],
            [
             0.3333333333333333,
             "#9c179e"
            ],
            [
             0.4444444444444444,
             "#bd3786"
            ],
            [
             0.5555555555555556,
             "#d8576b"
            ],
            [
             0.6666666666666666,
             "#ed7953"
            ],
            [
             0.7777777777777778,
             "#fb9f3a"
            ],
            [
             0.8888888888888888,
             "#fdca26"
            ],
            [
             1,
             "#f0f921"
            ]
           ]
          },
          "colorway": [
           "#636efa",
           "#EF553B",
           "#00cc96",
           "#ab63fa",
           "#FFA15A",
           "#19d3f3",
           "#FF6692",
           "#B6E880",
           "#FF97FF",
           "#FECB52"
          ],
          "font": {
           "color": "#2a3f5f"
          },
          "geo": {
           "bgcolor": "white",
           "lakecolor": "white",
           "landcolor": "#E5ECF6",
           "showlakes": true,
           "showland": true,
           "subunitcolor": "white"
          },
          "hoverlabel": {
           "align": "left"
          },
          "hovermode": "closest",
          "mapbox": {
           "style": "light"
          },
          "paper_bgcolor": "white",
          "plot_bgcolor": "#E5ECF6",
          "polar": {
           "angularaxis": {
            "gridcolor": "white",
            "linecolor": "white",
            "ticks": ""
           },
           "bgcolor": "#E5ECF6",
           "radialaxis": {
            "gridcolor": "white",
            "linecolor": "white",
            "ticks": ""
           }
          },
          "scene": {
           "xaxis": {
            "backgroundcolor": "#E5ECF6",
            "gridcolor": "white",
            "gridwidth": 2,
            "linecolor": "white",
            "showbackground": true,
            "ticks": "",
            "zerolinecolor": "white"
           },
           "yaxis": {
            "backgroundcolor": "#E5ECF6",
            "gridcolor": "white",
            "gridwidth": 2,
            "linecolor": "white",
            "showbackground": true,
            "ticks": "",
            "zerolinecolor": "white"
           },
           "zaxis": {
            "backgroundcolor": "#E5ECF6",
            "gridcolor": "white",
            "gridwidth": 2,
            "linecolor": "white",
            "showbackground": true,
            "ticks": "",
            "zerolinecolor": "white"
           }
          },
          "shapedefaults": {
           "line": {
            "color": "#2a3f5f"
           }
          },
          "ternary": {
           "aaxis": {
            "gridcolor": "white",
            "linecolor": "white",
            "ticks": ""
           },
           "baxis": {
            "gridcolor": "white",
            "linecolor": "white",
            "ticks": ""
           },
           "bgcolor": "#E5ECF6",
           "caxis": {
            "gridcolor": "white",
            "linecolor": "white",
            "ticks": ""
           }
          },
          "title": {
           "x": 0.05
          },
          "xaxis": {
           "automargin": true,
           "gridcolor": "white",
           "linecolor": "white",
           "ticks": "",
           "title": {
            "standoff": 15
           },
           "zerolinecolor": "white",
           "zerolinewidth": 2
          },
          "yaxis": {
           "automargin": true,
           "gridcolor": "white",
           "linecolor": "white",
           "ticks": "",
           "title": {
            "standoff": 15
           },
           "zerolinecolor": "white",
           "zerolinewidth": 2
          }
         }
        },
        "xaxis": {
         "anchor": "y",
         "domain": [
          0,
          1
         ],
         "title": {
          "text": "x"
         }
        },
        "yaxis": {
         "anchor": "x",
         "domain": [
          0,
          1
         ],
         "title": {
          "text": "y"
         }
        }
       }
      }
     },
     "metadata": {},
     "output_type": "display_data"
    }
   ],
   "source": [
    "px.scatter(clust_1,clust_1.groupby('age').income.mean().values,np.sort(clust_1.age.unique()))"
   ]
  },
  {
   "cell_type": "code",
   "execution_count": 1267,
   "metadata": {},
   "outputs": [
    {
     "data": {
      "application/vnd.plotly.v1+json": {
       "config": {
        "plotlyServerURL": "https://plot.ly"
       },
       "data": [
        {
         "hovertemplate": "age=%{x}<br>income=%{y}<br>gender_dummy=%{z}<extra></extra>",
         "legendgroup": "",
         "marker": {
          "color": "#636efa",
          "symbol": "circle"
         },
         "mode": "markers",
         "name": "",
         "scene": "scene",
         "showlegend": false,
         "type": "scatter3d",
         "x": [
          46,
          71,
          38,
          54,
          59,
          53,
          79,
          41,
          46,
          29,
          44,
          26,
          51,
          41,
          66,
          50,
          80,
          58,
          46,
          42,
          74,
          22,
          28,
          56,
          64,
          60,
          52,
          31,
          46,
          40,
          32,
          54,
          48,
          25,
          35,
          30,
          52,
          36,
          52,
          82,
          44,
          23,
          47,
          43,
          56,
          55,
          46,
          63,
          52,
          77,
          39,
          28,
          35,
          29,
          60,
          58,
          34,
          49,
          35,
          41,
          30,
          65,
          60,
          66,
          37,
          34,
          53,
          28,
          41,
          56,
          42,
          69,
          38,
          61,
          53,
          30,
          49,
          41,
          40,
          44,
          44,
          73,
          31,
          77,
          57,
          36,
          60,
          35,
          64,
          57,
          87,
          55,
          46,
          22,
          79,
          88,
          49,
          33,
          29,
          43,
          60,
          58,
          36,
          52,
          32,
          55,
          46,
          66,
          50,
          33,
          58,
          40,
          51,
          79,
          28,
          69,
          38,
          40,
          57,
          58,
          39,
          23,
          59,
          89,
          66,
          60,
          34,
          19,
          62,
          54,
          53,
          63,
          78,
          34,
          65,
          43,
          39,
          58,
          57,
          28,
          36,
          36,
          43,
          72,
          26,
          60,
          39,
          50,
          59,
          65,
          84,
          31,
          26,
          57,
          58,
          66,
          73,
          28,
          47,
          58,
          64,
          74,
          33,
          49,
          30,
          43,
          30,
          19,
          19,
          43,
          26,
          24,
          30,
          69,
          55,
          74,
          59,
          23,
          50,
          28,
          75,
          19,
          19,
          57,
          57,
          40,
          44,
          80,
          36,
          59,
          40,
          24,
          31,
          47,
          64,
          61,
          44,
          22,
          20,
          19,
          52,
          55,
          45,
          59,
          27,
          35,
          69,
          48,
          41,
          55,
          55,
          38,
          57,
          69,
          56,
          57,
          32,
          69,
          38,
          55,
          56,
          44,
          64,
          73,
          50,
          68,
          32,
          58,
          64,
          33,
          45,
          40,
          39,
          31,
          64,
          42,
          63,
          22,
          69,
          69,
          41,
          32,
          23,
          27,
          41,
          45,
          35,
          42,
          56,
          83,
          38,
          30,
          34,
          40,
          50,
          24,
          46,
          56,
          33,
          50,
          36,
          68,
          57,
          82,
          28,
          27,
          32,
          19,
          37,
          30,
          42,
          57,
          55,
          36,
          53,
          55,
          56,
          64,
          40,
          46,
          82,
          46,
          41,
          57,
          41,
          85,
          50,
          50,
          28,
          35,
          88,
          54,
          31,
          37,
          36,
          53,
          34,
          36,
          77,
          48,
          21,
          63,
          68,
          25,
          79,
          44,
          46,
          39,
          66,
          52,
          23,
          64,
          80,
          36,
          39,
          54,
          26,
          77,
          21,
          49,
          48,
          29,
          31,
          29,
          46,
          55,
          51,
          57,
          76,
          47,
          30,
          46,
          37,
          54,
          52,
          48,
          52,
          53,
          41,
          72,
          81,
          37,
          19,
          48,
          59,
          61,
          27,
          53,
          56,
          29,
          55,
          42,
          74,
          52,
          34,
          67,
          54,
          34,
          60,
          42,
          34,
          39,
          32,
          49,
          33,
          60,
          46,
          28,
          51,
          44,
          48,
          30,
          52,
          26,
          25,
          69,
          55,
          56,
          39,
          86,
          35,
          66,
          53,
          22,
          38,
          72,
          77,
          70,
          37,
          67,
          32,
          36,
          35,
          42,
          66,
          40,
          39,
          29,
          25,
          49,
          50,
          68,
          19,
          43,
          38,
          35,
          40,
          58,
          58,
          56,
          45,
          75,
          27,
          35,
          46,
          73,
          84,
          44,
          19,
          38,
          60,
          33,
          82,
          19,
          63,
          53,
          25,
          24,
          82,
          37,
          52,
          44,
          44,
          49,
          45,
          44,
          42,
          19,
          54,
          34,
          75,
          50,
          65,
          68,
          57,
          62,
          43,
          32,
          61,
          31,
          57,
          22,
          33,
          26,
          30,
          60,
          65,
          48,
          25,
          51,
          66,
          65,
          29,
          29,
          36,
          48,
          49,
          73,
          61,
          40,
          71,
          61,
          23,
          32,
          39,
          47,
          21,
          55,
          83,
          19,
          32,
          19,
          54,
          70,
          58,
          65,
          76,
          50,
          54,
          41,
          70,
          50,
          41,
          49,
          53,
          19,
          51,
          74,
          45,
          46,
          33,
          31,
          67,
          57,
          40,
          39,
          41,
          79,
          48,
          68,
          70,
          25,
          24,
          50,
          51,
          46,
          47,
          53,
          70,
          39,
          46,
          50,
          23,
          50,
          83,
          65,
          65,
          33,
          69,
          41,
          23,
          54,
          83,
          21,
          43,
          55,
          31,
          52,
          32,
          62,
          30,
          41,
          53,
          36,
          43,
          31,
          31,
          66,
          80,
          37,
          55,
          19,
          62,
          30,
          40,
          36,
          29,
          53,
          33,
          26,
          47,
          33,
          59,
          77,
          27,
          32,
          33,
          42,
          29,
          38,
          54,
          40,
          65,
          51,
          31,
          39,
          43,
          61,
          40,
          84,
          81,
          47,
          55,
          49,
          59,
          89,
          69,
          55,
          34,
          57,
          41,
          19,
          55,
          66,
          22,
          30,
          40,
          35,
          22,
          35,
          46,
          33,
          48,
          33,
          55,
          38,
          52,
          63,
          62,
          50,
          30,
          51,
          88,
          43,
          66,
          62,
          48,
          40,
          50,
          66,
          34,
          36,
          56,
          50,
          37
         ],
         "y": [
          26150,
          6605,
          18548,
          47668,
          44554,
          15684,
          1929,
          39942,
          9622,
          25829,
          17622,
          8877,
          23351,
          10516,
          6354,
          26505,
          3158,
          66930,
          19494,
          19334,
          6493,
          3171,
          8976,
          30664,
          21751,
          24326,
          76087,
          56597,
          36330,
          39991,
          24344,
          21663,
          13148,
          22690,
          10025,
          43317,
          24545,
          18036,
          10244,
          8011,
          24450,
          7571,
          17099,
          47083,
          60104,
          19823,
          24476,
          24368,
          34473,
          6300,
          51608,
          7335,
          29064,
          15246,
          17242,
          144157,
          27885,
          27492,
          5788,
          15724,
          15993,
          4435,
          12396,
          9129,
          7431,
          16957,
          7633,
          1982,
          81509,
          25180,
          35502,
          23108,
          18350,
          12885,
          39704,
          55061,
          49258,
          7751,
          24534,
          31910,
          22001,
          14711,
          57194,
          28867,
          15530,
          20855,
          31040,
          8810,
          23206,
          57723,
          3994,
          90248,
          9351,
          8038,
          1039,
          7495,
          34080,
          14877,
          2925,
          84335,
          11935,
          83295,
          43900,
          68933,
          16422,
          24275,
          30676,
          12823,
          13811,
          5488,
          27649,
          11944,
          17559,
          12202,
          18144,
          34797,
          13295,
          56708,
          79057,
          75121,
          12258,
          2644,
          28864,
          3618,
          4391,
          38010,
          44288,
          5808,
          49731,
          2807,
          95585,
          15795,
          4626,
          10151,
          4604,
          55678,
          40898,
          39291,
          86744,
          3419,
          29363,
          36675,
          73785,
          11004,
          11375,
          9849,
          19789,
          21198,
          36873,
          9614,
          5022,
          29995,
          6105,
          30500,
          69432,
          12621,
          30224,
          18785,
          44472,
          57612,
          22437,
          15077,
          9916,
          12722,
          22758,
          29579,
          17612,
          18597,
          16865,
          14891,
          10430,
          27814,
          41650,
          18891,
          37471,
          28402,
          27303,
          13515,
          29335,
          5940,
          6195,
          13750,
          13113,
          84120,
          41069,
          19282,
          49435,
          9146,
          19639,
          32739,
          34855,
          12485,
          12403,
          32551,
          3240,
          2715,
          45629,
          6144,
          3339,
          12106,
          61885,
          31054,
          23973,
          23843,
          3551,
          12728,
          4508,
          18760,
          36237,
          49623,
          129196,
          39703,
          19300,
          27258,
          25681,
          26598,
          11812,
          30068,
          17165,
          12690,
          35508,
          8381,
          17584,
          10919,
          12973,
          7968,
          28058,
          29241,
          19686,
          43315,
          19987,
          40252,
          18449,
          26763,
          22680,
          20840,
          10608,
          27155,
          15301,
          9379,
          26364,
          17912,
          20889,
          18040,
          60242,
          36259,
          56384,
          20358,
          76376,
          2517,
          18390,
          11725,
          30265,
          12310,
          22322,
          4300,
          15576,
          17750,
          18183,
          19840,
          29838,
          27269,
          77727,
          8301,
          10818,
          23085,
          12449,
          11918,
          41876,
          40671,
          9480,
          39250,
          35237,
          29403,
          36923,
          33010,
          82612,
          26936,
          31297,
          48479,
          3093,
          20745,
          33060,
          45464,
          17052,
          12033,
          20562,
          101177,
          9099,
          16579,
          14780,
          34394,
          12560,
          12599,
          37186,
          44758,
          41261,
          46884,
          7083,
          13352,
          22995,
          5456,
          8681,
          22783,
          9602,
          20684,
          25426,
          6618,
          13124,
          8575,
          26583,
          30674,
          8038,
          29120,
          57882,
          49631,
          12994,
          6355,
          17804,
          20179,
          54647,
          5918,
          12456,
          8257,
          30217,
          50704,
          21909,
          59542,
          10701,
          24131,
          15746,
          11029,
          30413,
          41317,
          11074,
          19863,
          37364,
          32700,
          43872,
          13137,
          7914,
          12988,
          2442,
          38736,
          45195,
          13497,
          8799,
          7735,
          33706,
          12436,
          33113,
          76891,
          5981,
          111004,
          31220,
          12072,
          127848,
          26008,
          8262,
          10053,
          23896,
          42532,
          72194,
          21646,
          17412,
          15399,
          12560,
          9271,
          36586,
          9999,
          32065,
          20702,
          19088,
          9005,
          9495,
          28093,
          59047,
          9738,
          7169,
          8961,
          57224,
          43737,
          49553,
          2772,
          56296,
          11244,
          14357,
          19019,
          30165,
          24090,
          22369,
          77322,
          77893,
          31387,
          7642,
          28204,
          19645,
          11821,
          1591,
          21657,
          90592,
          18176,
          3371,
          98566,
          30163,
          31732,
          27635,
          21384,
          65347,
          102286,
          30276,
          25827,
          4184,
          52542,
          63532,
          15554,
          6228,
          56266,
          7302,
          19041,
          6809,
          50890,
          11410,
          8345,
          22362,
          32728,
          31496,
          39382,
          1565,
          17773,
          33905,
          29030,
          20691,
          58377,
          30989,
          22025,
          43582,
          13317,
          6909,
          26886,
          23883,
          93060,
          37180,
          17110,
          25973,
          37438,
          29536,
          29040,
          3303,
          14769,
          35117,
          13087,
          16238,
          8048,
          44196,
          11946,
          9050,
          68039,
          19639,
          38917,
          19649,
          6479,
          12307,
          14011,
          26112,
          43381,
          16168,
          8282,
          7534,
          43408,
          3726,
          4366,
          8997,
          24815,
          11613,
          49437,
          6132,
          58217,
          11041,
          4187,
          32152,
          18806,
          28975,
          11485,
          39832,
          8120,
          13901,
          86055,
          25869,
          9307,
          19891,
          54734,
          7467,
          29570,
          22721,
          23476,
          94123,
          4804,
          6576,
          56088,
          29417,
          31013,
          26848,
          39754,
          7008,
          44071,
          20184,
          5779,
          20870,
          43691,
          2701,
          7701,
          19319,
          13781,
          50980,
          26548,
          46712,
          44307,
          20926,
          27946,
          15895,
          58749,
          16718,
          15744,
          5848,
          26138,
          7154,
          11982,
          10250,
          31379,
          6700,
          142274,
          2858,
          14959,
          7617,
          41064,
          43710,
          34791,
          42031,
          7230,
          30015,
          6390,
          69205,
          18377,
          44592,
          28518,
          18466,
          40795,
          5781,
          84184,
          36761,
          7353,
          15432,
          21746,
          16276,
          40798,
          4859,
          21460,
          43715,
          2684,
          24300,
          44307,
          57642,
          7005,
          13058,
          36464,
          8005,
          9848,
          8259,
          8423,
          47267,
          16986,
          36603,
          23294,
          44742,
          18663,
          65024,
          24843,
          75890,
          8088,
          17174,
          31641,
          4247,
          14458,
          46870,
          10800,
          12072,
          12664,
          20218,
          27239,
          38803,
          6108,
          49863,
          5920,
          23731,
          62234,
          52903,
          55888,
          2620,
          12158,
          83366,
          24368,
          24115,
          32581,
          54713,
          36614,
          46461,
          15139,
          2466,
          16319,
          24744,
          18920,
          2314,
          43829,
          9802,
          4431,
          29521,
          36605,
          13269,
          15864,
          2289,
          14795,
          26387,
          61300,
          15100
         ],
         "z": [
          1,
          1,
          0,
          0,
          0,
          0,
          0,
          0,
          1,
          0,
          1,
          0,
          0,
          1,
          1,
          0,
          1,
          0,
          0,
          0,
          0,
          0,
          0,
          0,
          1,
          0,
          1,
          0,
          1,
          0,
          0,
          0,
          1,
          0,
          0,
          0,
          0,
          0,
          0,
          0,
          1,
          0,
          0,
          0,
          1,
          1,
          0,
          0,
          1,
          0,
          1,
          1,
          1,
          1,
          0,
          1,
          0,
          0,
          0,
          0,
          0,
          0,
          0,
          1,
          0,
          0,
          0,
          1,
          0,
          0,
          0,
          0,
          0,
          0,
          0,
          1,
          0,
          0,
          0,
          1,
          0,
          1,
          1,
          0,
          1,
          0,
          0,
          0,
          1,
          1,
          1,
          1,
          0,
          0,
          1,
          1,
          0,
          0,
          0,
          0,
          0,
          1,
          0,
          1,
          1,
          0,
          1,
          0,
          0,
          0,
          1,
          1,
          0,
          1,
          0,
          1,
          0,
          1,
          1,
          0,
          0,
          1,
          1,
          0,
          0,
          1,
          0,
          0,
          0,
          0,
          1,
          1,
          0,
          1,
          0,
          1,
          1,
          0,
          1,
          0,
          0,
          1,
          1,
          0,
          1,
          0,
          1,
          0,
          0,
          0,
          1,
          1,
          0,
          0,
          0,
          0,
          1,
          1,
          0,
          1,
          1,
          0,
          0,
          0,
          0,
          1,
          0,
          1,
          0,
          1,
          0,
          0,
          1,
          1,
          0,
          1,
          0,
          1,
          0,
          0,
          0,
          1,
          0,
          1,
          1,
          1,
          1,
          1,
          0,
          0,
          1,
          1,
          1,
          1,
          1,
          1,
          0,
          0,
          0,
          1,
          0,
          1,
          0,
          0,
          0,
          1,
          0,
          0,
          1,
          0,
          1,
          0,
          1,
          0,
          1,
          1,
          1,
          1,
          1,
          1,
          0,
          0,
          1,
          1,
          1,
          1,
          0,
          0,
          0,
          1,
          0,
          0,
          1,
          0,
          1,
          1,
          0,
          1,
          1,
          0,
          1,
          0,
          0,
          0,
          0,
          0,
          1,
          0,
          1,
          1,
          0,
          1,
          0,
          0,
          1,
          0,
          0,
          0,
          0,
          0,
          0,
          1,
          0,
          1,
          0,
          0,
          1,
          0,
          0,
          1,
          1,
          0,
          1,
          1,
          0,
          0,
          1,
          0,
          1,
          1,
          1,
          1,
          1,
          0,
          0,
          1,
          0,
          0,
          1,
          1,
          0,
          0,
          0,
          1,
          1,
          0,
          1,
          1,
          0,
          0,
          0,
          1,
          0,
          0,
          1,
          1,
          0,
          0,
          0,
          0,
          0,
          0,
          0,
          1,
          0,
          0,
          0,
          1,
          1,
          0,
          1,
          1,
          1,
          0,
          0,
          1,
          1,
          1,
          0,
          0,
          1,
          1,
          1,
          1,
          0,
          0,
          0,
          0,
          0,
          0,
          0,
          0,
          0,
          1,
          1,
          0,
          0,
          0,
          1,
          1,
          1,
          0,
          0,
          1,
          1,
          1,
          1,
          0,
          1,
          0,
          1,
          1,
          1,
          0,
          0,
          1,
          1,
          1,
          0,
          1,
          1,
          0,
          0,
          0,
          0,
          1,
          1,
          0,
          0,
          1,
          1,
          1,
          0,
          0,
          1,
          0,
          0,
          0,
          1,
          1,
          0,
          1,
          1,
          0,
          0,
          0,
          1,
          1,
          1,
          0,
          1,
          0,
          0,
          0,
          1,
          1,
          0,
          0,
          0,
          0,
          0,
          0,
          0,
          1,
          0,
          1,
          0,
          1,
          0,
          1,
          0,
          1,
          1,
          0,
          1,
          1,
          0,
          1,
          0,
          0,
          1,
          1,
          1,
          0,
          0,
          0,
          0,
          0,
          0,
          0,
          1,
          1,
          1,
          0,
          1,
          1,
          0,
          1,
          0,
          0,
          0,
          1,
          1,
          1,
          0,
          0,
          0,
          1,
          0,
          0,
          1,
          0,
          1,
          0,
          1,
          1,
          1,
          0,
          0,
          0,
          0,
          0,
          1,
          1,
          0,
          0,
          1,
          0,
          0,
          0,
          0,
          1,
          1,
          0,
          1,
          0,
          0,
          1,
          0,
          0,
          1,
          1,
          0,
          0,
          0,
          1,
          1,
          1,
          1,
          1,
          1,
          1,
          0,
          1,
          0,
          0,
          0,
          0,
          0,
          1,
          0,
          1,
          1,
          0,
          1,
          0,
          0,
          1,
          1,
          0,
          0,
          0,
          0,
          0,
          0,
          0,
          1,
          0,
          1,
          0,
          1,
          1,
          1,
          1,
          1,
          0,
          0,
          0,
          0,
          1,
          1,
          1,
          1,
          0,
          1,
          1,
          1,
          0,
          0,
          1,
          1,
          1,
          0,
          0,
          0,
          1,
          0,
          0,
          0,
          0,
          1,
          1,
          1,
          0,
          0,
          1,
          0,
          0,
          1,
          0,
          1,
          0,
          1,
          0,
          0,
          1,
          0,
          1,
          1,
          1,
          1,
          0,
          0,
          0,
          1,
          0,
          0,
          0,
          0,
          1,
          1,
          1,
          1,
          0,
          1,
          0,
          0,
          0,
          1,
          0,
          0,
          0,
          0,
          0,
          0,
          1,
          1,
          1,
          1,
          0,
          0,
          0,
          0,
          0,
          0,
          1,
          0,
          0,
          1,
          0,
          0,
          0,
          1,
          1,
          0
         ]
        }
       ],
       "layout": {
        "legend": {
         "tracegroupgap": 0
        },
        "margin": {
         "t": 60
        },
        "scene": {
         "domain": {
          "x": [
           0,
           1
          ],
          "y": [
           0,
           1
          ]
         },
         "xaxis": {
          "title": {
           "text": "age"
          }
         },
         "yaxis": {
          "title": {
           "text": "income"
          }
         },
         "zaxis": {
          "title": {
           "text": "gender_dummy"
          }
         }
        },
        "template": {
         "data": {
          "bar": [
           {
            "error_x": {
             "color": "#2a3f5f"
            },
            "error_y": {
             "color": "#2a3f5f"
            },
            "marker": {
             "line": {
              "color": "#E5ECF6",
              "width": 0.5
             },
             "pattern": {
              "fillmode": "overlay",
              "size": 10,
              "solidity": 0.2
             }
            },
            "type": "bar"
           }
          ],
          "barpolar": [
           {
            "marker": {
             "line": {
              "color": "#E5ECF6",
              "width": 0.5
             },
             "pattern": {
              "fillmode": "overlay",
              "size": 10,
              "solidity": 0.2
             }
            },
            "type": "barpolar"
           }
          ],
          "carpet": [
           {
            "aaxis": {
             "endlinecolor": "#2a3f5f",
             "gridcolor": "white",
             "linecolor": "white",
             "minorgridcolor": "white",
             "startlinecolor": "#2a3f5f"
            },
            "baxis": {
             "endlinecolor": "#2a3f5f",
             "gridcolor": "white",
             "linecolor": "white",
             "minorgridcolor": "white",
             "startlinecolor": "#2a3f5f"
            },
            "type": "carpet"
           }
          ],
          "choropleth": [
           {
            "colorbar": {
             "outlinewidth": 0,
             "ticks": ""
            },
            "type": "choropleth"
           }
          ],
          "contour": [
           {
            "colorbar": {
             "outlinewidth": 0,
             "ticks": ""
            },
            "colorscale": [
             [
              0,
              "#0d0887"
             ],
             [
              0.1111111111111111,
              "#46039f"
             ],
             [
              0.2222222222222222,
              "#7201a8"
             ],
             [
              0.3333333333333333,
              "#9c179e"
             ],
             [
              0.4444444444444444,
              "#bd3786"
             ],
             [
              0.5555555555555556,
              "#d8576b"
             ],
             [
              0.6666666666666666,
              "#ed7953"
             ],
             [
              0.7777777777777778,
              "#fb9f3a"
             ],
             [
              0.8888888888888888,
              "#fdca26"
             ],
             [
              1,
              "#f0f921"
             ]
            ],
            "type": "contour"
           }
          ],
          "contourcarpet": [
           {
            "colorbar": {
             "outlinewidth": 0,
             "ticks": ""
            },
            "type": "contourcarpet"
           }
          ],
          "heatmap": [
           {
            "colorbar": {
             "outlinewidth": 0,
             "ticks": ""
            },
            "colorscale": [
             [
              0,
              "#0d0887"
             ],
             [
              0.1111111111111111,
              "#46039f"
             ],
             [
              0.2222222222222222,
              "#7201a8"
             ],
             [
              0.3333333333333333,
              "#9c179e"
             ],
             [
              0.4444444444444444,
              "#bd3786"
             ],
             [
              0.5555555555555556,
              "#d8576b"
             ],
             [
              0.6666666666666666,
              "#ed7953"
             ],
             [
              0.7777777777777778,
              "#fb9f3a"
             ],
             [
              0.8888888888888888,
              "#fdca26"
             ],
             [
              1,
              "#f0f921"
             ]
            ],
            "type": "heatmap"
           }
          ],
          "heatmapgl": [
           {
            "colorbar": {
             "outlinewidth": 0,
             "ticks": ""
            },
            "colorscale": [
             [
              0,
              "#0d0887"
             ],
             [
              0.1111111111111111,
              "#46039f"
             ],
             [
              0.2222222222222222,
              "#7201a8"
             ],
             [
              0.3333333333333333,
              "#9c179e"
             ],
             [
              0.4444444444444444,
              "#bd3786"
             ],
             [
              0.5555555555555556,
              "#d8576b"
             ],
             [
              0.6666666666666666,
              "#ed7953"
             ],
             [
              0.7777777777777778,
              "#fb9f3a"
             ],
             [
              0.8888888888888888,
              "#fdca26"
             ],
             [
              1,
              "#f0f921"
             ]
            ],
            "type": "heatmapgl"
           }
          ],
          "histogram": [
           {
            "marker": {
             "pattern": {
              "fillmode": "overlay",
              "size": 10,
              "solidity": 0.2
             }
            },
            "type": "histogram"
           }
          ],
          "histogram2d": [
           {
            "colorbar": {
             "outlinewidth": 0,
             "ticks": ""
            },
            "colorscale": [
             [
              0,
              "#0d0887"
             ],
             [
              0.1111111111111111,
              "#46039f"
             ],
             [
              0.2222222222222222,
              "#7201a8"
             ],
             [
              0.3333333333333333,
              "#9c179e"
             ],
             [
              0.4444444444444444,
              "#bd3786"
             ],
             [
              0.5555555555555556,
              "#d8576b"
             ],
             [
              0.6666666666666666,
              "#ed7953"
             ],
             [
              0.7777777777777778,
              "#fb9f3a"
             ],
             [
              0.8888888888888888,
              "#fdca26"
             ],
             [
              1,
              "#f0f921"
             ]
            ],
            "type": "histogram2d"
           }
          ],
          "histogram2dcontour": [
           {
            "colorbar": {
             "outlinewidth": 0,
             "ticks": ""
            },
            "colorscale": [
             [
              0,
              "#0d0887"
             ],
             [
              0.1111111111111111,
              "#46039f"
             ],
             [
              0.2222222222222222,
              "#7201a8"
             ],
             [
              0.3333333333333333,
              "#9c179e"
             ],
             [
              0.4444444444444444,
              "#bd3786"
             ],
             [
              0.5555555555555556,
              "#d8576b"
             ],
             [
              0.6666666666666666,
              "#ed7953"
             ],
             [
              0.7777777777777778,
              "#fb9f3a"
             ],
             [
              0.8888888888888888,
              "#fdca26"
             ],
             [
              1,
              "#f0f921"
             ]
            ],
            "type": "histogram2dcontour"
           }
          ],
          "mesh3d": [
           {
            "colorbar": {
             "outlinewidth": 0,
             "ticks": ""
            },
            "type": "mesh3d"
           }
          ],
          "parcoords": [
           {
            "line": {
             "colorbar": {
              "outlinewidth": 0,
              "ticks": ""
             }
            },
            "type": "parcoords"
           }
          ],
          "pie": [
           {
            "automargin": true,
            "type": "pie"
           }
          ],
          "scatter": [
           {
            "fillpattern": {
             "fillmode": "overlay",
             "size": 10,
             "solidity": 0.2
            },
            "type": "scatter"
           }
          ],
          "scatter3d": [
           {
            "line": {
             "colorbar": {
              "outlinewidth": 0,
              "ticks": ""
             }
            },
            "marker": {
             "colorbar": {
              "outlinewidth": 0,
              "ticks": ""
             }
            },
            "type": "scatter3d"
           }
          ],
          "scattercarpet": [
           {
            "marker": {
             "colorbar": {
              "outlinewidth": 0,
              "ticks": ""
             }
            },
            "type": "scattercarpet"
           }
          ],
          "scattergeo": [
           {
            "marker": {
             "colorbar": {
              "outlinewidth": 0,
              "ticks": ""
             }
            },
            "type": "scattergeo"
           }
          ],
          "scattergl": [
           {
            "marker": {
             "colorbar": {
              "outlinewidth": 0,
              "ticks": ""
             }
            },
            "type": "scattergl"
           }
          ],
          "scattermapbox": [
           {
            "marker": {
             "colorbar": {
              "outlinewidth": 0,
              "ticks": ""
             }
            },
            "type": "scattermapbox"
           }
          ],
          "scatterpolar": [
           {
            "marker": {
             "colorbar": {
              "outlinewidth": 0,
              "ticks": ""
             }
            },
            "type": "scatterpolar"
           }
          ],
          "scatterpolargl": [
           {
            "marker": {
             "colorbar": {
              "outlinewidth": 0,
              "ticks": ""
             }
            },
            "type": "scatterpolargl"
           }
          ],
          "scatterternary": [
           {
            "marker": {
             "colorbar": {
              "outlinewidth": 0,
              "ticks": ""
             }
            },
            "type": "scatterternary"
           }
          ],
          "surface": [
           {
            "colorbar": {
             "outlinewidth": 0,
             "ticks": ""
            },
            "colorscale": [
             [
              0,
              "#0d0887"
             ],
             [
              0.1111111111111111,
              "#46039f"
             ],
             [
              0.2222222222222222,
              "#7201a8"
             ],
             [
              0.3333333333333333,
              "#9c179e"
             ],
             [
              0.4444444444444444,
              "#bd3786"
             ],
             [
              0.5555555555555556,
              "#d8576b"
             ],
             [
              0.6666666666666666,
              "#ed7953"
             ],
             [
              0.7777777777777778,
              "#fb9f3a"
             ],
             [
              0.8888888888888888,
              "#fdca26"
             ],
             [
              1,
              "#f0f921"
             ]
            ],
            "type": "surface"
           }
          ],
          "table": [
           {
            "cells": {
             "fill": {
              "color": "#EBF0F8"
             },
             "line": {
              "color": "white"
             }
            },
            "header": {
             "fill": {
              "color": "#C8D4E3"
             },
             "line": {
              "color": "white"
             }
            },
            "type": "table"
           }
          ]
         },
         "layout": {
          "annotationdefaults": {
           "arrowcolor": "#2a3f5f",
           "arrowhead": 0,
           "arrowwidth": 1
          },
          "autotypenumbers": "strict",
          "coloraxis": {
           "colorbar": {
            "outlinewidth": 0,
            "ticks": ""
           }
          },
          "colorscale": {
           "diverging": [
            [
             0,
             "#8e0152"
            ],
            [
             0.1,
             "#c51b7d"
            ],
            [
             0.2,
             "#de77ae"
            ],
            [
             0.3,
             "#f1b6da"
            ],
            [
             0.4,
             "#fde0ef"
            ],
            [
             0.5,
             "#f7f7f7"
            ],
            [
             0.6,
             "#e6f5d0"
            ],
            [
             0.7,
             "#b8e186"
            ],
            [
             0.8,
             "#7fbc41"
            ],
            [
             0.9,
             "#4d9221"
            ],
            [
             1,
             "#276419"
            ]
           ],
           "sequential": [
            [
             0,
             "#0d0887"
            ],
            [
             0.1111111111111111,
             "#46039f"
            ],
            [
             0.2222222222222222,
             "#7201a8"
            ],
            [
             0.3333333333333333,
             "#9c179e"
            ],
            [
             0.4444444444444444,
             "#bd3786"
            ],
            [
             0.5555555555555556,
             "#d8576b"
            ],
            [
             0.6666666666666666,
             "#ed7953"
            ],
            [
             0.7777777777777778,
             "#fb9f3a"
            ],
            [
             0.8888888888888888,
             "#fdca26"
            ],
            [
             1,
             "#f0f921"
            ]
           ],
           "sequentialminus": [
            [
             0,
             "#0d0887"
            ],
            [
             0.1111111111111111,
             "#46039f"
            ],
            [
             0.2222222222222222,
             "#7201a8"
            ],
            [
             0.3333333333333333,
             "#9c179e"
            ],
            [
             0.4444444444444444,
             "#bd3786"
            ],
            [
             0.5555555555555556,
             "#d8576b"
            ],
            [
             0.6666666666666666,
             "#ed7953"
            ],
            [
             0.7777777777777778,
             "#fb9f3a"
            ],
            [
             0.8888888888888888,
             "#fdca26"
            ],
            [
             1,
             "#f0f921"
            ]
           ]
          },
          "colorway": [
           "#636efa",
           "#EF553B",
           "#00cc96",
           "#ab63fa",
           "#FFA15A",
           "#19d3f3",
           "#FF6692",
           "#B6E880",
           "#FF97FF",
           "#FECB52"
          ],
          "font": {
           "color": "#2a3f5f"
          },
          "geo": {
           "bgcolor": "white",
           "lakecolor": "white",
           "landcolor": "#E5ECF6",
           "showlakes": true,
           "showland": true,
           "subunitcolor": "white"
          },
          "hoverlabel": {
           "align": "left"
          },
          "hovermode": "closest",
          "mapbox": {
           "style": "light"
          },
          "paper_bgcolor": "white",
          "plot_bgcolor": "#E5ECF6",
          "polar": {
           "angularaxis": {
            "gridcolor": "white",
            "linecolor": "white",
            "ticks": ""
           },
           "bgcolor": "#E5ECF6",
           "radialaxis": {
            "gridcolor": "white",
            "linecolor": "white",
            "ticks": ""
           }
          },
          "scene": {
           "xaxis": {
            "backgroundcolor": "#E5ECF6",
            "gridcolor": "white",
            "gridwidth": 2,
            "linecolor": "white",
            "showbackground": true,
            "ticks": "",
            "zerolinecolor": "white"
           },
           "yaxis": {
            "backgroundcolor": "#E5ECF6",
            "gridcolor": "white",
            "gridwidth": 2,
            "linecolor": "white",
            "showbackground": true,
            "ticks": "",
            "zerolinecolor": "white"
           },
           "zaxis": {
            "backgroundcolor": "#E5ECF6",
            "gridcolor": "white",
            "gridwidth": 2,
            "linecolor": "white",
            "showbackground": true,
            "ticks": "",
            "zerolinecolor": "white"
           }
          },
          "shapedefaults": {
           "line": {
            "color": "#2a3f5f"
           }
          },
          "ternary": {
           "aaxis": {
            "gridcolor": "white",
            "linecolor": "white",
            "ticks": ""
           },
           "baxis": {
            "gridcolor": "white",
            "linecolor": "white",
            "ticks": ""
           },
           "bgcolor": "#E5ECF6",
           "caxis": {
            "gridcolor": "white",
            "linecolor": "white",
            "ticks": ""
           }
          },
          "title": {
           "x": 0.05
          },
          "xaxis": {
           "automargin": true,
           "gridcolor": "white",
           "linecolor": "white",
           "ticks": "",
           "title": {
            "standoff": 15
           },
           "zerolinecolor": "white",
           "zerolinewidth": 2
          },
          "yaxis": {
           "automargin": true,
           "gridcolor": "white",
           "linecolor": "white",
           "ticks": "",
           "title": {
            "standoff": 15
           },
           "zerolinecolor": "white",
           "zerolinewidth": 2
          }
         }
        }
       }
      }
     },
     "metadata": {},
     "output_type": "display_data"
    }
   ],
   "source": [
    "px.scatter_3d(clust_1, x='age',y='income', z='gender_dummy')"
   ]
  },
  {
   "attachments": {},
   "cell_type": "markdown",
   "metadata": {},
   "source": [
    "^ This pattern will come up later"
   ]
  },
  {
   "attachments": {},
   "cell_type": "markdown",
   "metadata": {},
   "source": [
    "# Scaling"
   ]
  },
  {
   "cell_type": "code",
   "execution_count": 1268,
   "metadata": {},
   "outputs": [],
   "source": [
    "from sklearn.cluster import KMeans\n",
    "from sklearn.preprocessing import RobustScaler\n",
    "from sklearn.preprocessing import StandardScaler"
   ]
  },
  {
   "cell_type": "code",
   "execution_count": 1269,
   "metadata": {},
   "outputs": [
    {
     "data": {
      "text/html": [
       "<div>\n",
       "<style scoped>\n",
       "    .dataframe tbody tr th:only-of-type {\n",
       "        vertical-align: middle;\n",
       "    }\n",
       "\n",
       "    .dataframe tbody tr th {\n",
       "        vertical-align: top;\n",
       "    }\n",
       "\n",
       "    .dataframe thead th {\n",
       "        text-align: right;\n",
       "    }\n",
       "</style>\n",
       "<table border=\"1\" class=\"dataframe\">\n",
       "  <thead>\n",
       "    <tr style=\"text-align: right;\">\n",
       "      <th></th>\n",
       "      <th>income</th>\n",
       "      <th>age</th>\n",
       "      <th>gender_dummy</th>\n",
       "      <th>AL</th>\n",
       "      <th>AZ</th>\n",
       "      <th>CA</th>\n",
       "      <th>CO</th>\n",
       "      <th>DC</th>\n",
       "      <th>FL</th>\n",
       "      <th>GA</th>\n",
       "      <th>...</th>\n",
       "      <th>NY</th>\n",
       "      <th>OH</th>\n",
       "      <th>OK</th>\n",
       "      <th>OR</th>\n",
       "      <th>PA</th>\n",
       "      <th>TN</th>\n",
       "      <th>TX</th>\n",
       "      <th>VA</th>\n",
       "      <th>WA</th>\n",
       "      <th>WI</th>\n",
       "    </tr>\n",
       "  </thead>\n",
       "  <tbody>\n",
       "    <tr>\n",
       "      <th>0</th>\n",
       "      <td>26150</td>\n",
       "      <td>46</td>\n",
       "      <td>1</td>\n",
       "      <td>0</td>\n",
       "      <td>0</td>\n",
       "      <td>0</td>\n",
       "      <td>0</td>\n",
       "      <td>0</td>\n",
       "      <td>0</td>\n",
       "      <td>0</td>\n",
       "      <td>...</td>\n",
       "      <td>0</td>\n",
       "      <td>0</td>\n",
       "      <td>0</td>\n",
       "      <td>0</td>\n",
       "      <td>0</td>\n",
       "      <td>0</td>\n",
       "      <td>0</td>\n",
       "      <td>0</td>\n",
       "      <td>0</td>\n",
       "      <td>0</td>\n",
       "    </tr>\n",
       "    <tr>\n",
       "      <th>1</th>\n",
       "      <td>6605</td>\n",
       "      <td>71</td>\n",
       "      <td>1</td>\n",
       "      <td>0</td>\n",
       "      <td>0</td>\n",
       "      <td>1</td>\n",
       "      <td>0</td>\n",
       "      <td>0</td>\n",
       "      <td>0</td>\n",
       "      <td>0</td>\n",
       "      <td>...</td>\n",
       "      <td>0</td>\n",
       "      <td>0</td>\n",
       "      <td>0</td>\n",
       "      <td>0</td>\n",
       "      <td>0</td>\n",
       "      <td>0</td>\n",
       "      <td>0</td>\n",
       "      <td>0</td>\n",
       "      <td>0</td>\n",
       "      <td>0</td>\n",
       "    </tr>\n",
       "    <tr>\n",
       "      <th>2</th>\n",
       "      <td>18548</td>\n",
       "      <td>38</td>\n",
       "      <td>0</td>\n",
       "      <td>0</td>\n",
       "      <td>0</td>\n",
       "      <td>1</td>\n",
       "      <td>0</td>\n",
       "      <td>0</td>\n",
       "      <td>0</td>\n",
       "      <td>0</td>\n",
       "      <td>...</td>\n",
       "      <td>0</td>\n",
       "      <td>0</td>\n",
       "      <td>0</td>\n",
       "      <td>0</td>\n",
       "      <td>0</td>\n",
       "      <td>0</td>\n",
       "      <td>0</td>\n",
       "      <td>0</td>\n",
       "      <td>0</td>\n",
       "      <td>0</td>\n",
       "    </tr>\n",
       "    <tr>\n",
       "      <th>3</th>\n",
       "      <td>47668</td>\n",
       "      <td>54</td>\n",
       "      <td>0</td>\n",
       "      <td>0</td>\n",
       "      <td>0</td>\n",
       "      <td>1</td>\n",
       "      <td>0</td>\n",
       "      <td>0</td>\n",
       "      <td>0</td>\n",
       "      <td>0</td>\n",
       "      <td>...</td>\n",
       "      <td>0</td>\n",
       "      <td>0</td>\n",
       "      <td>0</td>\n",
       "      <td>0</td>\n",
       "      <td>0</td>\n",
       "      <td>0</td>\n",
       "      <td>0</td>\n",
       "      <td>0</td>\n",
       "      <td>0</td>\n",
       "      <td>0</td>\n",
       "    </tr>\n",
       "    <tr>\n",
       "      <th>4</th>\n",
       "      <td>44554</td>\n",
       "      <td>59</td>\n",
       "      <td>0</td>\n",
       "      <td>0</td>\n",
       "      <td>0</td>\n",
       "      <td>0</td>\n",
       "      <td>0</td>\n",
       "      <td>0</td>\n",
       "      <td>0</td>\n",
       "      <td>0</td>\n",
       "      <td>...</td>\n",
       "      <td>1</td>\n",
       "      <td>0</td>\n",
       "      <td>0</td>\n",
       "      <td>0</td>\n",
       "      <td>0</td>\n",
       "      <td>0</td>\n",
       "      <td>0</td>\n",
       "      <td>0</td>\n",
       "      <td>0</td>\n",
       "      <td>0</td>\n",
       "    </tr>\n",
       "    <tr>\n",
       "      <th>...</th>\n",
       "      <td>...</td>\n",
       "      <td>...</td>\n",
       "      <td>...</td>\n",
       "      <td>...</td>\n",
       "      <td>...</td>\n",
       "      <td>...</td>\n",
       "      <td>...</td>\n",
       "      <td>...</td>\n",
       "      <td>...</td>\n",
       "      <td>...</td>\n",
       "      <td>...</td>\n",
       "      <td>...</td>\n",
       "      <td>...</td>\n",
       "      <td>...</td>\n",
       "      <td>...</td>\n",
       "      <td>...</td>\n",
       "      <td>...</td>\n",
       "      <td>...</td>\n",
       "      <td>...</td>\n",
       "      <td>...</td>\n",
       "      <td>...</td>\n",
       "    </tr>\n",
       "    <tr>\n",
       "      <th>740</th>\n",
       "      <td>2289</td>\n",
       "      <td>34</td>\n",
       "      <td>0</td>\n",
       "      <td>0</td>\n",
       "      <td>0</td>\n",
       "      <td>0</td>\n",
       "      <td>0</td>\n",
       "      <td>0</td>\n",
       "      <td>0</td>\n",
       "      <td>0</td>\n",
       "      <td>...</td>\n",
       "      <td>0</td>\n",
       "      <td>0</td>\n",
       "      <td>0</td>\n",
       "      <td>0</td>\n",
       "      <td>0</td>\n",
       "      <td>0</td>\n",
       "      <td>1</td>\n",
       "      <td>0</td>\n",
       "      <td>0</td>\n",
       "      <td>0</td>\n",
       "    </tr>\n",
       "    <tr>\n",
       "      <th>742</th>\n",
       "      <td>14795</td>\n",
       "      <td>36</td>\n",
       "      <td>0</td>\n",
       "      <td>0</td>\n",
       "      <td>0</td>\n",
       "      <td>1</td>\n",
       "      <td>0</td>\n",
       "      <td>0</td>\n",
       "      <td>0</td>\n",
       "      <td>0</td>\n",
       "      <td>...</td>\n",
       "      <td>0</td>\n",
       "      <td>0</td>\n",
       "      <td>0</td>\n",
       "      <td>0</td>\n",
       "      <td>0</td>\n",
       "      <td>0</td>\n",
       "      <td>0</td>\n",
       "      <td>0</td>\n",
       "      <td>0</td>\n",
       "      <td>0</td>\n",
       "    </tr>\n",
       "    <tr>\n",
       "      <th>743</th>\n",
       "      <td>26387</td>\n",
       "      <td>56</td>\n",
       "      <td>1</td>\n",
       "      <td>0</td>\n",
       "      <td>0</td>\n",
       "      <td>0</td>\n",
       "      <td>0</td>\n",
       "      <td>0</td>\n",
       "      <td>0</td>\n",
       "      <td>0</td>\n",
       "      <td>...</td>\n",
       "      <td>1</td>\n",
       "      <td>0</td>\n",
       "      <td>0</td>\n",
       "      <td>0</td>\n",
       "      <td>0</td>\n",
       "      <td>0</td>\n",
       "      <td>0</td>\n",
       "      <td>0</td>\n",
       "      <td>0</td>\n",
       "      <td>0</td>\n",
       "    </tr>\n",
       "    <tr>\n",
       "      <th>744</th>\n",
       "      <td>61300</td>\n",
       "      <td>50</td>\n",
       "      <td>1</td>\n",
       "      <td>0</td>\n",
       "      <td>0</td>\n",
       "      <td>0</td>\n",
       "      <td>0</td>\n",
       "      <td>0</td>\n",
       "      <td>0</td>\n",
       "      <td>0</td>\n",
       "      <td>...</td>\n",
       "      <td>0</td>\n",
       "      <td>0</td>\n",
       "      <td>0</td>\n",
       "      <td>0</td>\n",
       "      <td>0</td>\n",
       "      <td>0</td>\n",
       "      <td>0</td>\n",
       "      <td>0</td>\n",
       "      <td>0</td>\n",
       "      <td>0</td>\n",
       "    </tr>\n",
       "    <tr>\n",
       "      <th>745</th>\n",
       "      <td>15100</td>\n",
       "      <td>37</td>\n",
       "      <td>0</td>\n",
       "      <td>1</td>\n",
       "      <td>0</td>\n",
       "      <td>0</td>\n",
       "      <td>0</td>\n",
       "      <td>0</td>\n",
       "      <td>0</td>\n",
       "      <td>0</td>\n",
       "      <td>...</td>\n",
       "      <td>0</td>\n",
       "      <td>0</td>\n",
       "      <td>0</td>\n",
       "      <td>0</td>\n",
       "      <td>0</td>\n",
       "      <td>0</td>\n",
       "      <td>0</td>\n",
       "      <td>0</td>\n",
       "      <td>0</td>\n",
       "      <td>0</td>\n",
       "    </tr>\n",
       "  </tbody>\n",
       "</table>\n",
       "<p>625 rows × 36 columns</p>\n",
       "</div>"
      ],
      "text/plain": [
       "     income  age  gender_dummy  AL  AZ  CA  CO  DC  FL  GA  ...  NY  OH  OK  \\\n",
       "0     26150   46             1   0   0   0   0   0   0   0  ...   0   0   0   \n",
       "1      6605   71             1   0   0   1   0   0   0   0  ...   0   0   0   \n",
       "2     18548   38             0   0   0   1   0   0   0   0  ...   0   0   0   \n",
       "3     47668   54             0   0   0   1   0   0   0   0  ...   0   0   0   \n",
       "4     44554   59             0   0   0   0   0   0   0   0  ...   1   0   0   \n",
       "..      ...  ...           ...  ..  ..  ..  ..  ..  ..  ..  ...  ..  ..  ..   \n",
       "740    2289   34             0   0   0   0   0   0   0   0  ...   0   0   0   \n",
       "742   14795   36             0   0   0   1   0   0   0   0  ...   0   0   0   \n",
       "743   26387   56             1   0   0   0   0   0   0   0  ...   1   0   0   \n",
       "744   61300   50             1   0   0   0   0   0   0   0  ...   0   0   0   \n",
       "745   15100   37             0   1   0   0   0   0   0   0  ...   0   0   0   \n",
       "\n",
       "     OR  PA  TN  TX  VA  WA  WI  \n",
       "0     0   0   0   0   0   0   0  \n",
       "1     0   0   0   0   0   0   0  \n",
       "2     0   0   0   0   0   0   0  \n",
       "3     0   0   0   0   0   0   0  \n",
       "4     0   0   0   0   0   0   0  \n",
       "..   ..  ..  ..  ..  ..  ..  ..  \n",
       "740   0   0   0   1   0   0   0  \n",
       "742   0   0   0   0   0   0   0  \n",
       "743   0   0   0   0   0   0   0  \n",
       "744   0   0   0   0   0   0   0  \n",
       "745   0   0   0   0   0   0   0  \n",
       "\n",
       "[625 rows x 36 columns]"
      ]
     },
     "execution_count": 1269,
     "metadata": {},
     "output_type": "execute_result"
    }
   ],
   "source": [
    "clust_1"
   ]
  },
  {
   "attachments": {},
   "cell_type": "markdown",
   "metadata": {},
   "source": [
    "We found out a robust scaler is much better than standard"
   ]
  },
  {
   "cell_type": "code",
   "execution_count": 1270,
   "metadata": {},
   "outputs": [],
   "source": [
    "robScale = RobustScaler()"
   ]
  },
  {
   "cell_type": "code",
   "execution_count": 1271,
   "metadata": {},
   "outputs": [
    {
     "data": {
      "text/plain": [
       "RobustScaler()"
      ]
     },
     "execution_count": 1271,
     "metadata": {},
     "output_type": "execute_result"
    }
   ],
   "source": [
    "robScale.fit(clust_1)"
   ]
  },
  {
   "cell_type": "code",
   "execution_count": 1272,
   "metadata": {},
   "outputs": [],
   "source": [
    "x = robScale.transform(clust_1)"
   ]
  },
  {
   "cell_type": "code",
   "execution_count": 1273,
   "metadata": {},
   "outputs": [],
   "source": [
    "km = KMeans(n_clusters=3,\n",
    "            init='k-means++',\n",
    "            n_init=10,\n",
    "            random_state=0)"
   ]
  },
  {
   "cell_type": "code",
   "execution_count": 1274,
   "metadata": {},
   "outputs": [],
   "source": [
    "y_km = km.fit_predict(x)"
   ]
  },
  {
   "cell_type": "code",
   "execution_count": 1275,
   "metadata": {},
   "outputs": [],
   "source": [
    "def plot_clusters(x,y_res,plt_cluster_centers = False):\n",
    "    x_centroids = []\n",
    "    y_centroids = []\n",
    "\n",
    "    for cluster in set(y_res):\n",
    "        X = x[y_res == cluster,0]\n",
    "        Y = x[y_res == cluster,1]\n",
    "\n",
    "        x_centroids.append(np.mean(X))\n",
    "        y_centroids.append(np.mean(Y))\n",
    "        plt.scatter(X,\n",
    "                    Y,\n",
    "                    s=50,\n",
    "                    marker='s',\n",
    "                    label=f'cluster {cluster}')\n",
    "    if plt_cluster_centers:\n",
    "        plt.scatter(x_centroids,\n",
    "                    y_centroids,\n",
    "                    marker='*',\n",
    "                    c='magenta',\n",
    "                    s=250,\n",
    "                    label='centroids')\n",
    "    plt.legend()\n",
    "    plt.grid()\n",
    "    plt.show()"
   ]
  },
  {
   "cell_type": "code",
   "execution_count": 1276,
   "metadata": {},
   "outputs": [
    {
     "data": {
      "image/png": "[encoded data removed]",
      "text/plain": [
       "<Figure size 640x480 with 1 Axes>"
      ]
     },
     "metadata": {},
     "output_type": "display_data"
    }
   ],
   "source": [
    "plot_clusters(x,y_km,plt_cluster_centers=True)"
   ]
  },
  {
   "cell_type": "code",
   "execution_count": 1277,
   "metadata": {},
   "outputs": [],
   "source": [
    "def plot_elbow(X, max_clusters = 10):\n",
    "    joints = []\n",
    "    for i in range(1,max_clusters+1):\n",
    "        km = KMeans(n_clusters=i,\n",
    "                    init='k-means++',\n",
    "                    n_init=10,\n",
    "                    random_state=0)\n",
    "        km.fit(X)\n",
    "        joints.append(km.inertia_)\n",
    "    tmp_df = pd.DataFrame({'Number of Clusters' : range(1,max_clusters+1),'Joints':joints})\n",
    "    fig=px.line(tmp_df, x= 'Number of Clusters',y='Joints',markers=True)\n",
    "    fig.show()\n",
    "    "
   ]
  },
  {
   "cell_type": "code",
   "execution_count": 1278,
   "metadata": {},
   "outputs": [
    {
     "name": "stderr",
     "output_type": "stream",
     "text": [
      "c:\\Users\\malco\\anaconda3\\lib\\site-packages\\sklearn\\cluster\\_kmeans.py:1036: UserWarning:\n",
      "\n",
      "KMeans is known to have a memory leak on Windows with MKL, when there are less chunks than available threads. You can avoid it by setting the environment variable OMP_NUM_THREADS=3.\n",
      "\n"
     ]
    },
    {
     "data": {
      "application/vnd.plotly.v1+json": {
       "config": {
        "plotlyServerURL": "https://plot.ly"
       },
       "data": [
        {
         "hovertemplate": "Number of Clusters=%{x}<br>Joints=%{y}<extra></extra>",
         "legendgroup": "",
         "line": {
          "color": "#636efa",
          "dash": "solid"
         },
         "marker": {
          "symbol": "circle"
         },
         "mode": "lines+markers",
         "name": "",
         "orientation": "v",
         "showlegend": false,
         "type": "scatter",
         "x": [
          1,
          2,
          3,
          4,
          5,
          6,
          7,
          8,
          9,
          10
         ],
         "xaxis": "x",
         "y": [
          1515.1949625249338,
          1202.6709678972816,
          987.7388023534751,
          897.0587462563977,
          833.4103768308632,
          785.0484988498447,
          748.3217011140463,
          721.352459751143,
          686.6132180043245,
          666.144895420511
         ],
         "yaxis": "y"
        }
       ],
       "layout": {
        "legend": {
         "tracegroupgap": 0
        },
        "margin": {
         "t": 60
        },
        "template": {
         "data": {
          "bar": [
           {
            "error_x": {
             "color": "#2a3f5f"
            },
            "error_y": {
             "color": "#2a3f5f"
            },
            "marker": {
             "line": {
              "color": "#E5ECF6",
              "width": 0.5
             },
             "pattern": {
              "fillmode": "overlay",
              "size": 10,
              "solidity": 0.2
             }
            },
            "type": "bar"
           }
          ],
          "barpolar": [
           {
            "marker": {
             "line": {
              "color": "#E5ECF6",
              "width": 0.5
             },
             "pattern": {
              "fillmode": "overlay",
              "size": 10,
              "solidity": 0.2
             }
            },
            "type": "barpolar"
           }
          ],
          "carpet": [
           {
            "aaxis": {
             "endlinecolor": "#2a3f5f",
             "gridcolor": "white",
             "linecolor": "white",
             "minorgridcolor": "white",
             "startlinecolor": "#2a3f5f"
            },
            "baxis": {
             "endlinecolor": "#2a3f5f",
             "gridcolor": "white",
             "linecolor": "white",
             "minorgridcolor": "white",
             "startlinecolor": "#2a3f5f"
            },
            "type": "carpet"
           }
          ],
          "choropleth": [
           {
            "colorbar": {
             "outlinewidth": 0,
             "ticks": ""
            },
            "type": "choropleth"
           }
          ],
          "contour": [
           {
            "colorbar": {
             "outlinewidth": 0,
             "ticks": ""
            },
            "colorscale": [
             [
              0,
              "#0d0887"
             ],
             [
              0.1111111111111111,
              "#46039f"
             ],
             [
              0.2222222222222222,
              "#7201a8"
             ],
             [
              0.3333333333333333,
              "#9c179e"
             ],
             [
              0.4444444444444444,
              "#bd3786"
             ],
             [
              0.5555555555555556,
              "#d8576b"
             ],
             [
              0.6666666666666666,
              "#ed7953"
             ],
             [
              0.7777777777777778,
              "#fb9f3a"
             ],
             [
              0.8888888888888888,
              "#fdca26"
             ],
             [
              1,
              "#f0f921"
             ]
            ],
            "type": "contour"
           }
          ],
          "contourcarpet": [
           {
            "colorbar": {
             "outlinewidth": 0,
             "ticks": ""
            },
            "type": "contourcarpet"
           }
          ],
          "heatmap": [
           {
            "colorbar": {
             "outlinewidth": 0,
             "ticks": ""
            },
            "colorscale": [
             [
              0,
              "#0d0887"
             ],
             [
              0.1111111111111111,
              "#46039f"
             ],
             [
              0.2222222222222222,
              "#7201a8"
             ],
             [
              0.3333333333333333,
              "#9c179e"
             ],
             [
              0.4444444444444444,
              "#bd3786"
             ],
             [
              0.5555555555555556,
              "#d8576b"
             ],
             [
              0.6666666666666666,
              "#ed7953"
             ],
             [
              0.7777777777777778,
              "#fb9f3a"
             ],
             [
              0.8888888888888888,
              "#fdca26"
             ],
             [
              1,
              "#f0f921"
             ]
            ],
            "type": "heatmap"
           }
          ],
          "heatmapgl": [
           {
            "colorbar": {
             "outlinewidth": 0,
             "ticks": ""
            },
            "colorscale": [
             [
              0,
              "#0d0887"
             ],
             [
              0.1111111111111111,
              "#46039f"
             ],
             [
              0.2222222222222222,
              "#7201a8"
             ],
             [
              0.3333333333333333,
              "#9c179e"
             ],
             [
              0.4444444444444444,
              "#bd3786"
             ],
             [
              0.5555555555555556,
              "#d8576b"
             ],
             [
              0.6666666666666666,
              "#ed7953"
             ],
             [
              0.7777777777777778,
              "#fb9f3a"
             ],
             [
              0.8888888888888888,
              "#fdca26"
             ],
             [
              1,
              "#f0f921"
             ]
            ],
            "type": "heatmapgl"
           }
          ],
          "histogram": [
           {
            "marker": {
             "pattern": {
              "fillmode": "overlay",
              "size": 10,
              "solidity": 0.2
             }
            },
            "type": "histogram"
           }
          ],
          "histogram2d": [
           {
            "colorbar": {
             "outlinewidth": 0,
             "ticks": ""
            },
            "colorscale": [
             [
              0,
              "#0d0887"
             ],
             [
              0.1111111111111111,
              "#46039f"
             ],
             [
              0.2222222222222222,
              "#7201a8"
             ],
             [
              0.3333333333333333,
              "#9c179e"
             ],
             [
              0.4444444444444444,
              "#bd3786"
             ],
             [
              0.5555555555555556,
              "#d8576b"
             ],
             [
              0.6666666666666666,
              "#ed7953"
             ],
             [
              0.7777777777777778,
              "#fb9f3a"
             ],
             [
              0.8888888888888888,
              "#fdca26"
             ],
             [
              1,
              "#f0f921"
             ]
            ],
            "type": "histogram2d"
           }
          ],
          "histogram2dcontour": [
           {
            "colorbar": {
             "outlinewidth": 0,
             "ticks": ""
            },
            "colorscale": [
             [
              0,
              "#0d0887"
             ],
             [
              0.1111111111111111,
              "#46039f"
             ],
             [
              0.2222222222222222,
              "#7201a8"
             ],
             [
              0.3333333333333333,
              "#9c179e"
             ],
             [
              0.4444444444444444,
              "#bd3786"
             ],
             [
              0.5555555555555556,
              "#d8576b"
             ],
             [
              0.6666666666666666,
              "#ed7953"
             ],
             [
              0.7777777777777778,
              "#fb9f3a"
             ],
             [
              0.8888888888888888,
              "#fdca26"
             ],
             [
              1,
              "#f0f921"
             ]
            ],
            "type": "histogram2dcontour"
           }
          ],
          "mesh3d": [
           {
            "colorbar": {
             "outlinewidth": 0,
             "ticks": ""
            },
            "type": "mesh3d"
           }
          ],
          "parcoords": [
           {
            "line": {
             "colorbar": {
              "outlinewidth": 0,
              "ticks": ""
             }
            },
            "type": "parcoords"
           }
          ],
          "pie": [
           {
            "automargin": true,
            "type": "pie"
           }
          ],
          "scatter": [
           {
            "fillpattern": {
             "fillmode": "overlay",
             "size": 10,
             "solidity": 0.2
            },
            "type": "scatter"
           }
          ],
          "scatter3d": [
           {
            "line": {
             "colorbar": {
              "outlinewidth": 0,
              "ticks": ""
             }
            },
            "marker": {
             "colorbar": {
              "outlinewidth": 0,
              "ticks": ""
             }
            },
            "type": "scatter3d"
           }
          ],
          "scattercarpet": [
           {
            "marker": {
             "colorbar": {
              "outlinewidth": 0,
              "ticks": ""
             }
            },
            "type": "scattercarpet"
           }
          ],
          "scattergeo": [
           {
            "marker": {
             "colorbar": {
              "outlinewidth": 0,
              "ticks": ""
             }
            },
            "type": "scattergeo"
           }
          ],
          "scattergl": [
           {
            "marker": {
             "colorbar": {
              "outlinewidth": 0,
              "ticks": ""
             }
            },
            "type": "scattergl"
           }
          ],
          "scattermapbox": [
           {
            "marker": {
             "colorbar": {
              "outlinewidth": 0,
              "ticks": ""
             }
            },
            "type": "scattermapbox"
           }
          ],
          "scatterpolar": [
           {
            "marker": {
             "colorbar": {
              "outlinewidth": 0,
              "ticks": ""
             }
            },
            "type": "scatterpolar"
           }
          ],
          "scatterpolargl": [
           {
            "marker": {
             "colorbar": {
              "outlinewidth": 0,
              "ticks": ""
             }
            },
            "type": "scatterpolargl"
           }
          ],
          "scatterternary": [
           {
            "marker": {
             "colorbar": {
              "outlinewidth": 0,
              "ticks": ""
             }
            },
            "type": "scatterternary"
           }
          ],
          "surface": [
           {
            "colorbar": {
             "outlinewidth": 0,
             "ticks": ""
            },
            "colorscale": [
             [
              0,
              "#0d0887"
             ],
             [
              0.1111111111111111,
              "#46039f"
             ],
             [
              0.2222222222222222,
              "#7201a8"
             ],
             [
              0.3333333333333333,
              "#9c179e"
             ],
             [
              0.4444444444444444,
              "#bd3786"
             ],
             [
              0.5555555555555556,
              "#d8576b"
             ],
             [
              0.6666666666666666,
              "#ed7953"
             ],
             [
              0.7777777777777778,
              "#fb9f3a"
             ],
             [
              0.8888888888888888,
              "#fdca26"
             ],
             [
              1,
              "#f0f921"
             ]
            ],
            "type": "surface"
           }
          ],
          "table": [
           {
            "cells": {
             "fill": {
              "color": "#EBF0F8"
             },
             "line": {
              "color": "white"
             }
            },
            "header": {
             "fill": {
              "color": "#C8D4E3"
             },
             "line": {
              "color": "white"
             }
            },
            "type": "table"
           }
          ]
         },
         "layout": {
          "annotationdefaults": {
           "arrowcolor": "#2a3f5f",
           "arrowhead": 0,
           "arrowwidth": 1
          },
          "autotypenumbers": "strict",
          "coloraxis": {
           "colorbar": {
            "outlinewidth": 0,
            "ticks": ""
           }
          },
          "colorscale": {
           "diverging": [
            [
             0,
             "#8e0152"
            ],
            [
             0.1,
             "#c51b7d"
            ],
            [
             0.2,
             "#de77ae"
            ],
            [
             0.3,
             "#f1b6da"
            ],
            [
             0.4,
             "#fde0ef"
            ],
            [
             0.5,
             "#f7f7f7"
            ],
            [
             0.6,
             "#e6f5d0"
            ],
            [
             0.7,
             "#b8e186"
            ],
            [
             0.8,
             "#7fbc41"
            ],
            [
             0.9,
             "#4d9221"
            ],
            [
             1,
             "#276419"
            ]
           ],
           "sequential": [
            [
             0,
             "#0d0887"
            ],
            [
             0.1111111111111111,
             "#46039f"
            ],
            [
             0.2222222222222222,
             "#7201a8"
            ],
            [
             0.3333333333333333,
             "#9c179e"
            ],
            [
             0.4444444444444444,
             "#bd3786"
            ],
            [
             0.5555555555555556,
             "#d8576b"
            ],
            [
             0.6666666666666666,
             "#ed7953"
            ],
            [
             0.7777777777777778,
             "#fb9f3a"
            ],
            [
             0.8888888888888888,
             "#fdca26"
            ],
            [
             1,
             "#f0f921"
            ]
           ],
           "sequentialminus": [
            [
             0,
             "#0d0887"
            ],
            [
             0.1111111111111111,
             "#46039f"
            ],
            [
             0.2222222222222222,
             "#7201a8"
            ],
            [
             0.3333333333333333,
             "#9c179e"
            ],
            [
             0.4444444444444444,
             "#bd3786"
            ],
            [
             0.5555555555555556,
             "#d8576b"
            ],
            [
             0.6666666666666666,
             "#ed7953"
            ],
            [
             0.7777777777777778,
             "#fb9f3a"
            ],
            [
             0.8888888888888888,
             "#fdca26"
            ],
            [
             1,
             "#f0f921"
            ]
           ]
          },
          "colorway": [
           "#636efa",
           "#EF553B",
           "#00cc96",
           "#ab63fa",
           "#FFA15A",
           "#19d3f3",
           "#FF6692",
           "#B6E880",
           "#FF97FF",
           "#FECB52"
          ],
          "font": {
           "color": "#2a3f5f"
          },
          "geo": {
           "bgcolor": "white",
           "lakecolor": "white",
           "landcolor": "#E5ECF6",
           "showlakes": true,
           "showland": true,
           "subunitcolor": "white"
          },
          "hoverlabel": {
           "align": "left"
          },
          "hovermode": "closest",
          "mapbox": {
           "style": "light"
          },
          "paper_bgcolor": "white",
          "plot_bgcolor": "#E5ECF6",
          "polar": {
           "angularaxis": {
            "gridcolor": "white",
            "linecolor": "white",
            "ticks": ""
           },
           "bgcolor": "#E5ECF6",
           "radialaxis": {
            "gridcolor": "white",
            "linecolor": "white",
            "ticks": ""
           }
          },
          "scene": {
           "xaxis": {
            "backgroundcolor": "#E5ECF6",
            "gridcolor": "white",
            "gridwidth": 2,
            "linecolor": "white",
            "showbackground": true,
            "ticks": "",
            "zerolinecolor": "white"
           },
           "yaxis": {
            "backgroundcolor": "#E5ECF6",
            "gridcolor": "white",
            "gridwidth": 2,
            "linecolor": "white",
            "showbackground": true,
            "ticks": "",
            "zerolinecolor": "white"
           },
           "zaxis": {
            "backgroundcolor": "#E5ECF6",
            "gridcolor": "white",
            "gridwidth": 2,
            "linecolor": "white",
            "showbackground": true,
            "ticks": "",
            "zerolinecolor": "white"
           }
          },
          "shapedefaults": {
           "line": {
            "color": "#2a3f5f"
           }
          },
          "ternary": {
           "aaxis": {
            "gridcolor": "white",
            "linecolor": "white",
            "ticks": ""
           },
           "baxis": {
            "gridcolor": "white",
            "linecolor": "white",
            "ticks": ""
           },
           "bgcolor": "#E5ECF6",
           "caxis": {
            "gridcolor": "white",
            "linecolor": "white",
            "ticks": ""
           }
          },
          "title": {
           "x": 0.05
          },
          "xaxis": {
           "automargin": true,
           "gridcolor": "white",
           "linecolor": "white",
           "ticks": "",
           "title": {
            "standoff": 15
           },
           "zerolinecolor": "white",
           "zerolinewidth": 2
          },
          "yaxis": {
           "automargin": true,
           "gridcolor": "white",
           "linecolor": "white",
           "ticks": "",
           "title": {
            "standoff": 15
           },
           "zerolinecolor": "white",
           "zerolinewidth": 2
          }
         }
        },
        "xaxis": {
         "anchor": "y",
         "domain": [
          0,
          1
         ],
         "title": {
          "text": "Number of Clusters"
         }
        },
        "yaxis": {
         "anchor": "x",
         "domain": [
          0,
          1
         ],
         "title": {
          "text": "Joints"
         }
        }
       }
      }
     },
     "metadata": {},
     "output_type": "display_data"
    }
   ],
   "source": [
    "plot_elbow(x)"
   ]
  },
  {
   "cell_type": "code",
   "execution_count": 1279,
   "metadata": {},
   "outputs": [],
   "source": [
    "from sklearn.metrics import silhouette_score"
   ]
  },
  {
   "cell_type": "code",
   "execution_count": 1280,
   "metadata": {},
   "outputs": [],
   "source": [
    "def plot_elbow_sil(X, max_clusters = 10):\n",
    "    joints = []\n",
    "    for i in range(2,max_clusters+2):\n",
    "        km = KMeans(n_clusters=i,\n",
    "                    init='k-means++',\n",
    "                    n_init=10,\n",
    "                    random_state=0)\n",
    "        km.fit(X)\n",
    "        y_db = km.fit_predict(X)\n",
    "        joints.append(silhouette_score(X,y_db))\n",
    "    tmp_df = pd.DataFrame({'Number of Clusters' : range(1,max_clusters+1),'Joints':joints})\n",
    "    fig=px.line(joints)\n",
    "    fig.show()"
   ]
  },
  {
   "cell_type": "code",
   "execution_count": 1281,
   "metadata": {},
   "outputs": [],
   "source": [
    "clust_1['cluster'] = y_km"
   ]
  },
  {
   "cell_type": "code",
   "execution_count": 1282,
   "metadata": {},
   "outputs": [
    {
     "data": {
      "image/png": "[encoded data removed]",
      "text/plain": [
       "<Figure size 640x480 with 1 Axes>"
      ]
     },
     "metadata": {},
     "output_type": "display_data"
    }
   ],
   "source": [
    "plot_clusters(x,y_km,plt_cluster_centers=True)"
   ]
  },
  {
   "attachments": {},
   "cell_type": "markdown",
   "metadata": {},
   "source": [
    "# Experiment with PCA with clust_1"
   ]
  },
  {
   "cell_type": "code",
   "execution_count": 1283,
   "metadata": {},
   "outputs": [],
   "source": [
    "from sklearn.decomposition import PCA"
   ]
  },
  {
   "cell_type": "code",
   "execution_count": 1284,
   "metadata": {},
   "outputs": [],
   "source": [
    "robScale.fit(clust_1)\n",
    "x = robScale.transform(clust_1)"
   ]
  },
  {
   "cell_type": "code",
   "execution_count": 1285,
   "metadata": {},
   "outputs": [],
   "source": [
    "pca = PCA()\n",
    "pca.fit(x)\n",
    "\n",
    "x_pca = pca.transform(x)"
   ]
  },
  {
   "cell_type": "code",
   "execution_count": 1286,
   "metadata": {},
   "outputs": [
    {
     "data": {
      "text/plain": [
       "(625, 37)"
      ]
     },
     "execution_count": 1286,
     "metadata": {},
     "output_type": "execute_result"
    }
   ],
   "source": [
    "x_pca.shape"
   ]
  },
  {
   "cell_type": "code",
   "execution_count": 1287,
   "metadata": {},
   "outputs": [
    {
     "data": {
      "text/plain": [
       "[<matplotlib.lines.Line2D at 0x1cf2e026ee0>]"
      ]
     },
     "execution_count": 1287,
     "metadata": {},
     "output_type": "execute_result"
    },
    {
     "data": {
      "image/png": "[encoded data removed]",
      "text/plain": [
       "<Figure size 640x480 with 1 Axes>"
      ]
     },
     "metadata": {},
     "output_type": "display_data"
    }
   ],
   "source": [
    "\n",
    "plt.plot(np.cumsum(pca.explained_variance_ratio_))"
   ]
  },
  {
   "cell_type": "code",
   "execution_count": 1288,
   "metadata": {},
   "outputs": [],
   "source": [
    "pca = PCA(n_components=4)\n",
    "pca.fit(x)\n",
    "\n",
    "x_pca = pca.transform(x)"
   ]
  },
  {
   "cell_type": "code",
   "execution_count": 1289,
   "metadata": {},
   "outputs": [],
   "source": [
    "df = pd.DataFrame(x_pca)\n",
    "df.columns = ['PC1','PC2','PC3','PC4']"
   ]
  },
  {
   "cell_type": "code",
   "execution_count": 1290,
   "metadata": {},
   "outputs": [
    {
     "data": {
      "application/vnd.plotly.v1+json": {
       "config": {
        "plotlyServerURL": "https://plot.ly"
       },
       "data": [
        {
         "hovertemplate": "PC1=%{x}<br>PC2=%{y}<br>PC3=%{z}<br>PC4=%{marker.color}<extra></extra>",
         "legendgroup": "",
         "marker": {
          "color": [
           -0.014695270483804385,
           0.9759271629521966,
           0.6718678123871662,
           0.6851523655775997,
           -0.5492962633096662,
           -0.24525791795777638,
           -0.054511525735493546,
           -0.22414331164826834,
           -0.009624608513014336,
           -0.26566627486423505,
           0.8711747310328328,
           0.627021000272417,
           -0.19911183125272255,
           0.863070537399076,
           0.05671898793341428,
           -0.18448333142229967,
           -0.24121506574019355,
           -0.20565978948139385,
           -0.5524576448645391,
           -0.2767845743632678,
           -0.44211874013318325,
           0.6137174261290498,
           -0.6223715576394846,
           0.7228442388621882,
           0.0388839343273737,
           -0.14979199602600754,
           0.8308372027718797,
           -0.319729419091815,
           -0.024226865555440597,
           -0.253603530989611,
           -0.3228195441881255,
           -0.17437728661247867,
           -0.020628511779624492,
           -0.6442758569848507,
           -0.5931669289840867,
           0.6212788377434798,
           0.7276926983161385,
           -0.5942054348746661,
           -0.17888729035540218,
           -0.05653002518907954,
           -0.031368514939998246,
           -0.2970647838593183,
           0.7112710276177453,
           -0.6193152707431947,
           0.8585168812754339,
           -0.000377172510883623,
           -0.19268361335982814,
           -0.5009524282190251,
           -0.017624459202549042,
           -0.1365238596902527,
           -0.2513171826523183,
           0.8096505437145777,
           -0.43272191407594646,
           -0.4491914560817105,
           -0.15661983155451117,
           -0.23150439943621912,
           0.6485932973110544,
           0.7129250818812861,
           -0.37534007431925936,
           0.6865539008199758,
           -0.25859192541145154,
           -0.4791974130616196,
           -0.5058312945524606,
           0.05579300458287835,
           -0.22423527976661684,
           -0.256300484909124,
           -0.17272184602507937,
           0.813198668876645,
           -0.6506766707266498,
           -0.16865122075568445,
           0.677715882733983,
           -0.11479979459358212,
           0.6719990525855762,
           -0.2092313027033338,
           0.7219162886970968,
           -0.14565273973925735,
           -0.5951284073733448,
           -0.3510126911410107,
           -0.24335817873291826,
           -0.39616555062401104,
           -0.21692960071464668,
           0.013880026814795714,
           0.7536602267257149,
           -0.2291161770365653,
           0.9102115384339527,
           -0.5960739506287981,
           -0.15833675452146634,
           -0.2264770370911628,
           0.9350235974183212,
           -0.3935032795206678,
           -0.21186925444711205,
           -0.42360464103352885,
           -0.20766592463578143,
           -0.28596392581946845,
           0.1156070016657206,
           0.005100046721913504,
           -0.33429296729712316,
           -0.31227311983723,
           0.6437804187083926,
           0.613862789569925,
           -0.15371733501663315,
           -0.19116328349866088,
           -0.611348851499309,
           -0.06810115091072086,
           -0.08296714234107261,
           -0.18087259873411138,
           0.8710649965692558,
           -0.1210070994060957,
           -0.18315784161177984,
           0.6591672652941993,
           0.9064501298410058,
           -0.041347748133772066,
           0.7280518041896958,
           0.09425148288506129,
           -0.27663998128795536,
           0.9486978407308055,
           0.6753496546207437,
           -0.25042619249455506,
           -0.0619114832960777,
           -0.2811756897132513,
           0.6803084280999356,
           -0.2514485515132045,
           0.9099162117706039,
           -0.012194961382525932,
           -0.1368281862703118,
           -0.0037290244344389102,
           0.6377209085508466,
           -0.36606179420299084,
           -0.2472607761266466,
           -0.16541498994210185,
           -0.07491930281481765,
           0.023809986661858528,
           -0.4237955598152715,
           0.8334125335128069,
           -0.47930943121076763,
           -0.09775812433613656,
           -0.42348015779044385,
           -0.23954823133264533,
           -0.049663001195657946,
           -0.27267285754520126,
           0.656156474649475,
           0.8243744885816325,
           0.7939202601889588,
           -0.08970475016356247,
           -0.24442145546740957,
           -0.5041430683638213,
           -0.05768009918000991,
           0.7213683489111952,
           -0.16237993457439365,
           -0.48263020592811456,
           -0.010346454499534134,
           -0.23540623919848436,
           -0.28327881759540224,
           -0.31562696747382785,
           0.6878122270640495,
           -0.48035191407705646,
           0.9688146370936556,
           -0.09611967676975817,
           0.6573708313968812,
           -0.09650559010060117,
           -0.10731801671108186,
           -0.08639405169947453,
           -0.25562216185543846,
           0.722715070419253,
           0.6349059450117303,
           0.8589778617625375,
           -0.6195529123223752,
           0.7637429847112789,
           -0.30635444180285415,
           -0.029677572348545664,
           -0.6318781504412307,
           -0.4369251667667193,
           -0.09768043044571113,
           0.06411038792015611,
           -0.18239442140978612,
           0.08037080662259996,
           -0.1552425596494728,
           -0.10972576375875083,
           0.7159749070199672,
           -0.26855081269504083,
           0.8202199793386665,
           -0.1982613627203199,
           -0.37090376212918225,
           -0.07293134136214088,
           -0.38246452060995023,
           0.8529887563768953,
           -0.08365033774851269,
           0.11470377880049906,
           0.6626018266158386,
           -0.16643760660899654,
           -0.20018481392633664,
           -0.10202789150014681,
           -0.14611149754454716,
           0.8740936111708203,
           0.9482576469206261,
           0.030345130641319263,
           -0.25693105385527243,
           -0.43110449518444754,
           0.6050632317876845,
           -0.2748059202499287,
           0.6671860826126802,
           -0.006801887578566105,
           -0.19647291275470258,
           -0.22503742502876556,
           0.6348226485545434,
           -0.06200606857915558,
           -0.10194359333798683,
           -0.5434282891479205,
           -0.047106920908287914,
           -0.3547233760131188,
           -0.15676782016310592,
           -0.24448838645341725,
           0.9077126720298814,
           0.7806302890463201,
           0.0008206682044979005,
           0.9028753439086843,
           -0.07462233559860162,
           -0.09101896943039518,
           -0.19700220289796522,
           -0.01624999946061209,
           -0.323217836043356,
           -0.19809873052728616,
           -0.1041013061914642,
           0.01639347546313493,
           -0.37586332049401516,
           -0.29566030872957344,
           -0.6179339880109341,
           -0.31052104589338825,
           -0.1475622842382778,
           -0.08929631822126582,
           -0.1916030076248197,
           -0.3768267252402831,
           -0.06258494541563679,
           -0.6213470435977402,
           0.03739033508665094,
           -0.03376634425876367,
           -0.1321429455968438,
           -0.4869850266108371,
           0.057940126082435664,
           -0.46538876300315885,
           -0.04256439652427457,
           -0.25135659286768103,
           0.6062448363699501,
           -0.6326508617885654,
           0.6212894965095084,
           -0.20310044677289474,
           -0.19393428448601918,
           -0.2065114822067854,
           -0.05298941008572357,
           -0.2279759336363197,
           -0.22600937112134717,
           -0.442586214658828,
           0.6470157636129934,
           0.684545380487872,
           -0.04399146868652025,
           0.6215119308879002,
           0.7080090971078963,
           -0.5264657605868173,
           0.6507526475223991,
           -0.20746423309866757,
           -0.2353375556153397,
           0.03727901943121752,
           -0.21961060998071613,
           0.12665820368700667,
           -0.6235924891822696,
           -0.2757783073124577,
           -0.1418705681809015,
           -0.31095598175693023,
           -0.25392747028043255,
           -0.1691197752808397,
           -0.031171697754277333,
           -0.5364451707014071,
           -0.031194811347242918,
           0.8291945831414224,
           -0.2001800497629615,
           -0.1866624125377092,
           -0.12161916124459285,
           -0.15236779655379976,
           -0.05010555289743527,
           -0.4343617002293179,
           0.13011021860276376,
           -0.16520377565189714,
           0.8481277140003,
           -0.1957029155624904,
           -0.5721961133045697,
           0.1337381280965886,
           -0.1702044240307286,
           0.6325993553289038,
           -0.08290658332878786,
           -0.07871389426533745,
           0.8700580435675676,
           -0.3310222832414801,
           -0.25116718213058914,
           -0.048524640314835915,
           -0.06795854955007091,
           -0.5750599975482923,
           -0.4450778623746177,
           -0.13795003983539264,
           0.8281742259551779,
           -0.1938283506170873,
           -0.6615636979597493,
           0.9425173977145376,
           -0.10271564702365399,
           -0.2784529457965755,
           0.11346720682481519,
           0.8691451477624703,
           -0.19316458419491056,
           -0.22201459633194093,
           -0.14261667441533982,
           -0.3224515329561599,
           0.602470686421732,
           -0.14100848096018878,
           0.840355482520352,
           0.829382163829049,
           -0.2911353085212568,
           -0.21848281362719096,
           0.6242921321064855,
           -0.2561483894962707,
           -0.48505832947849226,
           -0.1737718729061175,
           -0.21488874525236845,
           0.8148611923220315,
           -0.14614662749664686,
           -0.265200030160318,
           -0.3445467163018094,
           0.8604760570427389,
           -0.01428997948547403,
           -0.3947089659899002,
           -0.22134663975783062,
           -0.18215022031018435,
           0.8126183256207894,
           -0.007906728837441913,
           -0.42507323175977385,
           0.8624266160293402,
           -0.18045695929289357,
           -0.18430706063050284,
           -0.21053681446574568,
           -0.3341708699436114,
           0.6678965821086225,
           -0.2400469699388503,
           -0.4131606839717681,
           -0.22673572391508007,
           -0.29253655479340546,
           -0.023716478981059982,
           -0.024232981505370982,
           -0.1415239529506615,
           -0.267046950180298,
           0.7252279930033975,
           -0.008441511477665795,
           0.8105408710430559,
           -0.005116243320200776,
           -0.2909207718656597,
           0.816090405294884,
           -0.09028871790448637,
           -0.07820586530651491,
           -0.3026519796255524,
           0.8050713351776946,
           -0.24936291792444953,
           0.03392031526996246,
           -0.20251985449508403,
           -0.07489840081139822,
           -0.09955409391355527,
           -0.29486212288651853,
           0.7167999818808091,
           -0.2608734917445043,
           -0.3347571492316708,
           -0.37479696493970205,
           -0.08589794541227541,
           -0.20436098265626612,
           -0.38164229816257633,
           -0.3791826111201662,
           -0.2644520112157878,
           0.7313097577238354,
           0.6269361581239499,
           -0.27411540955531394,
           -0.012075632718734769,
           -0.18790525753066908,
           -0.15720832046089678,
           -0.23611956771138815,
           0.14967659742172362,
           -0.2721253099593186,
           0.9120796032888961,
           -0.22581473025681312,
           -0.28835215030480815,
           -0.1810616969766948,
           -0.09412172942528033,
           -0.14186427523868864,
           -0.11508348408626705,
           -0.06502098379844742,
           0.04119053326401313,
           -0.25701410861221324,
           -0.4961938804011872,
           -0.500843775433616,
           0.6804434252413447,
           -0.11628598993381913,
           0.674010371833678,
           0.8484767298357256,
           0.8109485110532693,
           0.8006435765947876,
           -0.3260586390908157,
           0.812680024972909,
           -0.13742244894115035,
           -0.6570991750943822,
           -0.3607870149589882,
           0.8372336719064007,
           0.8233794342261401,
           -0.22929271268998636,
           0.7375381336475585,
           0.6905198846928644,
           -0.30772428625905063,
           0.6939940871091215,
           -0.10492986582804292,
           -0.40844825223228903,
           0.773829386602072,
           0.6404658857159442,
           -0.06431298714635837,
           -0.3992288952651742,
           -0.08939655986139475,
           -0.2942519254253965,
           0.844605659213054,
           -0.16405942454570543,
           -0.49148823527497476,
           0.1258049579176223,
           0.5974736888767261,
           -0.03390547515148176,
           -0.37614325448495317,
           0.6077570451665224,
           -0.1938939053971106,
           -0.18966251434648163,
           -0.2355701488145599,
           -0.021505872402068013,
           -0.17923815529879233,
           -0.38872926887672266,
           0.6566970292118547,
           -0.5643482870052108,
           -0.20400867377518372,
           -0.23132001227477778,
           -0.3710389793033017,
           -0.527822867330723,
           0.6492554637666692,
           0.08763755167181222,
           -0.08287876264111682,
           -0.3278371363323132,
           -0.2597660687307607,
           0.9032896122117464,
           -0.34082240482007053,
           0.6859417417584449,
           0.8123495121288365,
           -0.1574641255620964,
           0.6444727076795441,
           -0.17294000013319474,
           -0.1234708017834432,
           -0.08095490945383796,
           0.8006351074129421,
           -0.6371735660321457,
           -0.1598004251856179,
           -0.13624101245333478,
           -0.07889593572178019,
           -0.4272351178519142,
           0.7138950963228106,
           -0.31194565662798757,
           -0.13453687836185796,
           -0.10151080462475291,
           -0.2833688407861818,
           -0.0807612263275341,
           -0.070016223800825,
           -0.14935574748265856,
           0.8102938155995789,
           -0.14591366534595496,
           -0.23445835526162362,
           -0.11503030724209821,
           -0.28121890889925794,
           -0.25565950596017156,
           -0.09670445321856504,
           0.6807359529886958,
           -0.24357336461841772,
           -0.13130642830704797,
           -0.21574922621029063,
           -0.191672065139439,
           -0.2945637967887796,
           -0.4056291641186051,
           -0.20161262758477222,
           -0.15436578968326603,
           -0.09977390054846971,
           -0.06684220031243271,
           -0.48163993897647456,
           -0.4384861404542172,
           -0.0897589616831275,
           -0.19437475281432265,
           0.6908072763411764,
           0.07086417103984195,
           0.8364477574708382,
           -0.3508244476240993,
           -0.3313036072222261,
           -0.24992224763561463,
           -0.28234228921923693,
           -0.15060608669682723,
           0.09347981520764204,
           -0.009226569542535163,
           -0.07918864003969267,
           -0.08202002564850766,
           -0.09088291817679392,
           -0.2704921198178638,
           0.8762768767338914,
           0.6880597013564095,
           -0.30599524091608193,
           -0.2143842283262038,
           -0.056341530574704715,
           0.7130429178951401,
           0.9206529324575036,
           -0.16403827366915666,
           -0.10946769193465881,
           -0.258229810328154,
           -0.21139486542753622,
           -0.12200964285840471,
           -0.5571332426402207,
           0.6558860937987062,
           -0.18667799289275142,
           -0.29570641158180005,
           0.669909962278431,
           -0.18646759706527427,
           -0.23407165360349502,
           -0.6488602795169325,
           -0.5507646421058152,
           -0.04336057334899211,
           -0.13939325458436852,
           0.038080333534177946,
           -0.2572743287274996,
           0.07070305955594798,
           -0.21895310705138932,
           -0.4691554340774652,
           -0.24734196993575744,
           1.0296678184117285,
           -0.48317258016295295,
           -0.019593907752959813,
           0.6938011096858276,
           -0.6325800114889334,
           -0.1953680062872849,
           0.6306740752253628,
           0.03888929388013906,
           -0.09482149598097,
           -0.03652867428996104,
           -0.20318111642818118,
           -0.3794130126761091,
           0.8132702355030322,
           -0.11137704453737444,
           -0.0833042211710745,
           -0.49902646634981723,
           -0.06359475490525565,
           -0.28145234845870915,
           -0.370273605969451,
           -0.14065858188541253,
           0.758568971594285,
           0.6355767282480487,
           -0.283300481431547,
           -0.4362281333942071,
           0.6424985068713969,
           -0.20367047297402685,
           -0.33138779075516417,
           -0.334091178941707,
           -0.37830716123367203,
           0.8065015169470258,
           -0.024690223108662642,
           -0.2146254032100907,
           -0.4143301993064879,
           -0.2354226623317487,
           0.657498923984107,
           -0.20448024059446368,
           -0.08379457073439484,
           -0.23327546017932804,
           -0.399386995050011,
           -0.2208880545668514,
           -0.32745468383492615,
           -0.25884488783736437,
           -0.3406113554522581,
           -0.04888981942203968,
           -0.2851917331854817,
           -0.3367454894875114,
           0.779710746011992,
           0.13654971582356087,
           1.011635915347604,
           -0.3412191656927553,
           -0.164637952666642,
           -0.1735660166355949,
           0.8801030225640482,
           -0.018162891784043095,
           -0.12144116607875564,
           -0.23471333449587745,
           -0.25846197120718145,
           0.9024504703370636,
           -0.413548691417077,
           -0.11997327271673001,
           -0.18181783337815133,
           -0.13017769885030667,
           -0.14664685634731983,
           -0.6848862508784722,
           -0.42096874872885554,
           -0.31359024249410633,
           -0.1182989763932532,
           0.6632890329854213,
           -0.6305504471549529,
           -0.2556809969232376,
           -0.3319592929838499,
           -0.2785919025637627,
           -0.23504698126594442,
           -0.06502415034601375,
           -0.19237714668317618,
           0.04471132556405233,
           0.04509742234937421,
           -0.33612732195992456,
           0.6335895660519197,
           -0.19440882595647846,
           -0.02007019721456241,
           -0.22959345880933496,
           -0.12429385587549795,
           0.03347913509918264,
           -0.5505609950827249,
           -0.2299491276364518,
           -0.020523786446679505,
           0.7753683073862128,
           -0.3772922541621468,
           0.6658125716718921,
           -0.35912599545715174,
           -0.059898711980932294,
           -0.22150606793405386
          ],
          "coloraxis": "coloraxis",
          "symbol": "circle"
         },
         "mode": "markers",
         "name": "",
         "scene": "scene",
         "showlegend": false,
         "type": "scatter3d",
         "x": [
          -0.4155715816647721,
          -0.062269644616662845,
          -0.8485160057465211,
          1.4433211701732422,
          1.436567003126431,
          -0.08265590128366246,
          -0.1961353104171379,
          -0.1877338273171756,
          -0.8905618330861964,
          -0.7348721364468872,
          -0.6981162257118143,
          -1.2657176858472612,
          0.10386985389320391,
          -0.9366386444858943,
          -0.11665867667697516,
          -0.46983409036908474,
          -0.03178198012849562,
          2.0612282637339963,
          -0.7039530455862836,
          -0.7423138609687208,
          -0.11321342549971658,
          -1.475852739894814,
          -1.215567021608995,
          0.34437080932386305,
          0.30771297442583506,
          0.22955800393771986,
          2.340301160037167,
          1.4511971637694345,
          -0.12439129278223154,
          -0.19629812035553587,
          -0.7158189304426499,
          0.07649168986610466,
          -0.7717721996853368,
          -0.8580243811494609,
          -1.1036777184206477,
          -0.23294413938766922,
          -0.5131111906305442,
          -0.8626333697731337,
          -0.27090011079407145,
          0.027203793388879016,
          -0.4913681155570183,
          -1.3288911267321408,
          -0.7847553394133153,
          1.3218691234755968,
          1.9294921665478388,
          0.13885609036598368,
          -0.5656671111784793,
          0.26990546457100767,
          0.533257606758361,
          -0.0706619979287138,
          1.5254434262464756,
          -1.1797290813058758,
          -0.4518542106398057,
          -0.9176190465867146,
          0.03421730331821357,
          4.397253320776073,
          -0.6279783083026589,
          -0.46382179189859535,
          -1.210926673141135,
          -0.8942839826587902,
          -0.9951448514975265,
          -0.27737755786233065,
          -0.10792783692308983,
          -0.030260170579215484,
          -1.1686799430327786,
          -0.9315426978899184,
          -0.3388092770448168,
          -1.3329825040761705,
          2.2840787022717004,
          0.20703820292889852,
          -0.31635694659523694,
          0.2961846855764448,
          -0.854184635992835,
          -0.0692388458671781,
          -0.0674235642019605,
          1.496429968966972,
          1.4543013232718351,
          -1.084563915830849,
          -0.6388234623619706,
          -0.26513007507468966,
          -0.670197181464272,
          0.23011232412600457,
          1.5538339986617276,
          0.5764773767071731,
          0.02953412883047224,
          -0.7819269623773817,
          0.41317717284598693,
          -1.1486747923980776,
          0.3311507685962045,
          1.896947946241431,
          0.0740092511282108,
          2.804732948783783,
          -1.0033411808259185,
          -1.3211567905330823,
          -0.11195246763059935,
          0.19998880638228989,
          -0.2372283664010742,
          -0.9751600335379363,
          -1.4010385688730147,
          2.3644446036213957,
          -0.13882568519157362,
          2.65480799728538,
          -0.1221613864869574,
          2.1535729990443886,
          -0.8547109779232376,
          0.16785031504544384,
          -0.3009997232201179,
          -0.038775250680350454,
          -0.1935468497721371,
          -1.2808858626242734,
          0.3881882403661556,
          -0.8976461856104951,
          -0.724810357447393,
          0.20081842969624866,
          -0.9707919373433543,
          0.7214639697576178,
          -0.9989064839479703,
          1.6831474584948998,
          2.493098102814584,
          2.3129847431250474,
          -1.0169013598895886,
          -1.3345164699149705,
          0.4346668761149357,
          -0.024178639496843263,
          -0.27594306185695944,
          0.7158623747062324,
          -0.1583695106749467,
          -1.3985145058088442,
          1.6328585540444323,
          -0.4604295799044875,
          2.9284300006142847,
          0.1149408164491503,
          -0.11988916365082669,
          -1.0289454068233388,
          -0.2725391815409819,
          1.6688449633081541,
          -0.0662779134134065,
          0.6516687192702149,
          2.7234571255539826,
          -1.3909327528528397,
          -0.562276269100507,
          -0.24619027090816598,
          2.16915144292657,
          -0.011517160676164456,
          -1.0494712018971528,
          -0.1808470350915824,
          -0.6883165562570901,
          -0.6323216638244169,
          0.5770777997534448,
          -0.1291056586418271,
          0.08241275024550934,
          -0.45792162699159566,
          -1.3357803163994895,
          0.3893520767702505,
          2.1131878630859906,
          -0.0313230562193372,
          0.6373169515735508,
          -0.8358041303835453,
          1.2699644470917844,
          1.91845926988427,
          0.347117362163769,
          0.12396954284550621,
          -1.1464579480284116,
          -0.8866787047170621,
          -0.8215369132965966,
          -0.3674878028522773,
          -0.9449354101688887,
          -0.9625489970982818,
          -1.1027648905595175,
          -0.7773038129738792,
          -1.1973275260525995,
          -0.7089669540176378,
          -0.1609147573935118,
          0.2857552803975849,
          0.542914024083887,
          0.6167131452045411,
          0.2962359967153396,
          -1.0414032186997266,
          -0.39936386425746606,
          -1.320185692525248,
          -0.13397977171806008,
          -1.064391956832777,
          -1.189376405054687,
          2.643679756457908,
          1.4201531577459166,
          -0.6973667828182142,
          1.5037885615314832,
          0.13579277189493666,
          -0.8406689989750344,
          0.46006092234140944,
          -0.2135377878099332,
          -1.0652126726820788,
          -0.9626295093274236,
          -0.2356256533169581,
          -0.24046474401946966,
          -0.2632413036422856,
          1.2892095735434796,
          -1.3527547605610544,
          -1.4944307114937705,
          -1.1104000917600516,
          1.8269582810513771,
          0.466707723012948,
          -0.5981420085668652,
          0.22109490151228472,
          -1.4065042543466593,
          -0.9234032041654223,
          -0.22842782041484017,
          -0.7015793402469921,
          -0.18725349529472124,
          1.548968233033464,
          3.9327879323346417,
          -0.23230897702056869,
          0.13746713907594404,
          0.39887908739399774,
          0.31915106092707285,
          0.34640483371028197,
          -0.9940863278590217,
          0.6240579583989041,
          -0.7433804005133027,
          -0.060232252380506834,
          0.5210344815407201,
          -1.058877319450477,
          0.2081786622377013,
          0.12154946607538682,
          -0.10159974781557113,
          -0.03440065721473243,
          -0.6224845020326805,
          0.36500146388579524,
          0.13128435754186873,
          -0.0758158920527306,
          -0.7123107440052199,
          -0.16577216074771134,
          -0.7252522412266175,
          -0.671253493436537,
          0.3361619420455396,
          -0.6189367795832104,
          -0.13184654095308163,
          -0.6585279925440738,
          0.18139119007793947,
          -0.08905814142938018,
          -0.46324791545475624,
          -0.9256212336341967,
          -0.9569023619494762,
          -0.9677635851261557,
          1.6512876501748548,
          -0.24659570185870638,
          1.6143435481207549,
          -0.7394836637234101,
          2.4165529422924426,
          -0.015051877102869343,
          -0.832969196283835,
          -1.0067294656184531,
          -0.5598402275641382,
          -1.0037187694764809,
          0.15705727230414093,
          -1.4201423772379327,
          -0.8400518444341394,
          -0.0014212216563402602,
          -0.9174350496093489,
          -0.028020737144426988,
          -0.534827082120999,
          0.5035458362737938,
          2.3629882374379014,
          0.1345896206418656,
          -1.1628315826508626,
          -0.823243680664905,
          -0.9496186955884465,
          -1.2542835993354453,
          -0.18611319912918642,
          -0.16502619784351202,
          -0.9448014213122292,
          0.6258057198827308,
          0.5852758595570673,
          -0.4543835999546041,
          0.49470988901035806,
          0.41792852313409035,
          2.610807693621005,
          0.3388478387831608,
          -0.3337127191109207,
          1.5036648986869687,
          -0.01451253250360321,
          -0.5473361110501698,
          -0.29121642088538546,
          1.4349747233483323,
          -0.8323354481440304,
          0.2675383040529954,
          -0.637385313384591,
          2.9284787425674983,
          -1.116076097642687,
          -0.8239232778044808,
          0.26382418960232745,
          0.4657535605691655,
          -1.0835880918838117,
          -0.9107717694276323,
          -0.21841594626368335,
          1.3722442546230254,
          -0.11435472081503978,
          1.3320626728191554,
          -0.08516910547209616,
          -0.872679284083257,
          -0.896067837163716,
          -0.18871575161116377,
          -0.13151334292896583,
          -0.8655741401663928,
          0.130285917668735,
          -0.6104528630137679,
          -0.544849564744233,
          -1.1721424767380837,
          -0.025922112659689883,
          -0.2968178161356473,
          -0.7938862981994187,
          0.4494742326732464,
          -0.022746407127697155,
          -0.4624857330844366,
          1.587669916951034,
          1.510071877246384,
          -1.147850257947896,
          0.02466478002556685,
          -0.9379357984141165,
          -0.658451383702893,
          1.7176930448294634,
          -1.2086031466091067,
          -0.9611121487059356,
          -1.22105088738663,
          -0.38290549280749764,
          1.6486815178390621,
          0.15520044711190395,
          1.9490249079487287,
          0.04470100709340796,
          -0.5684280645908172,
          -0.9155390951456719,
          -0.8503377647634927,
          -0.38984536993146435,
          1.3682430519242352,
          -0.2534519989925911,
          -0.6826634372990883,
          0.497069387574659,
          0.4055614203356159,
          -0.08842234542018479,
          0.06766689984124852,
          0.009326031484735459,
          -1.0081233280176027,
          -1.5119399990755773,
          -0.0267884106150994,
          1.56507281556615,
          -0.07042353931695489,
          -1.2455636352232409,
          -0.34715532857862585,
          0.5487601796132114,
          -1.0219964196117632,
          0.5292092276564612,
          2.1669686277547826,
          -0.1518003323326978,
          3.360025777022381,
          -0.40173863400980736,
          0.07140072865337477,
          3.8455776167918554,
          -0.6719123081902922,
          -0.12359792028324174,
          -1.0267296606143734,
          -0.6256302061659424,
          1.2458379891824123,
          2.0329521805278326,
          -0.6311895313932978,
          -0.9302101593389802,
          0.08479387979770263,
          -0.7957221306716593,
          -1.1138648660752533,
          -0.16514893131432962,
          -0.892429859554407,
          -0.2139170740437457,
          -0.8591966181299792,
          -0.6693420757524382,
          -1.2620531167991391,
          -1.2443621104530798,
          0.5664561293796635,
          1.92551962051982,
          -0.2348637867146819,
          -1.147667645979284,
          0.19559423072625018,
          1.6394509562836,
          1.5778526213379953,
          1.5129292931342175,
          -1.4767247835378008,
          1.6469057346120963,
          -0.008393480359449174,
          0.1600054459831607,
          0.20203042067968058,
          -0.40080384122123175,
          0.3977697331311094,
          -0.7880836136927094,
          2.212485408305966,
          2.2171389625567643,
          -0.4341671156032255,
          -0.17957964763631162,
          -0.5486823597041917,
          -0.6986681532706138,
          -1.0396035287101624,
          -1.3792581950522815,
          -0.5928919701887393,
          2.7321835512735766,
          0.14210156543299682,
          -1.481279797828556,
          2.8087942087312276,
          -0.40923750275676213,
          -0.3993994801835029,
          -0.5468856208384997,
          0.10207727180962597,
          1.9962365774486552,
          3.0673159167772863,
          -0.4308928520511728,
          0.43737169893383715,
          -1.3503991779238824,
          1.4674252542682726,
          1.8039478226764105,
          0.2553056206259151,
          -0.0038616362340727906,
          1.6890895128174463,
          -1.3795156027332784,
          -0.7276541977037485,
          -0.27688021760612797,
          1.4206703221568222,
          0.22379247796479682,
          -1.3628055656146776,
          0.3322176207152827,
          0.4990565294717645,
          -0.629842113057427,
          -0.27209270875977987,
          -0.14669445329245806,
          -0.864310791929959,
          0.5132486949588053,
          -0.3335288719959446,
          -0.586323826253456,
          1.691444607864355,
          -0.38655142663481235,
          -0.6690047979943208,
          -0.06694413197010568,
          -1.1835359981342424,
          -0.3351807608394879,
          -0.6565791245454246,
          0.4990305393757256,
          2.822706207670726,
          0.7668411325244628,
          0.13463625061224282,
          0.3285114301549982,
          0.7391459518001587,
          -0.47546636033524564,
          -0.5115515256887465,
          -0.36556119495253947,
          -1.0385636956643478,
          0.5017696395181885,
          -1.0671287716673161,
          -0.8601428733206409,
          -1.182704005004625,
          -0.18385022598702544,
          -0.13544152522722008,
          -0.16152456756322042,
          2.0831862060687163,
          -0.9313188132834415,
          -0.11334265643339064,
          0.2766321793974829,
          -0.23513087242823572,
          -1.0163914252094073,
          -1.0687235709519656,
          -0.5393049128191397,
          1.3845065494769018,
          -0.6432915062542989,
          -0.09761783704087335,
          -0.23202349618799006,
          -0.10270697930652417,
          -0.23651234705323954,
          -0.3120744199025749,
          -1.1526336014562217,
          -0.6248542046350776,
          -1.0353673523586417,
          1.4361226265384512,
          -1.2883705900428577,
          1.7731448497675846,
          0.13629203328864115,
          -1.4622641341588514,
          -0.4912215447226566,
          -0.919641479431953,
          0.41735808570179767,
          -0.021328026452162335,
          0.7739047407060333,
          -0.1718780505003773,
          0.12226122663496809,
          2.629627233260608,
          0.1913616278604962,
          -1.0779991356415999,
          0.3201236447373643,
          1.70558888777699,
          -1.09269467840637,
          -0.3663471664560022,
          0.11880950802598882,
          -0.7848832942823287,
          2.8818919467542585,
          -0.0633932613936179,
          -0.9895185456514871,
          1.7215907018934158,
          -0.47837107727647926,
          -0.44274650697924256,
          0.4017359334891003,
          1.3585768060251069,
          -1.1555120905166643,
          -0.06918884068535747,
          -0.7465263930068231,
          -0.07924899973717825,
          -0.6650998404848466,
          1.5999233853109431,
          -0.2555563876226189,
          -1.1981033250614408,
          -0.8454266038226903,
          -0.19421431463931016,
          1.6467317714172838,
          -0.5020009356999284,
          1.3340944054339214,
          1.4801338725973903,
          0.35996741849087244,
          -0.5677626159291211,
          -0.8204814428817471,
          1.7333712875261869,
          -1.0523871492755257,
          -0.12901504513122958,
          -0.0302930535920245,
          0.33812556473611793,
          -0.10905850527016459,
          -1.085668049427286,
          0.029134574820910975,
          -0.4264187366455239,
          -1.2324494448640937,
          4.29656863759548,
          -0.029217866763599387,
          -1.0193865713977683,
          -0.9832405124236603,
          1.265946170084,
          -0.18607027735430562,
          0.4264423828812911,
          -0.24637388806840432,
          -0.1335031764076231,
          -0.4869552727356587,
          -1.0442126322097494,
          2.1929498113485195,
          -0.8388167221318781,
          1.3333720349435303,
          -0.5232609925565804,
          -0.8152798554853566,
          0.7752829466071679,
          -0.060027588970990475,
          2.434688530518939,
          0.6379068024079166,
          -1.276801755331872,
          -0.02154975197881906,
          -0.8505099123333122,
          -0.8532504243586301,
          -0.10422243569417716,
          -1.3456692209115446,
          0.060712776514254,
          -0.14954407877429743,
          -1.4060958794784155,
          -0.4479185790519,
          -0.06277191912580965,
          1.9181010305782826,
          -0.04941956493380989,
          -1.096341476884541,
          -0.2610238835956778,
          -1.2088255478264345,
          -1.0410132766172429,
          -1.123363564946105,
          -1.1307324142547315,
          1.5625168844110298,
          -0.8592963762505632,
          0.7503219423622248,
          0.1118264619308562,
          -0.14352935652687188,
          -0.7155160139426441,
          1.8192381070190464,
          0.3668642241167714,
          2.19433484838884,
          0.1520731778623692,
          0.3572535592376925,
          -0.3304433029098306,
          -0.4024246811632579,
          -0.817306713241388,
          1.585691660018763,
          0.1812441287601063,
          -0.02658948193469915,
          -0.14572910878817696,
          -0.8381820754998697,
          0.364756308396581,
          -0.10286888365610097,
          -1.306957466403702,
          1.6625867913170578,
          -0.23779940952199385,
          -0.7655548822029858,
          1.6036136850163554,
          1.4674649263319672,
          1.4657700811196417,
          -1.3575445960752397,
          -1.0665397414076678,
          2.3957128791017013,
          -0.729810822839554,
          -0.5342146519238276,
          -0.4902993275681395,
          1.6716384373045572,
          -0.20447868673908295,
          1.5301078393730119,
          0.10165381245889332,
          -0.2663403796964321,
          -0.09849910719887561,
          -0.7646788341593269,
          -0.03223580356546135,
          -0.08237719219952955,
          -0.06003673627578526,
          -0.11787120079315949,
          -0.20241931560358983,
          -0.39349787519353774,
          -0.2974730983250772,
          -0.10650295734557502,
          0.0375936055078267,
          -1.322794962842344,
          -0.979350033889906,
          0.35259879207320244,
          1.9067145060650619,
          -0.9457735522488631
         ],
         "y": [
          -0.23934709503303847,
          1.2299341904559302,
          -0.37992494113042874,
          0.08883481361812412,
          0.4232600200943421,
          0.5216049121398999,
          1.7450382763587744,
          -0.6469522730434628,
          0.11667231319612528,
          -0.7723867355862942,
          -0.2067682427145786,
          -0.5900709683597706,
          0.32665416367828526,
          -0.15960018143779503,
          1.1420613843128926,
          -0.06092605082685773,
          1.7100473653365291,
          -0.08440203871689428,
          -0.027888802834587972,
          -0.20399987481400156,
          1.4856586924068107,
          -0.6073280965444541,
          -0.42793089488182345,
          0.2529464749090536,
          0.7464241326877917,
          0.6308187432948188,
          -0.6392979976611417,
          -0.8259416150748329,
          -0.45942260517470945,
          -0.6814860035211608,
          -0.6570622921021158,
          0.4590691138896401,
          0.1115159899528678,
          -0.8235397988930174,
          -0.20767922265776242,
          -1.1838970928448629,
          -0.022341259874324976,
          -0.3433968775923162,
          0.6406045559225395,
          1.7270856783871933,
          -0.27193185920107,
          -0.5877854355443225,
          -0.037245495339675944,
          -0.1849483389914663,
          -0.16078296361041883,
          0.46750559320486534,
          -0.15736244941804114,
          0.7243460180766977,
          0.08336568949079164,
          1.552810084027135,
          -0.4990978365713263,
          -0.5424199453579893,
          -0.6670254191065584,
          -0.5810684571833208,
          0.7684373874825811,
          -1.8089497188926524,
          -0.7171001235335102,
          -0.1889693961018658,
          -0.14243641905905874,
          -0.21591263423672177,
          -0.5328618976066212,
          1.2175622829880528,
          0.8749988398285675,
          1.0841580540246796,
          -0.10505056777382872,
          -0.40622986259343896,
          0.7188368126483055,
          -0.4285782020733332,
          -0.9863858602870019,
          0.46737436850477376,
          -0.6018779621080492,
          0.9561029662334556,
          -0.3757140939101108,
          0.8583431576402678,
          -0.3100747528433868,
          -0.8794069583099637,
          -0.02329472421691714,
          0.02372577960795194,
          -0.35276345056937086,
          -0.41568733094845967,
          -0.16698490971480237,
          1.1808824665573168,
          -0.9651843257922825,
          1.0889224497171073,
          0.555005750504956,
          -0.403348283218964,
          0.4636030194588895,
          -0.20119230183464812,
          0.6343216422792848,
          0.01944751240017023,
          1.9348288883582048,
          -0.7415616221992825,
          0.17804110385305086,
          -0.6357675428868835,
          1.7175119292901326,
          1.8701599021291568,
          -0.25899838819178556,
          -0.4210769787704224,
          -0.35953578214710147,
          -1.0721255423494362,
          0.8574454623530992,
          -0.5146033374634094,
          -0.8934441124726354,
          -0.41042177947909125,
          -0.5203334447793841,
          0.4309019884018687,
          -0.41508337808922313,
          1.0586676751145083,
          0.47935234862227244,
          -0.27543677106615905,
          0.33192364920138195,
          -0.15151913322709679,
          0.09157781727827977,
          1.4665810217174613,
          -0.6502633020766931,
          0.5610745558849498,
          -0.2682098883610846,
          -0.5729075306051452,
          -0.4507375733036559,
          -0.3023646797837241,
          -0.21150458547020037,
          -0.5458371254613477,
          0.34073588168743785,
          2.0761079603714845,
          1.2433692367814215,
          0.26541029942808403,
          -1.0659411687601523,
          -0.7133287273961391,
          0.3762081310424073,
          0.8680695740404953,
          -0.9381494486788788,
          0.8418091641459582,
          1.6639700933160786,
          -0.3943984167865907,
          1.2139681760171754,
          -0.44039265189835425,
          -0.7800918857001998,
          0.19281469342566415,
          -0.6212612671591566,
          -0.3201631455158488,
          -0.679229564855627,
          -0.8891787645737742,
          -0.9022052822225377,
          1.32995472070987,
          -0.6275639076119527,
          0.9291656472535665,
          -0.3585262055740276,
          -0.020463972821024995,
          0.32933136209151337,
          1.1074209812000395,
          1.7841468695844334,
          -0.850296070327575,
          -0.45265358584855375,
          0.36116314866010396,
          -0.23541202114600807,
          1.0781229196517026,
          0.7969342021385628,
          -0.6939320425860752,
          -0.08575681324218654,
          0.015551973303743138,
          0.7207532714008754,
          1.2832277070163205,
          -0.2850766170601862,
          0.12514279300972994,
          -0.7466707898018508,
          -0.4957081498775431,
          -0.5422888432899801,
          -1.0937915314163178,
          -0.9105176956774369,
          -0.1035567240908568,
          -0.5281560194686571,
          -0.9920280166797764,
          -1.132222928221935,
          0.997146134986496,
          0.14859771032247188,
          0.974810560111541,
          0.4990469328411892,
          -0.7426304959028722,
          -0.19351278005196978,
          -0.39072199158800547,
          1.431705299795628,
          -0.9366760773607521,
          -0.8686834695396872,
          -0.5517152952072291,
          0.3736265508202459,
          -0.38067739425715075,
          -0.2797663406625797,
          1.557696963520097,
          -0.4724301791466794,
          0.3848729925601308,
          -0.6417895291478618,
          -0.7182975820490866,
          -0.4922112891543238,
          -0.42030730300422703,
          1.0589366705664969,
          1.0575876516505394,
          -0.1422164101431314,
          -0.6004772265058419,
          -0.6802039811043743,
          -0.8856706710085694,
          -0.2828198214379917,
          0.24754923718886046,
          -0.16873497566488374,
          0.5559973664781735,
          -0.44215190926715087,
          -0.344613430284719,
          1.3305041123589212,
          0.05702415004199843,
          -0.635938425910015,
          0.15198691534971137,
          -1.6107727319185567,
          -0.7574249320029218,
          0.4748295180776904,
          0.7758513430728552,
          0.38425699694617454,
          0.3196236442702141,
          -0.41924266784247377,
          0.7317231294128992,
          -0.33488102148334864,
          0.6312628569590675,
          0.22000696540617676,
          0.11660620468571839,
          0.8239615621089712,
          1.261526570897951,
          0.46176702384571183,
          1.1919352845848434,
          -0.6951398900252855,
          0.42258970449498107,
          0.8481567476807894,
          -1.0592790004939805,
          -0.09436798228438426,
          -0.7021214270207287,
          -0.31308357448770663,
          -0.7022507700990918,
          0.7154463132241928,
          -0.2702619458036286,
          1.0140301471648798,
          -1.0768966863815226,
          1.0524269174668184,
          1.2510247928994145,
          -0.3988379085684499,
          -0.49426151103661287,
          -0.9494835998003526,
          -0.6553456454368094,
          -0.6290450409894903,
          -0.4433546195964655,
          -0.7553172788514746,
          -0.20556570828129744,
          -0.4347372651594927,
          1.827634018280973,
          -0.3066264912818692,
          -0.47153616189208414,
          -0.767715357797938,
          -0.17795894229106493,
          0.2531624152887181,
          -0.562035387968132,
          -0.03950752103857061,
          0.622529740650367,
          -0.5454201319850289,
          0.3597603328278393,
          -0.6170783309674922,
          0.7649858170573117,
          -0.375641844585679,
          1.6728324497703189,
          -0.4671045341738723,
          -0.7867489574756497,
          -0.4585380445442695,
          -0.8297192508172433,
          -0.843105794946678,
          -1.1280356862698435,
          -0.029814434435611187,
          0.19994280210536575,
          0.15175794647165092,
          -0.7345258303002788,
          0.08346738065722958,
          0.2451355718893577,
          -0.5854237000184754,
          0.6939716853206629,
          -0.5383990739358933,
          -0.16512796108245648,
          1.7835904918077725,
          -0.13380436395473871,
          -0.6390412912097527,
          0.3374618250529013,
          -0.14921263168615598,
          1.6794018636418062,
          0.06453237753811567,
          -1.1877421032086135,
          -0.5007908092847244,
          -0.4179850394369883,
          1.699598708268357,
          0.17439525325255775,
          -0.41398022539250956,
          -0.27183741088893454,
          -0.8285755544252633,
          0.21101243796051838,
          -0.9610693835062719,
          -0.4875027821146736,
          1.4821233325138523,
          0.161623130540158,
          -0.9686322939531106,
          0.9771576865000831,
          1.215419074618655,
          -0.8448699900101851,
          1.5274117238803508,
          -0.27188750629343483,
          -0.16498426660527057,
          -0.023974208563745242,
          1.0576453540792163,
          0.6541824329067902,
          -1.070577357742223,
          0.6099927957333229,
          1.5657680048339153,
          -0.7285072961419456,
          -0.556717766702373,
          0.11948926644432772,
          -0.6776268168751693,
          1.5381025028207078,
          -0.9126813785417869,
          0.04245933593316667,
          -0.2518642611077801,
          -0.4776332185089194,
          -0.49333843512743913,
          -0.38149049780359445,
          -0.280798900326573,
          0.0044744225818199035,
          0.29543729924215195,
          -0.019236988073356553,
          1.440605526481604,
          -0.10731210204326266,
          -0.6519928401066937,
          0.07421810613589894,
          -0.6264114296639227,
          0.16945533900706805,
          0.6040607688867531,
          0.018671112963213832,
          0.05638213141874437,
          0.17576986833484667,
          -0.8145334804867692,
          1.25019325654021,
          1.6979990759139107,
          -0.2162856588271562,
          -0.5913025548922287,
          -0.4472533102948155,
          0.3516803146787022,
          0.8724521903188851,
          -0.47397750461308297,
          0.636620776423669,
          0.2062083478365128,
          -0.6162509062969613,
          0.20956689843944093,
          -0.8570258000167543,
          1.4016048952512983,
          -1.3119362460582975,
          -0.7716401644051303,
          1.070004383589337,
          -1.6707912307976358,
          -0.6040804315446493,
          0.918004718436026,
          0.02050265054444081,
          -0.6136103170997848,
          -0.29499764104972576,
          -1.1794590017831577,
          -0.06464306857672103,
          -0.45055782668520694,
          0.7566887344152186,
          0.06513032825862539,
          -0.5093464315465427,
          -0.22790544675670768,
          0.05029182786157241,
          -0.2803776122588021,
          -0.6308452537045244,
          0.09371224154625576,
          -0.5927931322193701,
          -0.5627988569536871,
          0.757682652809861,
          -0.10287798805182702,
          0.8024542666801552,
          -0.018115164832524205,
          1.7790844659548046,
          -0.7571388648996442,
          0.5338076955016895,
          0.105535597777341,
          -0.5264412137465792,
          -0.6494912244567066,
          1.312368095711376,
          1.3814626292084398,
          1.0771613194964638,
          -0.6461414109454925,
          0.7870612967080726,
          -0.5969941401005813,
          -1.1250445288849007,
          -1.1718394539744306,
          -0.5143646474029566,
          1.1702275312258976,
          -0.5159751327947686,
          -0.4230488030748314,
          -0.603171759627792,
          -0.5242174088997565,
          0.005200374525435453,
          -1.0170775014013558,
          1.0195079937398452,
          -0.6205935917224616,
          -1.3207401048051108,
          -0.681385633722455,
          -0.8187079746489954,
          -0.4271414850460191,
          0.5196063992242113,
          -0.14853671359550885,
          -0.9493832027624485,
          -0.38678254903654574,
          1.0926589392563244,
          -0.38553648117023565,
          -0.727644594031573,
          -0.5257555477077689,
          1.1789970797936877,
          1.837809644743366,
          -0.42187713758146245,
          -0.72553686884159,
          -0.44485511460944427,
          0.9840367266385877,
          -0.6668722586189026,
          1.6133899904501547,
          -0.8213176305479954,
          0.6716541527598098,
          0.145593879287102,
          -1.1057586182653103,
          -1.3085317790100572,
          1.8428091054431037,
          -0.3213618331672343,
          0.08296272385601922,
          -0.3793037176425411,
          -0.1770939220355963,
          -0.3121700849021371,
          -0.3070033998168106,
          -0.1728591258487903,
          -0.6969817770286427,
          -0.8730219181909238,
          0.7837812149211549,
          -0.6958544852855424,
          1.105567226745592,
          -0.9650876887823641,
          0.46673188451058173,
          1.027093753378469,
          0.3329154599909147,
          0.3572904562397831,
          -0.44034808371743206,
          -0.8654120327180874,
          1.0932500183525278,
          -0.5421179622864698,
          0.2740556119200202,
          -0.7959235385647047,
          -0.49091655885788243,
          -0.6268862932263602,
          -1.1076482498805462,
          0.8680920159803274,
          1.1090030731364817,
          -0.5368097551428497,
          -0.7835195448059151,
          -0.3626407429820764,
          0.874213520997042,
          1.1636802862851554,
          -0.535041954105443,
          -0.510138552361156,
          -0.586070924014592,
          0.009091735908387077,
          0.06748882767238915,
          1.318018224246869,
          1.0095480249561768,
          -0.7595340358451725,
          1.4307693399437362,
          1.0555585369201568,
          -0.6809457738991248,
          -0.6910293484221595,
          -0.1977874316464374,
          -0.12051632027486675,
          -0.6748665041644778,
          -0.008864279819901733,
          1.6759354344592279,
          -0.661469311438013,
          -0.8070716732572321,
          -1.0442015498149313,
          0.23519502303879303,
          1.2437459460361346,
          0.1268637084992988,
          1.1391937374988024,
          1.3974165035266868,
          -0.8291491301016984,
          0.3701482506480648,
          -0.07944290386914499,
          0.9883206500004504,
          -0.25448881642074667,
          0.02976558067143828,
          -0.16308464595121028,
          0.37194970057738813,
          -1.127475382599554,
          -1.0034846564715387,
          1.4472570344158047,
          0.1342681125356485,
          -0.35105961793389867,
          -0.7589950108160699,
          -0.8711924817797277,
          0.7853451087502796,
          0.3066500785026895,
          -0.06520181116921797,
          -0.8340338743280471,
          -0.2408247523852745,
          1.6836349558646118,
          -0.08279147242499701,
          0.6040890176329288,
          1.3867890199435322,
          -0.586573167542472,
          -0.8658112466425413,
          0.4892486414400506,
          -0.08596656745044401,
          -0.17790555178470283,
          -0.13339468078517736,
          0.1412931494109794,
          0.9856617721048979,
          -0.5451397935123612,
          0.02795457840547258,
          -0.2140093238886947,
          -0.765836885812775,
          0.45728201890494063,
          1.7862353726949103,
          0.7377969665725826,
          1.0948795360682717,
          -0.33507853170376045,
          1.1573595188664978,
          -0.4510458486728244,
          -0.6072306192273366,
          -1.907510225477717,
          1.7254395510298484,
          -0.8521770333811579,
          0.042023444066500965,
          0.26393297749643235,
          -1.0626610117290316,
          0.10635499125137868,
          -1.0872448083237543,
          0.9967726412864975,
          -0.8855120309022096,
          0.0005484568657617428,
          -0.3882102550914251,
          -0.37551396578459995,
          -0.2813605200874795,
          -0.8038000901618123,
          -0.5954041769784382,
          0.4789491338676745,
          1.7052078323844573,
          -1.2611915833335883,
          0.12912749529876105,
          -0.7701364398506342,
          0.784793107683978,
          -0.7251486817868924,
          -0.20826872334995356,
          -0.8819197619261813,
          -0.40066597671323734,
          0.42989464351052875,
          -1.0343719895761232,
          -0.404330259968104,
          -0.1498916159919161,
          -1.1554423514436865,
          0.06636140067042345,
          1.5538595301746365,
          -0.5742589974990305,
          -0.9532201575160164,
          -0.32896557133656434,
          0.016804933706567243,
          -0.44625990006165916,
          -0.08006751643108742,
          0.13785970593990898,
          -0.20500160314527832,
          0.47900288878393255,
          0.29046071943045426,
          -1.125516145662574,
          -0.3221178903154485,
          -0.5769103269135265,
          0.5904956043962429,
          -1.0509266843111504,
          1.753341693863018,
          1.3516794923635738,
          -0.2764314510175193,
          0.8522035651944598,
          0.1860236313999172,
          0.22461782592727697,
          1.9166926987608812,
          1.1772760861549154,
          0.6551340101965205,
          -0.4755812402977663,
          0.30599155806706363,
          -0.6662346749102157,
          -0.7567185542772353,
          0.09243726887443521,
          1.2041555199156218,
          -1.0138591154177032,
          -0.9576330081786726,
          -0.43754136725899334,
          -0.6658925480086226,
          -0.5586151984236637,
          -0.3479839839432797,
          -0.852620891920858,
          -0.6045545527153018,
          -0.08172520058803358,
          -0.7664588920662201,
          0.05882312937492906,
          -0.7486401600308717,
          0.06083271346405911,
          0.8503742006657836,
          1.1038943963968222,
          0.4201884749068266,
          -0.7889068634359488,
          0.40618017650843974,
          2.0444950708048086,
          -0.6767309272281359,
          1.119864651401064,
          1.0557451646548819,
          -0.17182901631073558,
          -0.6148552800884908,
          0.4329309549682576,
          0.9142118936462211,
          -0.10267504017538649,
          -0.36941329058496164,
          0.3844018916043351,
          -0.322656716974383,
          -0.26210421764619535
         ],
         "z": [
          -0.6040826269695436,
          -0.4801159809425794,
          0.4928927509158649,
          0.7109386484738627,
          0.4639073680177656,
          0.38768661348409283,
          0.3258569110681824,
          0.4364158987026975,
          -0.6709884639819452,
          0.3625047324255413,
          -0.4841842954367836,
          0.4450508685971258,
          0.4176827699683455,
          -0.5168637421188096,
          -0.6334102061357993,
          0.38649140183339614,
          -0.7269180906157726,
          0.6367606778880989,
          0.265079604027576,
          0.3578642583380826,
          0.26080514854454206,
          0.4181332966662373,
          0.2109433226886849,
          0.5953668584040734,
          -0.5741023497661915,
          0.4028837792367125,
          -0.13985445487379639,
          0.6044597068642688,
          -0.5521375944154923,
          0.45495911304945297,
          0.3757531289956105,
          0.4024381179944693,
          -0.657983694452006,
          0.27027455855360966,
          0.21855563146491427,
          0.5989537888615435,
          0.5253483795754592,
          0.2543841761878091,
          0.34903044230045643,
          0.36307136508786053,
          -0.6040679904674143,
          0.29296215722517555,
          0.49031595121427557,
          0.46828063623142796,
          -0.208787972941026,
          -0.5900687401688101,
          0.3768192399430196,
          0.33512364012999846,
          -0.5312107425057683,
          0.35642038451716657,
          -0.4434021129437193,
          -0.5364493032808407,
          -0.6728404860900603,
          -0.7364581590447221,
          0.39451184055163663,
          -0.026317655655934587,
          0.5324553277627757,
          0.5370965693797203,
          0.24538738012923755,
          0.4816881400718956,
          0.29848891147159423,
          0.2478833188661046,
          0.2809396794578927,
          -0.6290328679512786,
          0.28177336771872624,
          0.33911932447316884,
          0.34225044771971824,
          -0.5601060364063848,
          0.6195704686457999,
          0.41012706057070936,
          0.5695190719960378,
          0.41310929510947714,
          0.49201772137002936,
          0.3787185003970361,
          0.5927663747712457,
          -0.3956393998160481,
          0.48044392028627486,
          0.25661376386228074,
          0.3866493570394521,
          -0.6564362155928429,
          0.36566250964306857,
          -0.583645302062649,
          -0.23227832680211422,
          0.40651559283797456,
          -0.4466262011023849,
          0.2668422988631143,
          0.4486703857171159,
          0.29648367856403884,
          -0.4097269185875079,
          -0.45428068772379393,
          -0.7202471015024876,
          -0.31139202281767114,
          0.3221017175760487,
          0.2861328144820683,
          -0.6557050695958124,
          -0.6587932882466487,
          0.37637221951814337,
          0.3343404292633851,
          0.4200225586654109,
          0.8683053987731663,
          0.36469628093120904,
          -0.29528759615413414,
          0.36868601544786356,
          -0.31973898083741087,
          -0.6428584983975182,
          0.4184379255673262,
          -0.42564381049624594,
          0.35803402157506514,
          0.3668557463596343,
          0.4330501413914451,
          -0.39264300297397253,
          -0.672542490707327,
          0.4940496595216624,
          -0.5970207491186053,
          0.33725376000468077,
          -0.35637632119860535,
          0.4696779519043793,
          -0.4204382702810633,
          -0.2696444407631745,
          0.6937607260920233,
          0.4655202979872737,
          -0.7491454160954583,
          -0.38684830064248393,
          0.32369894542221544,
          0.34996156143901086,
          -0.5017318818599965,
          0.6049457804917686,
          0.288308584619918,
          0.5832544659153239,
          0.31701420792929536,
          -0.21120622828815203,
          -0.5986319367610226,
          0.25425505001779086,
          -0.5214532215548797,
          0.24863018751886323,
          -0.382144173266963,
          -0.6188411916496755,
          0.49414001401824803,
          -0.23630451012986084,
          0.2660524322082099,
          0.5398375196599174,
          -0.4033842114506809,
          -0.15385460379053617,
          0.3491117507100128,
          -0.709284540059984,
          0.2696836175728263,
          -0.6263351460471294,
          0.5097064390865667,
          0.4579080496819354,
          0.2707710866331871,
          -0.6714231302700303,
          -0.6248703937939193,
          0.2877590116501188,
          0.40522832000695563,
          0.8088220004402427,
          0.2844852482886016,
          -0.37488515685177587,
          -0.64024050585134,
          0.6938380142688003,
          -0.3591534714690007,
          -0.6029643612203588,
          0.3806268237526402,
          0.2968909058269796,
          0.47182290073330047,
          0.5080965543522852,
          -0.43176743626450503,
          0.24995915847012407,
          -0.4905055089667045,
          0.322983487078169,
          -0.6594181189340493,
          0.21651863901573423,
          0.33805055678925655,
          -0.5477106043766375,
          -0.587674492399132,
          0.4715146951869571,
          -0.5486860999653002,
          0.4180276633413284,
          -0.6774378956614925,
          0.5456666179474955,
          0.2833201207249984,
          0.4953088541030456,
          -0.6521289615721128,
          0.32059187165188124,
          -0.23577584889839595,
          -0.5278803950790735,
          -0.4785490005261332,
          -0.4407511577827107,
          -0.6447704095578829,
          0.4968638464088824,
          0.46965302660458913,
          -0.5995655702395666,
          -0.6699110778162432,
          -0.6529793799403237,
          -0.4169323430119721,
          -0.4979634838004004,
          -0.6447986788824878,
          0.5615160102281826,
          0.24143302858145055,
          0.4180253402864961,
          -0.7090304216059746,
          0.7729180157781806,
          -0.5332634135575058,
          0.36754425141143626,
          0.4262952349241921,
          0.42193866052805706,
          -0.689350176654559,
          0.3328689818139074,
          0.2626862133217468,
          -0.566955266668141,
          0.5301646939536415,
          -0.04407496379850242,
          0.4397154320586634,
          -0.4299652850023847,
          0.5858422194730804,
          -0.5649300720266527,
          -0.3977129333584056,
          -0.6777025016083817,
          -0.5671143547481673,
          -0.6785941207078497,
          -0.5935755112683072,
          0.4269351775933187,
          0.30384404592738123,
          -0.624411423775611,
          -0.600403443667742,
          -0.6962983426913325,
          -0.7107634938777206,
          0.2969740017160196,
          0.40008957235664044,
          0.3945248759932138,
          -0.528824810329634,
          0.353937789714043,
          0.399821567426709,
          -0.6383835926768887,
          0.29082575209328426,
          -0.5917622920920979,
          -0.6295516770615414,
          0.35531631377810446,
          -0.6868046453212692,
          -0.5908043555193027,
          0.27143335284786835,
          -0.6078301547412441,
          0.3374718765378408,
          0.49686038584077713,
          0.2505750279412551,
          0.7609798069817262,
          0.410378723750216,
          -0.3743600878402681,
          0.34385415403924313,
          -0.2730360271046838,
          -0.7284752797498479,
          0.3124836949510099,
          -0.7515934563550375,
          0.5429733596773647,
          0.46617530657226364,
          -0.5531344316306039,
          0.4239731385053154,
          0.4831600918114873,
          0.302900020541859,
          0.48915367717115393,
          0.3892526146893493,
          0.3874161366750052,
          -0.5351117674559076,
          0.692622005644808,
          -0.6289476780840777,
          0.21908374906963993,
          0.35583284365732115,
          -0.6523508874021773,
          0.3059121164522908,
          0.4459603895641273,
          -0.528478647423986,
          -0.6825813415863657,
          0.3983410579100861,
          -0.4939326265715686,
          -0.4355216602250049,
          0.47215035743235506,
          0.457040870430324,
          -0.24952034864576964,
          0.42656509926244496,
          -0.5864547477404248,
          -0.49981030852982433,
          -0.651963606744237,
          -0.6593712566591237,
          -0.41723411544549266,
          0.5414698981186516,
          0.25216155873387286,
          -0.6129143573886294,
          0.33595000242540257,
          0.9457123621826325,
          -0.6854590735352478,
          -0.6376619371628378,
          0.5387765347887905,
          0.4211616258713494,
          0.30550802642715896,
          -0.6731204639319747,
          -0.5720716638235958,
          0.462257696536367,
          -0.6193629850440416,
          -0.40926369536843876,
          0.5000836347272429,
          0.3184538046712188,
          0.2699216462187693,
          -0.48859542667854666,
          0.3465134282323829,
          0.3539831038646176,
          -0.6157694378906655,
          -0.4706522728643166,
          0.37439075693438384,
          0.29099366532078963,
          0.38855566761972754,
          0.30620825127126206,
          0.5220241142952603,
          0.4487537182423807,
          0.5055797140535391,
          -0.43677233376779007,
          0.6064603237523475,
          0.5729453344465806,
          0.4632452960729085,
          -0.7140650655263656,
          -0.7285551071725461,
          0.35329718889052636,
          -0.42614490960636936,
          -0.5422863068313681,
          -0.6527451548598728,
          0.3003470531807606,
          0.3580246961550301,
          -0.2507549825081915,
          -0.5732862861525317,
          -0.44624190618907233,
          0.32580863883245315,
          0.3629558796438434,
          -0.4984278192560328,
          -0.6834163415810451,
          -0.6660283892000538,
          -0.29266454064052944,
          0.34552678918573104,
          0.35289725663399296,
          0.4675475545282956,
          0.4132500591335212,
          0.6060837544970431,
          0.33487334246819644,
          0.2700614522250685,
          0.3178370549900051,
          0.24746188203665248,
          -0.5688843152764258,
          -0.4166397539151903,
          0.36368075345293854,
          0.2823919628371876,
          0.4927601768545932,
          -0.5133939400630647,
          -0.5134810412770442,
          -0.5307754625372663,
          0.6917431880307401,
          0.4939379122532811,
          -0.1652551203326814,
          -0.5807753497748198,
          -0.6930517206824451,
          0.08974546759531073,
          0.3625958595503091,
          -0.6436444703761683,
          0.2991059694901914,
          -0.6222737424691492,
          -0.45161837365904856,
          -0.35540197614342234,
          0.5112611010718685,
          0.3407049218464548,
          -0.6813249926274807,
          -0.7411000609717766,
          -0.6866318745564675,
          0.4445884877682413,
          -0.7532683993241704,
          -0.6540504063333341,
          0.3628508157640111,
          0.5012320349712944,
          0.4456165442631204,
          0.2938474030609374,
          -0.5262064903020776,
          -0.4037233886680443,
          0.3367136192951604,
          0.3094822952875382,
          -0.6217628490011866,
          -0.4202839044809202,
          -0.27686730093216194,
          0.5756044712319411,
          0.2697014988648967,
          -0.37347338132360064,
          0.361953840354632,
          0.3920270160868487,
          0.4066170382152497,
          -0.6114397194948434,
          -0.5541461611157859,
          0.3710682631367232,
          -0.3765952804687673,
          -0.37449703952317365,
          0.5513334832025363,
          0.33993152530321946,
          0.5364163146606995,
          -0.4773699825377809,
          -0.5161989360785031,
          -0.5631096073293919,
          0.3214707445286732,
          -0.07660231732099032,
          0.41173258475331503,
          0.18234608998459736,
          0.790994136447812,
          -0.4313125552668022,
          -0.4256542175542653,
          0.3856331501078283,
          0.5552057783108167,
          0.7907689918809586,
          0.8129617224846178,
          0.5476992037323867,
          0.4370279160696738,
          0.2348971341743047,
          -0.2511362904053908,
          0.7776454535626443,
          -0.6295558606798793,
          0.26388605159908335,
          -0.39241620327833227,
          0.2868231733580704,
          -0.4804644674323731,
          0.3580963112428644,
          -0.494682914033712,
          -0.6203779218606601,
          0.4397233591905781,
          -0.5540849514528398,
          -0.6077186499220645,
          0.5445867430103067,
          -0.5367263952282758,
          0.28798475524615885,
          0.34077399924235396,
          -0.5219394805027407,
          -0.6236074210007477,
          -0.7060168038490504,
          0.7561393585199745,
          0.31545472759290494,
          0.34924565224416054,
          0.4569587889680743,
          0.3214934172445603,
          0.2541395375454329,
          0.5280404059633327,
          -0.5682318997339179,
          -0.23186948978709074,
          -0.5829413090160311,
          0.3507305734370167,
          -0.4004750215712703,
          -0.5830767275387994,
          0.5435784855969956,
          -0.43882669244175515,
          0.3430273040496579,
          0.4732156408258424,
          0.45752609752963774,
          -0.6618490295581605,
          -0.6445794435114194,
          -0.5341487187389639,
          0.3674429233513987,
          0.3693049990120387,
          0.34794596646764614,
          -0.3568329238205747,
          0.30234764581066514,
          0.5884379476022472,
          -0.6599915757059227,
          0.33658384039520567,
          -0.6590925795894885,
          0.33546739891461524,
          -0.5951071552239747,
          -0.4293336700466847,
          -0.678322972522536,
          0.5036816133720844,
          0.3520340796045306,
          0.44086857736548046,
          0.3491487138089207,
          0.291434070021662,
          -0.7210693418293307,
          -0.6132264868956906,
          0.46266982295159725,
          0.5633468163209019,
          -0.7004702687276897,
          0.6035908223813773,
          0.3302876347400087,
          0.27567475070836966,
          0.360623281422545,
          -0.6297847727653221,
          -0.5783227373000192,
          0.35555702348993123,
          -0.47900507595524205,
          0.26416859096915524,
          0.2943940334053446,
          -0.23989230052206043,
          0.41759763380864623,
          0.45332922797277064,
          -0.5739237371822494,
          -0.23507105194003755,
          0.255358670978355,
          0.3564409909741113,
          0.41878551709037964,
          -0.658782512837539,
          -0.20077532700490977,
          -0.6403090213151211,
          -0.7035208705257436,
          -0.38322130212930183,
          -0.5994747979827277,
          -0.5829657619279595,
          0.39334091461834025,
          -0.2982963623062228,
          0.44274395984488935,
          0.46590989159566054,
          0.3216876014942557,
          0.3289971131702206,
          0.507406489501096,
          -0.2762201849332696,
          0.337538755832449,
          -0.6857089815940184,
          -0.675027699730547,
          0.3846559292182174,
          -0.39143896183310833,
          0.29625363643325275,
          0.7037373384237076,
          -0.469714882771606,
          -0.6526472656866791,
          0.5348509218007493,
          0.3258314459115369,
          0.6125355682502894,
          0.2430318475706852,
          0.2914836051397707,
          0.317466165428057,
          0.4309231865690294,
          -0.6359690578654463,
          0.3167078994530858,
          -0.6235963039003078,
          0.3898687946093284,
          -0.7767770655062273,
          -0.03634008640637202,
          -0.49157281804819103,
          -0.7411281327175064,
          -0.6925864044202846,
          0.6821785224271282,
          0.36572032640275465,
          0.4491652679118915,
          0.5941209218461122,
          -0.6355733769710125,
          -0.6150790405856882,
          -0.6817664243511052,
          -0.35968212705335517,
          0.3014476685937242,
          -0.2828684297075937,
          -0.5751067669981249,
          -0.648721408504618,
          0.40899576558340417,
          0.35236582865299987,
          -0.30028806163942684,
          -0.5890450414107317,
          -0.6959246588863963,
          0.5306026712247814,
          0.5036241811180145,
          0.34349950743881874,
          -0.6205587343007727,
          0.4285695644312996,
          0.41986765837379764,
          0.4617853890755352,
          0.27747898281649197,
          -0.6887917931356454,
          -0.3709314084027856,
          -0.37082600900300017,
          0.30989995682253574,
          0.2741143674558436,
          -0.5958564731098043,
          0.444173623042294,
          0.2945809294839148,
          -0.6898859190403961,
          0.2924188437324862,
          -0.5017649272267749,
          0.3401716650593848,
          -0.5854912688541478,
          0.42046739387257487,
          0.4654736467355553,
          -0.6317687318763696,
          0.6272354238723865,
          -0.6391635320501294,
          -0.1458274992266465,
          -0.6342085674383195,
          -0.4291559359709551,
          0.3647430407849007,
          0.34203634744436257,
          0.3184907459349499,
          -0.2659979250584707,
          0.36060862887654377,
          0.37368866160686864,
          0.3751906089308895,
          0.353530795932612,
          -0.39488013568729147,
          -0.627249305647839,
          -0.7166443961672062,
          -0.4443106177031641,
          0.3452252663729595,
          -0.6000889786492151,
          0.5297104368585753,
          0.5382820902095617,
          0.5941453352762385,
          -0.7030771462790122,
          0.46337755249049695,
          0.6299031993722616,
          0.3698188214394158,
          0.3319082822065481,
          0.4192353752779712,
          0.6089501340196483,
          -0.5825141856335402,
          -0.4606208248004684,
          -0.6026084344406721,
          -0.663238590552975,
          0.33958122337258234,
          0.5168733658574842,
          0.39307154237678255,
          0.32094562813362315,
          0.4571425798857647,
          0.3591540325421352,
          -0.6367898866395667,
          0.310242743335567,
          0.41080379958609015,
          -0.6062632320272495,
          0.534212637980232,
          0.22949890263265593,
          0.4754565579238956,
          -0.6344660835574664,
          -0.3769993937067186,
          0.3204241717910567
         ]
        }
       ],
       "layout": {
        "coloraxis": {
         "colorbar": {
          "title": {
           "text": "PC4"
          }
         },
         "colorscale": [
          [
           0,
           "#0d0887"
          ],
          [
           0.1111111111111111,
           "#46039f"
          ],
          [
           0.2222222222222222,
           "#7201a8"
          ],
          [
           0.3333333333333333,
           "#9c179e"
          ],
          [
           0.4444444444444444,
           "#bd3786"
          ],
          [
           0.5555555555555556,
           "#d8576b"
          ],
          [
           0.6666666666666666,
           "#ed7953"
          ],
          [
           0.7777777777777778,
           "#fb9f3a"
          ],
          [
           0.8888888888888888,
           "#fdca26"
          ],
          [
           1,
           "#f0f921"
          ]
         ]
        },
        "legend": {
         "tracegroupgap": 0
        },
        "margin": {
         "t": 60
        },
        "scene": {
         "domain": {
          "x": [
           0,
           1
          ],
          "y": [
           0,
           1
          ]
         },
         "xaxis": {
          "title": {
           "text": "PC1"
          }
         },
         "yaxis": {
          "title": {
           "text": "PC2"
          }
         },
         "zaxis": {
          "title": {
           "text": "PC3"
          }
         }
        },
        "template": {
         "data": {
          "bar": [
           {
            "error_x": {
             "color": "#2a3f5f"
            },
            "error_y": {
             "color": "#2a3f5f"
            },
            "marker": {
             "line": {
              "color": "#E5ECF6",
              "width": 0.5
             },
             "pattern": {
              "fillmode": "overlay",
              "size": 10,
              "solidity": 0.2
             }
            },
            "type": "bar"
           }
          ],
          "barpolar": [
           {
            "marker": {
             "line": {
              "color": "#E5ECF6",
              "width": 0.5
             },
             "pattern": {
              "fillmode": "overlay",
              "size": 10,
              "solidity": 0.2
             }
            },
            "type": "barpolar"
           }
          ],
          "carpet": [
           {
            "aaxis": {
             "endlinecolor": "#2a3f5f",
             "gridcolor": "white",
             "linecolor": "white",
             "minorgridcolor": "white",
             "startlinecolor": "#2a3f5f"
            },
            "baxis": {
             "endlinecolor": "#2a3f5f",
             "gridcolor": "white",
             "linecolor": "white",
             "minorgridcolor": "white",
             "startlinecolor": "#2a3f5f"
            },
            "type": "carpet"
           }
          ],
          "choropleth": [
           {
            "colorbar": {
             "outlinewidth": 0,
             "ticks": ""
            },
            "type": "choropleth"
           }
          ],
          "contour": [
           {
            "colorbar": {
             "outlinewidth": 0,
             "ticks": ""
            },
            "colorscale": [
             [
              0,
              "#0d0887"
             ],
             [
              0.1111111111111111,
              "#46039f"
             ],
             [
              0.2222222222222222,
              "#7201a8"
             ],
             [
              0.3333333333333333,
              "#9c179e"
             ],
             [
              0.4444444444444444,
              "#bd3786"
             ],
             [
              0.5555555555555556,
              "#d8576b"
             ],
             [
              0.6666666666666666,
              "#ed7953"
             ],
             [
              0.7777777777777778,
              "#fb9f3a"
             ],
             [
              0.8888888888888888,
              "#fdca26"
             ],
             [
              1,
              "#f0f921"
             ]
            ],
            "type": "contour"
           }
          ],
          "contourcarpet": [
           {
            "colorbar": {
             "outlinewidth": 0,
             "ticks": ""
            },
            "type": "contourcarpet"
           }
          ],
          "heatmap": [
           {
            "colorbar": {
             "outlinewidth": 0,
             "ticks": ""
            },
            "colorscale": [
             [
              0,
              "#0d0887"
             ],
             [
              0.1111111111111111,
              "#46039f"
             ],
             [
              0.2222222222222222,
              "#7201a8"
             ],
             [
              0.3333333333333333,
              "#9c179e"
             ],
             [
              0.4444444444444444,
              "#bd3786"
             ],
             [
              0.5555555555555556,
              "#d8576b"
             ],
             [
              0.6666666666666666,
              "#ed7953"
             ],
             [
              0.7777777777777778,
              "#fb9f3a"
             ],
             [
              0.8888888888888888,
              "#fdca26"
             ],
             [
              1,
              "#f0f921"
             ]
            ],
            "type": "heatmap"
           }
          ],
          "heatmapgl": [
           {
            "colorbar": {
             "outlinewidth": 0,
             "ticks": ""
            },
            "colorscale": [
             [
              0,
              "#0d0887"
             ],
             [
              0.1111111111111111,
              "#46039f"
             ],
             [
              0.2222222222222222,
              "#7201a8"
             ],
             [
              0.3333333333333333,
              "#9c179e"
             ],
             [
              0.4444444444444444,
              "#bd3786"
             ],
             [
              0.5555555555555556,
              "#d8576b"
             ],
             [
              0.6666666666666666,
              "#ed7953"
             ],
             [
              0.7777777777777778,
              "#fb9f3a"
             ],
             [
              0.8888888888888888,
              "#fdca26"
             ],
             [
              1,
              "#f0f921"
             ]
            ],
            "type": "heatmapgl"
           }
          ],
          "histogram": [
           {
            "marker": {
             "pattern": {
              "fillmode": "overlay",
              "size": 10,
              "solidity": 0.2
             }
            },
            "type": "histogram"
           }
          ],
          "histogram2d": [
           {
            "colorbar": {
             "outlinewidth": 0,
             "ticks": ""
            },
            "colorscale": [
             [
              0,
              "#0d0887"
             ],
             [
              0.1111111111111111,
              "#46039f"
             ],
             [
              0.2222222222222222,
              "#7201a8"
             ],
             [
              0.3333333333333333,
              "#9c179e"
             ],
             [
              0.4444444444444444,
              "#bd3786"
             ],
             [
              0.5555555555555556,
              "#d8576b"
             ],
             [
              0.6666666666666666,
              "#ed7953"
             ],
             [
              0.7777777777777778,
              "#fb9f3a"
             ],
             [
              0.8888888888888888,
              "#fdca26"
             ],
             [
              1,
              "#f0f921"
             ]
            ],
            "type": "histogram2d"
           }
          ],
          "histogram2dcontour": [
           {
            "colorbar": {
             "outlinewidth": 0,
             "ticks": ""
            },
            "colorscale": [
             [
              0,
              "#0d0887"
             ],
             [
              0.1111111111111111,
              "#46039f"
             ],
             [
              0.2222222222222222,
              "#7201a8"
             ],
             [
              0.3333333333333333,
              "#9c179e"
             ],
             [
              0.4444444444444444,
              "#bd3786"
             ],
             [
              0.5555555555555556,
              "#d8576b"
             ],
             [
              0.6666666666666666,
              "#ed7953"
             ],
             [
              0.7777777777777778,
              "#fb9f3a"
             ],
             [
              0.8888888888888888,
              "#fdca26"
             ],
             [
              1,
              "#f0f921"
             ]
            ],
            "type": "histogram2dcontour"
           }
          ],
          "mesh3d": [
           {
            "colorbar": {
             "outlinewidth": 0,
             "ticks": ""
            },
            "type": "mesh3d"
           }
          ],
          "parcoords": [
           {
            "line": {
             "colorbar": {
              "outlinewidth": 0,
              "ticks": ""
             }
            },
            "type": "parcoords"
           }
          ],
          "pie": [
           {
            "automargin": true,
            "type": "pie"
           }
          ],
          "scatter": [
           {
            "fillpattern": {
             "fillmode": "overlay",
             "size": 10,
             "solidity": 0.2
            },
            "type": "scatter"
           }
          ],
          "scatter3d": [
           {
            "line": {
             "colorbar": {
              "outlinewidth": 0,
              "ticks": ""
             }
            },
            "marker": {
             "colorbar": {
              "outlinewidth": 0,
              "ticks": ""
             }
            },
            "type": "scatter3d"
           }
          ],
          "scattercarpet": [
           {
            "marker": {
             "colorbar": {
              "outlinewidth": 0,
              "ticks": ""
             }
            },
            "type": "scattercarpet"
           }
          ],
          "scattergeo": [
           {
            "marker": {
             "colorbar": {
              "outlinewidth": 0,
              "ticks": ""
             }
            },
            "type": "scattergeo"
           }
          ],
          "scattergl": [
           {
            "marker": {
             "colorbar": {
              "outlinewidth": 0,
              "ticks": ""
             }
            },
            "type": "scattergl"
           }
          ],
          "scattermapbox": [
           {
            "marker": {
             "colorbar": {
              "outlinewidth": 0,
              "ticks": ""
             }
            },
            "type": "scattermapbox"
           }
          ],
          "scatterpolar": [
           {
            "marker": {
             "colorbar": {
              "outlinewidth": 0,
              "ticks": ""
             }
            },
            "type": "scatterpolar"
           }
          ],
          "scatterpolargl": [
           {
            "marker": {
             "colorbar": {
              "outlinewidth": 0,
              "ticks": ""
             }
            },
            "type": "scatterpolargl"
           }
          ],
          "scatterternary": [
           {
            "marker": {
             "colorbar": {
              "outlinewidth": 0,
              "ticks": ""
             }
            },
            "type": "scatterternary"
           }
          ],
          "surface": [
           {
            "colorbar": {
             "outlinewidth": 0,
             "ticks": ""
            },
            "colorscale": [
             [
              0,
              "#0d0887"
             ],
             [
              0.1111111111111111,
              "#46039f"
             ],
             [
              0.2222222222222222,
              "#7201a8"
             ],
             [
              0.3333333333333333,
              "#9c179e"
             ],
             [
              0.4444444444444444,
              "#bd3786"
             ],
             [
              0.5555555555555556,
              "#d8576b"
             ],
             [
              0.6666666666666666,
              "#ed7953"
             ],
             [
              0.7777777777777778,
              "#fb9f3a"
             ],
             [
              0.8888888888888888,
              "#fdca26"
             ],
             [
              1,
              "#f0f921"
             ]
            ],
            "type": "surface"
           }
          ],
          "table": [
           {
            "cells": {
             "fill": {
              "color": "#EBF0F8"
             },
             "line": {
              "color": "white"
             }
            },
            "header": {
             "fill": {
              "color": "#C8D4E3"
             },
             "line": {
              "color": "white"
             }
            },
            "type": "table"
           }
          ]
         },
         "layout": {
          "annotationdefaults": {
           "arrowcolor": "#2a3f5f",
           "arrowhead": 0,
           "arrowwidth": 1
          },
          "autotypenumbers": "strict",
          "coloraxis": {
           "colorbar": {
            "outlinewidth": 0,
            "ticks": ""
           }
          },
          "colorscale": {
           "diverging": [
            [
             0,
             "#8e0152"
            ],
            [
             0.1,
             "#c51b7d"
            ],
            [
             0.2,
             "#de77ae"
            ],
            [
             0.3,
             "#f1b6da"
            ],
            [
             0.4,
             "#fde0ef"
            ],
            [
             0.5,
             "#f7f7f7"
            ],
            [
             0.6,
             "#e6f5d0"
            ],
            [
             0.7,
             "#b8e186"
            ],
            [
             0.8,
             "#7fbc41"
            ],
            [
             0.9,
             "#4d9221"
            ],
            [
             1,
             "#276419"
            ]
           ],
           "sequential": [
            [
             0,
             "#0d0887"
            ],
            [
             0.1111111111111111,
             "#46039f"
            ],
            [
             0.2222222222222222,
             "#7201a8"
            ],
            [
             0.3333333333333333,
             "#9c179e"
            ],
            [
             0.4444444444444444,
             "#bd3786"
            ],
            [
             0.5555555555555556,
             "#d8576b"
            ],
            [
             0.6666666666666666,
             "#ed7953"
            ],
            [
             0.7777777777777778,
             "#fb9f3a"
            ],
            [
             0.8888888888888888,
             "#fdca26"
            ],
            [
             1,
             "#f0f921"
            ]
           ],
           "sequentialminus": [
            [
             0,
             "#0d0887"
            ],
            [
             0.1111111111111111,
             "#46039f"
            ],
            [
             0.2222222222222222,
             "#7201a8"
            ],
            [
             0.3333333333333333,
             "#9c179e"
            ],
            [
             0.4444444444444444,
             "#bd3786"
            ],
            [
             0.5555555555555556,
             "#d8576b"
            ],
            [
             0.6666666666666666,
             "#ed7953"
            ],
            [
             0.7777777777777778,
             "#fb9f3a"
            ],
            [
             0.8888888888888888,
             "#fdca26"
            ],
            [
             1,
             "#f0f921"
            ]
           ]
          },
          "colorway": [
           "#636efa",
           "#EF553B",
           "#00cc96",
           "#ab63fa",
           "#FFA15A",
           "#19d3f3",
           "#FF6692",
           "#B6E880",
           "#FF97FF",
           "#FECB52"
          ],
          "font": {
           "color": "#2a3f5f"
          },
          "geo": {
           "bgcolor": "white",
           "lakecolor": "white",
           "landcolor": "#E5ECF6",
           "showlakes": true,
           "showland": true,
           "subunitcolor": "white"
          },
          "hoverlabel": {
           "align": "left"
          },
          "hovermode": "closest",
          "mapbox": {
           "style": "light"
          },
          "paper_bgcolor": "white",
          "plot_bgcolor": "#E5ECF6",
          "polar": {
           "angularaxis": {
            "gridcolor": "white",
            "linecolor": "white",
            "ticks": ""
           },
           "bgcolor": "#E5ECF6",
           "radialaxis": {
            "gridcolor": "white",
            "linecolor": "white",
            "ticks": ""
           }
          },
          "scene": {
           "xaxis": {
            "backgroundcolor": "#E5ECF6",
            "gridcolor": "white",
            "gridwidth": 2,
            "linecolor": "white",
            "showbackground": true,
            "ticks": "",
            "zerolinecolor": "white"
           },
           "yaxis": {
            "backgroundcolor": "#E5ECF6",
            "gridcolor": "white",
            "gridwidth": 2,
            "linecolor": "white",
            "showbackground": true,
            "ticks": "",
            "zerolinecolor": "white"
           },
           "zaxis": {
            "backgroundcolor": "#E5ECF6",
            "gridcolor": "white",
            "gridwidth": 2,
            "linecolor": "white",
            "showbackground": true,
            "ticks": "",
            "zerolinecolor": "white"
           }
          },
          "shapedefaults": {
           "line": {
            "color": "#2a3f5f"
           }
          },
          "ternary": {
           "aaxis": {
            "gridcolor": "white",
            "linecolor": "white",
            "ticks": ""
           },
           "baxis": {
            "gridcolor": "white",
            "linecolor": "white",
            "ticks": ""
           },
           "bgcolor": "#E5ECF6",
           "caxis": {
            "gridcolor": "white",
            "linecolor": "white",
            "ticks": ""
           }
          },
          "title": {
           "x": 0.05
          },
          "xaxis": {
           "automargin": true,
           "gridcolor": "white",
           "linecolor": "white",
           "ticks": "",
           "title": {
            "standoff": 15
           },
           "zerolinecolor": "white",
           "zerolinewidth": 2
          },
          "yaxis": {
           "automargin": true,
           "gridcolor": "white",
           "linecolor": "white",
           "ticks": "",
           "title": {
            "standoff": 15
           },
           "zerolinecolor": "white",
           "zerolinewidth": 2
          }
         }
        }
       }
      }
     },
     "metadata": {},
     "output_type": "display_data"
    }
   ],
   "source": [
    "px.scatter_3d(df, x='PC1',y='PC2',z='PC3', color='PC4')"
   ]
  },
  {
   "attachments": {},
   "cell_type": "markdown",
   "metadata": {},
   "source": [
    "PC3 is mainly representing gender,\n",
    "PC2 is mainly representing age,\n",
    "PC1 is mainly representing income,\n",
    "PC4 is mainly representing people residing in California\n",
    "(California has the highest occurence of states at ~140)"
   ]
  },
  {
   "attachments": {},
   "cell_type": "markdown",
   "metadata": {},
   "source": [
    "# Now we will try a more simple cluster"
   ]
  },
  {
   "cell_type": "code",
   "execution_count": 1291,
   "metadata": {},
   "outputs": [],
   "source": [
    "clust_2_simple = clust_1[['income','age','gender_dummy']]"
   ]
  },
  {
   "cell_type": "code",
   "execution_count": 1292,
   "metadata": {},
   "outputs": [
    {
     "data": {
      "text/plain": [
       "RobustScaler()"
      ]
     },
     "execution_count": 1292,
     "metadata": {},
     "output_type": "execute_result"
    }
   ],
   "source": [
    "robScale.fit(clust_2_simple)"
   ]
  },
  {
   "cell_type": "code",
   "execution_count": 1293,
   "metadata": {},
   "outputs": [],
   "source": [
    "x = robScale.transform(clust_2_simple)"
   ]
  },
  {
   "cell_type": "code",
   "execution_count": 1294,
   "metadata": {},
   "outputs": [],
   "source": [
    "km = KMeans(n_clusters=3,\n",
    "            n_init=10,\n",
    "            random_state=0)"
   ]
  },
  {
   "cell_type": "code",
   "execution_count": 1295,
   "metadata": {},
   "outputs": [],
   "source": [
    "y_xr = km.fit_predict(x)\n",
    "clust_2_simple = pd.concat([clust_2_simple,pd.Series(y_xr, name='cluster')],axis=1)"
   ]
  },
  {
   "cell_type": "code",
   "execution_count": 1296,
   "metadata": {},
   "outputs": [
    {
     "data": {
      "text/plain": [
       "{0, 1, 2}"
      ]
     },
     "execution_count": 1296,
     "metadata": {},
     "output_type": "execute_result"
    }
   ],
   "source": [
    "set(y_xr)"
   ]
  },
  {
   "cell_type": "code",
   "execution_count": 1297,
   "metadata": {},
   "outputs": [
    {
     "data": {
      "image/png": "[encoded data removed]",
      "text/plain": [
       "<Figure size 640x480 with 1 Axes>"
      ]
     },
     "metadata": {},
     "output_type": "display_data"
    }
   ],
   "source": [
    "plot_clusters(x,y_xr,plt_cluster_centers=True)"
   ]
  },
  {
   "cell_type": "code",
   "execution_count": 1298,
   "metadata": {},
   "outputs": [
    {
     "name": "stderr",
     "output_type": "stream",
     "text": [
      "c:\\Users\\malco\\anaconda3\\lib\\site-packages\\sklearn\\cluster\\_kmeans.py:1036: UserWarning:\n",
      "\n",
      "KMeans is known to have a memory leak on Windows with MKL, when there are less chunks than available threads. You can avoid it by setting the environment variable OMP_NUM_THREADS=3.\n",
      "\n"
     ]
    },
    {
     "data": {
      "application/vnd.plotly.v1+json": {
       "config": {
        "plotlyServerURL": "https://plot.ly"
       },
       "data": [
        {
         "hovertemplate": "Number of Clusters=%{x}<br>Joints=%{y}<extra></extra>",
         "legendgroup": "",
         "line": {
          "color": "#636efa",
          "dash": "solid"
         },
         "marker": {
          "symbol": "circle"
         },
         "mode": "lines+markers",
         "name": "",
         "orientation": "v",
         "showlegend": false,
         "type": "scatter",
         "x": [
          1,
          2,
          3,
          4,
          5,
          6,
          7,
          8,
          9,
          10
         ],
         "xaxis": "x",
         "y": [
          952.3949625249336,
          641.2524466999968,
          429.440581188794,
          338.976745115636,
          276.0732045427975,
          234.22313311209075,
          196.56239576112802,
          168.94958433602906,
          153.28497022681267,
          137.56231051498958
         ],
         "yaxis": "y"
        }
       ],
       "layout": {
        "legend": {
         "tracegroupgap": 0
        },
        "margin": {
         "t": 60
        },
        "template": {
         "data": {
          "bar": [
           {
            "error_x": {
             "color": "#2a3f5f"
            },
            "error_y": {
             "color": "#2a3f5f"
            },
            "marker": {
             "line": {
              "color": "#E5ECF6",
              "width": 0.5
             },
             "pattern": {
              "fillmode": "overlay",
              "size": 10,
              "solidity": 0.2
             }
            },
            "type": "bar"
           }
          ],
          "barpolar": [
           {
            "marker": {
             "line": {
              "color": "#E5ECF6",
              "width": 0.5
             },
             "pattern": {
              "fillmode": "overlay",
              "size": 10,
              "solidity": 0.2
             }
            },
            "type": "barpolar"
           }
          ],
          "carpet": [
           {
            "aaxis": {
             "endlinecolor": "#2a3f5f",
             "gridcolor": "white",
             "linecolor": "white",
             "minorgridcolor": "white",
             "startlinecolor": "#2a3f5f"
            },
            "baxis": {
             "endlinecolor": "#2a3f5f",
             "gridcolor": "white",
             "linecolor": "white",
             "minorgridcolor": "white",
             "startlinecolor": "#2a3f5f"
            },
            "type": "carpet"
           }
          ],
          "choropleth": [
           {
            "colorbar": {
             "outlinewidth": 0,
             "ticks": ""
            },
            "type": "choropleth"
           }
          ],
          "contour": [
           {
            "colorbar": {
             "outlinewidth": 0,
             "ticks": ""
            },
            "colorscale": [
             [
              0,
              "#0d0887"
             ],
             [
              0.1111111111111111,
              "#46039f"
             ],
             [
              0.2222222222222222,
              "#7201a8"
             ],
             [
              0.3333333333333333,
              "#9c179e"
             ],
             [
              0.4444444444444444,
              "#bd3786"
             ],
             [
              0.5555555555555556,
              "#d8576b"
             ],
             [
              0.6666666666666666,
              "#ed7953"
             ],
             [
              0.7777777777777778,
              "#fb9f3a"
             ],
             [
              0.8888888888888888,
              "#fdca26"
             ],
             [
              1,
              "#f0f921"
             ]
            ],
            "type": "contour"
           }
          ],
          "contourcarpet": [
           {
            "colorbar": {
             "outlinewidth": 0,
             "ticks": ""
            },
            "type": "contourcarpet"
           }
          ],
          "heatmap": [
           {
            "colorbar": {
             "outlinewidth": 0,
             "ticks": ""
            },
            "colorscale": [
             [
              0,
              "#0d0887"
             ],
             [
              0.1111111111111111,
              "#46039f"
             ],
             [
              0.2222222222222222,
              "#7201a8"
             ],
             [
              0.3333333333333333,
              "#9c179e"
             ],
             [
              0.4444444444444444,
              "#bd3786"
             ],
             [
              0.5555555555555556,
              "#d8576b"
             ],
             [
              0.6666666666666666,
              "#ed7953"
             ],
             [
              0.7777777777777778,
              "#fb9f3a"
             ],
             [
              0.8888888888888888,
              "#fdca26"
             ],
             [
              1,
              "#f0f921"
             ]
            ],
            "type": "heatmap"
           }
          ],
          "heatmapgl": [
           {
            "colorbar": {
             "outlinewidth": 0,
             "ticks": ""
            },
            "colorscale": [
             [
              0,
              "#0d0887"
             ],
             [
              0.1111111111111111,
              "#46039f"
             ],
             [
              0.2222222222222222,
              "#7201a8"
             ],
             [
              0.3333333333333333,
              "#9c179e"
             ],
             [
              0.4444444444444444,
              "#bd3786"
             ],
             [
              0.5555555555555556,
              "#d8576b"
             ],
             [
              0.6666666666666666,
              "#ed7953"
             ],
             [
              0.7777777777777778,
              "#fb9f3a"
             ],
             [
              0.8888888888888888,
              "#fdca26"
             ],
             [
              1,
              "#f0f921"
             ]
            ],
            "type": "heatmapgl"
           }
          ],
          "histogram": [
           {
            "marker": {
             "pattern": {
              "fillmode": "overlay",
              "size": 10,
              "solidity": 0.2
             }
            },
            "type": "histogram"
           }
          ],
          "histogram2d": [
           {
            "colorbar": {
             "outlinewidth": 0,
             "ticks": ""
            },
            "colorscale": [
             [
              0,
              "#0d0887"
             ],
             [
              0.1111111111111111,
              "#46039f"
             ],
             [
              0.2222222222222222,
              "#7201a8"
             ],
             [
              0.3333333333333333,
              "#9c179e"
             ],
             [
              0.4444444444444444,
              "#bd3786"
             ],
             [
              0.5555555555555556,
              "#d8576b"
             ],
             [
              0.6666666666666666,
              "#ed7953"
             ],
             [
              0.7777777777777778,
              "#fb9f3a"
             ],
             [
              0.8888888888888888,
              "#fdca26"
             ],
             [
              1,
              "#f0f921"
             ]
            ],
            "type": "histogram2d"
           }
          ],
          "histogram2dcontour": [
           {
            "colorbar": {
             "outlinewidth": 0,
             "ticks": ""
            },
            "colorscale": [
             [
              0,
              "#0d0887"
             ],
             [
              0.1111111111111111,
              "#46039f"
             ],
             [
              0.2222222222222222,
              "#7201a8"
             ],
             [
              0.3333333333333333,
              "#9c179e"
             ],
             [
              0.4444444444444444,
              "#bd3786"
             ],
             [
              0.5555555555555556,
              "#d8576b"
             ],
             [
              0.6666666666666666,
              "#ed7953"
             ],
             [
              0.7777777777777778,
              "#fb9f3a"
             ],
             [
              0.8888888888888888,
              "#fdca26"
             ],
             [
              1,
              "#f0f921"
             ]
            ],
            "type": "histogram2dcontour"
           }
          ],
          "mesh3d": [
           {
            "colorbar": {
             "outlinewidth": 0,
             "ticks": ""
            },
            "type": "mesh3d"
           }
          ],
          "parcoords": [
           {
            "line": {
             "colorbar": {
              "outlinewidth": 0,
              "ticks": ""
             }
            },
            "type": "parcoords"
           }
          ],
          "pie": [
           {
            "automargin": true,
            "type": "pie"
           }
          ],
          "scatter": [
           {
            "fillpattern": {
             "fillmode": "overlay",
             "size": 10,
             "solidity": 0.2
            },
            "type": "scatter"
           }
          ],
          "scatter3d": [
           {
            "line": {
             "colorbar": {
              "outlinewidth": 0,
              "ticks": ""
             }
            },
            "marker": {
             "colorbar": {
              "outlinewidth": 0,
              "ticks": ""
             }
            },
            "type": "scatter3d"
           }
          ],
          "scattercarpet": [
           {
            "marker": {
             "colorbar": {
              "outlinewidth": 0,
              "ticks": ""
             }
            },
            "type": "scattercarpet"
           }
          ],
          "scattergeo": [
           {
            "marker": {
             "colorbar": {
              "outlinewidth": 0,
              "ticks": ""
             }
            },
            "type": "scattergeo"
           }
          ],
          "scattergl": [
           {
            "marker": {
             "colorbar": {
              "outlinewidth": 0,
              "ticks": ""
             }
            },
            "type": "scattergl"
           }
          ],
          "scattermapbox": [
           {
            "marker": {
             "colorbar": {
              "outlinewidth": 0,
              "ticks": ""
             }
            },
            "type": "scattermapbox"
           }
          ],
          "scatterpolar": [
           {
            "marker": {
             "colorbar": {
              "outlinewidth": 0,
              "ticks": ""
             }
            },
            "type": "scatterpolar"
           }
          ],
          "scatterpolargl": [
           {
            "marker": {
             "colorbar": {
              "outlinewidth": 0,
              "ticks": ""
             }
            },
            "type": "scatterpolargl"
           }
          ],
          "scatterternary": [
           {
            "marker": {
             "colorbar": {
              "outlinewidth": 0,
              "ticks": ""
             }
            },
            "type": "scatterternary"
           }
          ],
          "surface": [
           {
            "colorbar": {
             "outlinewidth": 0,
             "ticks": ""
            },
            "colorscale": [
             [
              0,
              "#0d0887"
             ],
             [
              0.1111111111111111,
              "#46039f"
             ],
             [
              0.2222222222222222,
              "#7201a8"
             ],
             [
              0.3333333333333333,
              "#9c179e"
             ],
             [
              0.4444444444444444,
              "#bd3786"
             ],
             [
              0.5555555555555556,
              "#d8576b"
             ],
             [
              0.6666666666666666,
              "#ed7953"
             ],
             [
              0.7777777777777778,
              "#fb9f3a"
             ],
             [
              0.8888888888888888,
              "#fdca26"
             ],
             [
              1,
              "#f0f921"
             ]
            ],
            "type": "surface"
           }
          ],
          "table": [
           {
            "cells": {
             "fill": {
              "color": "#EBF0F8"
             },
             "line": {
              "color": "white"
             }
            },
            "header": {
             "fill": {
              "color": "#C8D4E3"
             },
             "line": {
              "color": "white"
             }
            },
            "type": "table"
           }
          ]
         },
         "layout": {
          "annotationdefaults": {
           "arrowcolor": "#2a3f5f",
           "arrowhead": 0,
           "arrowwidth": 1
          },
          "autotypenumbers": "strict",
          "coloraxis": {
           "colorbar": {
            "outlinewidth": 0,
            "ticks": ""
           }
          },
          "colorscale": {
           "diverging": [
            [
             0,
             "#8e0152"
            ],
            [
             0.1,
             "#c51b7d"
            ],
            [
             0.2,
             "#de77ae"
            ],
            [
             0.3,
             "#f1b6da"
            ],
            [
             0.4,
             "#fde0ef"
            ],
            [
             0.5,
             "#f7f7f7"
            ],
            [
             0.6,
             "#e6f5d0"
            ],
            [
             0.7,
             "#b8e186"
            ],
            [
             0.8,
             "#7fbc41"
            ],
            [
             0.9,
             "#4d9221"
            ],
            [
             1,
             "#276419"
            ]
           ],
           "sequential": [
            [
             0,
             "#0d0887"
            ],
            [
             0.1111111111111111,
             "#46039f"
            ],
            [
             0.2222222222222222,
             "#7201a8"
            ],
            [
             0.3333333333333333,
             "#9c179e"
            ],
            [
             0.4444444444444444,
             "#bd3786"
            ],
            [
             0.5555555555555556,
             "#d8576b"
            ],
            [
             0.6666666666666666,
             "#ed7953"
            ],
            [
             0.7777777777777778,
             "#fb9f3a"
            ],
            [
             0.8888888888888888,
             "#fdca26"
            ],
            [
             1,
             "#f0f921"
            ]
           ],
           "sequentialminus": [
            [
             0,
             "#0d0887"
            ],
            [
             0.1111111111111111,
             "#46039f"
            ],
            [
             0.2222222222222222,
             "#7201a8"
            ],
            [
             0.3333333333333333,
             "#9c179e"
            ],
            [
             0.4444444444444444,
             "#bd3786"
            ],
            [
             0.5555555555555556,
             "#d8576b"
            ],
            [
             0.6666666666666666,
             "#ed7953"
            ],
            [
             0.7777777777777778,
             "#fb9f3a"
            ],
            [
             0.8888888888888888,
             "#fdca26"
            ],
            [
             1,
             "#f0f921"
            ]
           ]
          },
          "colorway": [
           "#636efa",
           "#EF553B",
           "#00cc96",
           "#ab63fa",
           "#FFA15A",
           "#19d3f3",
           "#FF6692",
           "#B6E880",
           "#FF97FF",
           "#FECB52"
          ],
          "font": {
           "color": "#2a3f5f"
          },
          "geo": {
           "bgcolor": "white",
           "lakecolor": "white",
           "landcolor": "#E5ECF6",
           "showlakes": true,
           "showland": true,
           "subunitcolor": "white"
          },
          "hoverlabel": {
           "align": "left"
          },
          "hovermode": "closest",
          "mapbox": {
           "style": "light"
          },
          "paper_bgcolor": "white",
          "plot_bgcolor": "#E5ECF6",
          "polar": {
           "angularaxis": {
            "gridcolor": "white",
            "linecolor": "white",
            "ticks": ""
           },
           "bgcolor": "#E5ECF6",
           "radialaxis": {
            "gridcolor": "white",
            "linecolor": "white",
            "ticks": ""
           }
          },
          "scene": {
           "xaxis": {
            "backgroundcolor": "#E5ECF6",
            "gridcolor": "white",
            "gridwidth": 2,
            "linecolor": "white",
            "showbackground": true,
            "ticks": "",
            "zerolinecolor": "white"
           },
           "yaxis": {
            "backgroundcolor": "#E5ECF6",
            "gridcolor": "white",
            "gridwidth": 2,
            "linecolor": "white",
            "showbackground": true,
            "ticks": "",
            "zerolinecolor": "white"
           },
           "zaxis": {
            "backgroundcolor": "#E5ECF6",
            "gridcolor": "white",
            "gridwidth": 2,
            "linecolor": "white",
            "showbackground": true,
            "ticks": "",
            "zerolinecolor": "white"
           }
          },
          "shapedefaults": {
           "line": {
            "color": "#2a3f5f"
           }
          },
          "ternary": {
           "aaxis": {
            "gridcolor": "white",
            "linecolor": "white",
            "ticks": ""
           },
           "baxis": {
            "gridcolor": "white",
            "linecolor": "white",
            "ticks": ""
           },
           "bgcolor": "#E5ECF6",
           "caxis": {
            "gridcolor": "white",
            "linecolor": "white",
            "ticks": ""
           }
          },
          "title": {
           "x": 0.05
          },
          "xaxis": {
           "automargin": true,
           "gridcolor": "white",
           "linecolor": "white",
           "ticks": "",
           "title": {
            "standoff": 15
           },
           "zerolinecolor": "white",
           "zerolinewidth": 2
          },
          "yaxis": {
           "automargin": true,
           "gridcolor": "white",
           "linecolor": "white",
           "ticks": "",
           "title": {
            "standoff": 15
           },
           "zerolinecolor": "white",
           "zerolinewidth": 2
          }
         }
        },
        "xaxis": {
         "anchor": "y",
         "domain": [
          0,
          1
         ],
         "title": {
          "text": "Number of Clusters"
         }
        },
        "yaxis": {
         "anchor": "x",
         "domain": [
          0,
          1
         ],
         "title": {
          "text": "Joints"
         }
        }
       }
      }
     },
     "metadata": {},
     "output_type": "display_data"
    }
   ],
   "source": [
    "plot_elbow(x)"
   ]
  },
  {
   "cell_type": "markdown",
   "metadata": {},
   "source": [
    "# PCA for simple cluster"
   ]
  },
  {
   "cell_type": "code",
   "execution_count": 1299,
   "metadata": {},
   "outputs": [
    {
     "data": {
      "text/plain": [
       "PCA(n_components=3)"
      ]
     },
     "execution_count": 1299,
     "metadata": {},
     "output_type": "execute_result"
    }
   ],
   "source": [
    "pca = PCA(n_components=3)\n",
    "pca.fit(x)"
   ]
  },
  {
   "cell_type": "code",
   "execution_count": 1300,
   "metadata": {},
   "outputs": [
    {
     "data": {
      "text/plain": [
       "[<matplotlib.lines.Line2D at 0x1cf2dfd3a60>]"
      ]
     },
     "execution_count": 1300,
     "metadata": {},
     "output_type": "execute_result"
    },
    {
     "data": {
      "image/png": "[encoded data removed]",
      "text/plain": [
       "<Figure size 640x480 with 1 Axes>"
      ]
     },
     "metadata": {},
     "output_type": "display_data"
    }
   ],
   "source": [
    "plt.plot(np.cumsum(pca.explained_variance_ratio_))"
   ]
  },
  {
   "cell_type": "code",
   "execution_count": 1301,
   "metadata": {},
   "outputs": [
    {
     "data": {
      "text/plain": [
       "<matplotlib.collections.PathCollection at 0x1cf2b9b6e50>"
      ]
     },
     "execution_count": 1301,
     "metadata": {},
     "output_type": "execute_result"
    },
    {
     "data": {
      "image/png": "[encoded data removed]",
      "text/plain": [
       "<Figure size 640x480 with 1 Axes>"
      ]
     },
     "metadata": {},
     "output_type": "display_data"
    }
   ],
   "source": [
    "pca = PCA(n_components=3)\n",
    "pca.fit(x)\n",
    "x_pca = pca.transform(x)\n",
    "plt.scatter(x_pca[:,0],x_pca[:,1],c=x_pca[:,2])"
   ]
  },
  {
   "cell_type": "code",
   "execution_count": 1302,
   "metadata": {},
   "outputs": [
    {
     "data": {
      "text/plain": [
       "<matplotlib.collections.PathCollection at 0x1cf2e2bf7c0>"
      ]
     },
     "execution_count": 1302,
     "metadata": {},
     "output_type": "execute_result"
    },
    {
     "data": {
      "image/png": "[encoded data removed]",
      "text/plain": [
       "<Figure size 640x480 with 1 Axes>"
      ]
     },
     "metadata": {},
     "output_type": "display_data"
    }
   ],
   "source": [
    "plt.scatter(clust_2_simple.income,clust_2_simple.age,c=clust_2_simple.gender_dummy)"
   ]
  },
  {
   "cell_type": "code",
   "execution_count": 1303,
   "metadata": {},
   "outputs": [],
   "source": [
    "pca = PCA(n_components=2)\n",
    "pca.fit(x)\n",
    "x_pca = pca.transform(x)"
   ]
  },
  {
   "cell_type": "code",
   "execution_count": 1304,
   "metadata": {},
   "outputs": [
    {
     "data": {
      "text/plain": [
       "<matplotlib.collections.PathCollection at 0x1cf2cca24c0>"
      ]
     },
     "execution_count": 1304,
     "metadata": {},
     "output_type": "execute_result"
    },
    {
     "data": {
      "image/png": "[encoded data removed]",
      "text/plain": [
       "<Figure size 640x480 with 1 Axes>"
      ]
     },
     "metadata": {},
     "output_type": "display_data"
    }
   ],
   "source": [
    "plt.scatter(x_pca[:,0],x_pca[:,1])"
   ]
  },
  {
   "attachments": {},
   "cell_type": "markdown",
   "metadata": {},
   "source": [
    "# Most Intricate Dataframe"
   ]
  },
  {
   "cell_type": "code",
   "execution_count": 1305,
   "metadata": {},
   "outputs": [
    {
     "data": {
      "text/html": [
       "<div>\n",
       "<style scoped>\n",
       "    .dataframe tbody tr th:only-of-type {\n",
       "        vertical-align: middle;\n",
       "    }\n",
       "\n",
       "    .dataframe tbody tr th {\n",
       "        vertical-align: top;\n",
       "    }\n",
       "\n",
       "    .dataframe thead th {\n",
       "        text-align: right;\n",
       "    }\n",
       "</style>\n",
       "<table border=\"1\" class=\"dataframe\">\n",
       "  <thead>\n",
       "    <tr style=\"text-align: right;\">\n",
       "      <th></th>\n",
       "      <th>cust_id</th>\n",
       "      <th>income</th>\n",
       "      <th>age</th>\n",
       "      <th>years_with_bank</th>\n",
       "      <th>nbr_children</th>\n",
       "      <th>marital_status</th>\n",
       "      <th>postal_code</th>\n",
       "    </tr>\n",
       "  </thead>\n",
       "  <tbody>\n",
       "    <tr>\n",
       "      <th>count</th>\n",
       "      <td>7.470000e+02</td>\n",
       "      <td>747.000000</td>\n",
       "      <td>747.000000</td>\n",
       "      <td>747.000000</td>\n",
       "      <td>747.000000</td>\n",
       "      <td>747.000000</td>\n",
       "      <td>747.000000</td>\n",
       "    </tr>\n",
       "    <tr>\n",
       "      <th>mean</th>\n",
       "      <td>1.362991e+06</td>\n",
       "      <td>22728.281124</td>\n",
       "      <td>42.479250</td>\n",
       "      <td>3.907631</td>\n",
       "      <td>0.714859</td>\n",
       "      <td>1.882195</td>\n",
       "      <td>59502.690763</td>\n",
       "    </tr>\n",
       "    <tr>\n",
       "      <th>std</th>\n",
       "      <td>2.925255e+02</td>\n",
       "      <td>22207.221405</td>\n",
       "      <td>19.114879</td>\n",
       "      <td>2.675634</td>\n",
       "      <td>1.103410</td>\n",
       "      <td>0.892051</td>\n",
       "      <td>31205.926508</td>\n",
       "    </tr>\n",
       "    <tr>\n",
       "      <th>min</th>\n",
       "      <td>1.362480e+06</td>\n",
       "      <td>0.000000</td>\n",
       "      <td>13.000000</td>\n",
       "      <td>0.000000</td>\n",
       "      <td>0.000000</td>\n",
       "      <td>1.000000</td>\n",
       "      <td>2149.000000</td>\n",
       "    </tr>\n",
       "    <tr>\n",
       "      <th>25%</th>\n",
       "      <td>1.362732e+06</td>\n",
       "      <td>7118.500000</td>\n",
       "      <td>28.000000</td>\n",
       "      <td>2.000000</td>\n",
       "      <td>0.000000</td>\n",
       "      <td>1.000000</td>\n",
       "      <td>33145.000000</td>\n",
       "    </tr>\n",
       "    <tr>\n",
       "      <th>50%</th>\n",
       "      <td>1.362993e+06</td>\n",
       "      <td>17242.000000</td>\n",
       "      <td>42.000000</td>\n",
       "      <td>4.000000</td>\n",
       "      <td>0.000000</td>\n",
       "      <td>2.000000</td>\n",
       "      <td>64132.000000</td>\n",
       "    </tr>\n",
       "    <tr>\n",
       "      <th>75%</th>\n",
       "      <td>1.363244e+06</td>\n",
       "      <td>31338.000000</td>\n",
       "      <td>56.000000</td>\n",
       "      <td>6.000000</td>\n",
       "      <td>1.000000</td>\n",
       "      <td>2.000000</td>\n",
       "      <td>90082.000000</td>\n",
       "    </tr>\n",
       "    <tr>\n",
       "      <th>max</th>\n",
       "      <td>1.363495e+06</td>\n",
       "      <td>144157.000000</td>\n",
       "      <td>89.000000</td>\n",
       "      <td>9.000000</td>\n",
       "      <td>5.000000</td>\n",
       "      <td>4.000000</td>\n",
       "      <td>98186.000000</td>\n",
       "    </tr>\n",
       "  </tbody>\n",
       "</table>\n",
       "</div>"
      ],
      "text/plain": [
       "            cust_id         income         age  years_with_bank  nbr_children  \\\n",
       "count  7.470000e+02     747.000000  747.000000       747.000000    747.000000   \n",
       "mean   1.362991e+06   22728.281124   42.479250         3.907631      0.714859   \n",
       "std    2.925255e+02   22207.221405   19.114879         2.675634      1.103410   \n",
       "min    1.362480e+06       0.000000   13.000000         0.000000      0.000000   \n",
       "25%    1.362732e+06    7118.500000   28.000000         2.000000      0.000000   \n",
       "50%    1.362993e+06   17242.000000   42.000000         4.000000      0.000000   \n",
       "75%    1.363244e+06   31338.000000   56.000000         6.000000      1.000000   \n",
       "max    1.363495e+06  144157.000000   89.000000         9.000000      5.000000   \n",
       "\n",
       "       marital_status   postal_code  \n",
       "count      747.000000    747.000000  \n",
       "mean         1.882195  59502.690763  \n",
       "std          0.892051  31205.926508  \n",
       "min          1.000000   2149.000000  \n",
       "25%          1.000000  33145.000000  \n",
       "50%          2.000000  64132.000000  \n",
       "75%          2.000000  90082.000000  \n",
       "max          4.000000  98186.000000  "
      ]
     },
     "execution_count": 1305,
     "metadata": {},
     "output_type": "execute_result"
    }
   ],
   "source": [
    "cust.describe()"
   ]
  },
  {
   "cell_type": "code",
   "execution_count": 1306,
   "metadata": {},
   "outputs": [],
   "source": [
    "complex_clust = cust[['income','age','years_with_bank','nbr_children','gender','marital_status','name_prefix','postal_code','state_code']]"
   ]
  },
  {
   "cell_type": "code",
   "execution_count": 1307,
   "metadata": {},
   "outputs": [
    {
     "data": {
      "text/html": [
       "<div>\n",
       "<style scoped>\n",
       "    .dataframe tbody tr th:only-of-type {\n",
       "        vertical-align: middle;\n",
       "    }\n",
       "\n",
       "    .dataframe tbody tr th {\n",
       "        vertical-align: top;\n",
       "    }\n",
       "\n",
       "    .dataframe thead th {\n",
       "        text-align: right;\n",
       "    }\n",
       "</style>\n",
       "<table border=\"1\" class=\"dataframe\">\n",
       "  <thead>\n",
       "    <tr style=\"text-align: right;\">\n",
       "      <th></th>\n",
       "      <th>cust_id</th>\n",
       "      <th>income</th>\n",
       "      <th>age</th>\n",
       "      <th>years_with_bank</th>\n",
       "      <th>nbr_children</th>\n",
       "      <th>marital_status</th>\n",
       "      <th>postal_code</th>\n",
       "    </tr>\n",
       "  </thead>\n",
       "  <tbody>\n",
       "    <tr>\n",
       "      <th>count</th>\n",
       "      <td>7.470000e+02</td>\n",
       "      <td>747.000000</td>\n",
       "      <td>747.000000</td>\n",
       "      <td>747.000000</td>\n",
       "      <td>747.000000</td>\n",
       "      <td>747.000000</td>\n",
       "      <td>747.000000</td>\n",
       "    </tr>\n",
       "    <tr>\n",
       "      <th>mean</th>\n",
       "      <td>1.362991e+06</td>\n",
       "      <td>22728.281124</td>\n",
       "      <td>42.479250</td>\n",
       "      <td>3.907631</td>\n",
       "      <td>0.714859</td>\n",
       "      <td>1.882195</td>\n",
       "      <td>59502.690763</td>\n",
       "    </tr>\n",
       "    <tr>\n",
       "      <th>std</th>\n",
       "      <td>2.925255e+02</td>\n",
       "      <td>22207.221405</td>\n",
       "      <td>19.114879</td>\n",
       "      <td>2.675634</td>\n",
       "      <td>1.103410</td>\n",
       "      <td>0.892051</td>\n",
       "      <td>31205.926508</td>\n",
       "    </tr>\n",
       "    <tr>\n",
       "      <th>min</th>\n",
       "      <td>1.362480e+06</td>\n",
       "      <td>0.000000</td>\n",
       "      <td>13.000000</td>\n",
       "      <td>0.000000</td>\n",
       "      <td>0.000000</td>\n",
       "      <td>1.000000</td>\n",
       "      <td>2149.000000</td>\n",
       "    </tr>\n",
       "    <tr>\n",
       "      <th>25%</th>\n",
       "      <td>1.362732e+06</td>\n",
       "      <td>7118.500000</td>\n",
       "      <td>28.000000</td>\n",
       "      <td>2.000000</td>\n",
       "      <td>0.000000</td>\n",
       "      <td>1.000000</td>\n",
       "      <td>33145.000000</td>\n",
       "    </tr>\n",
       "    <tr>\n",
       "      <th>50%</th>\n",
       "      <td>1.362993e+06</td>\n",
       "      <td>17242.000000</td>\n",
       "      <td>42.000000</td>\n",
       "      <td>4.000000</td>\n",
       "      <td>0.000000</td>\n",
       "      <td>2.000000</td>\n",
       "      <td>64132.000000</td>\n",
       "    </tr>\n",
       "    <tr>\n",
       "      <th>75%</th>\n",
       "      <td>1.363244e+06</td>\n",
       "      <td>31338.000000</td>\n",
       "      <td>56.000000</td>\n",
       "      <td>6.000000</td>\n",
       "      <td>1.000000</td>\n",
       "      <td>2.000000</td>\n",
       "      <td>90082.000000</td>\n",
       "    </tr>\n",
       "    <tr>\n",
       "      <th>max</th>\n",
       "      <td>1.363495e+06</td>\n",
       "      <td>144157.000000</td>\n",
       "      <td>89.000000</td>\n",
       "      <td>9.000000</td>\n",
       "      <td>5.000000</td>\n",
       "      <td>4.000000</td>\n",
       "      <td>98186.000000</td>\n",
       "    </tr>\n",
       "  </tbody>\n",
       "</table>\n",
       "</div>"
      ],
      "text/plain": [
       "            cust_id         income         age  years_with_bank  nbr_children  \\\n",
       "count  7.470000e+02     747.000000  747.000000       747.000000    747.000000   \n",
       "mean   1.362991e+06   22728.281124   42.479250         3.907631      0.714859   \n",
       "std    2.925255e+02   22207.221405   19.114879         2.675634      1.103410   \n",
       "min    1.362480e+06       0.000000   13.000000         0.000000      0.000000   \n",
       "25%    1.362732e+06    7118.500000   28.000000         2.000000      0.000000   \n",
       "50%    1.362993e+06   17242.000000   42.000000         4.000000      0.000000   \n",
       "75%    1.363244e+06   31338.000000   56.000000         6.000000      1.000000   \n",
       "max    1.363495e+06  144157.000000   89.000000         9.000000      5.000000   \n",
       "\n",
       "       marital_status   postal_code  \n",
       "count      747.000000    747.000000  \n",
       "mean         1.882195  59502.690763  \n",
       "std          0.892051  31205.926508  \n",
       "min          1.000000   2149.000000  \n",
       "25%          1.000000  33145.000000  \n",
       "50%          2.000000  64132.000000  \n",
       "75%          2.000000  90082.000000  \n",
       "max          4.000000  98186.000000  "
      ]
     },
     "execution_count": 1307,
     "metadata": {},
     "output_type": "execute_result"
    }
   ],
   "source": [
    "cust.describe()"
   ]
  },
  {
   "cell_type": "code",
   "execution_count": 1308,
   "metadata": {},
   "outputs": [
    {
     "name": "stderr",
     "output_type": "stream",
     "text": [
      "C:\\Users\\malco\\AppData\\Local\\Temp\\ipykernel_17664\\1918214793.py:1: SettingWithCopyWarning:\n",
      "\n",
      "\n",
      "A value is trying to be set on a copy of a slice from a DataFrame.\n",
      "Try using .loc[row_indexer,col_indexer] = value instead\n",
      "\n",
      "See the caveats in the documentation: https://pandas.pydata.org/pandas-docs/stable/user_guide/indexing.html#returning-a-view-versus-a-copy\n",
      "\n"
     ]
    }
   ],
   "source": [
    "complex_clust['parent'] = complex_clust['nbr_children'].transform(lambda x: x > 0).map({True:1,False:0})"
   ]
  },
  {
   "cell_type": "code",
   "execution_count": 1309,
   "metadata": {},
   "outputs": [
    {
     "name": "stderr",
     "output_type": "stream",
     "text": [
      "C:\\Users\\malco\\AppData\\Local\\Temp\\ipykernel_17664\\3123557935.py:1: SettingWithCopyWarning:\n",
      "\n",
      "\n",
      "A value is trying to be set on a copy of a slice from a DataFrame.\n",
      "Try using .loc[row_indexer,col_indexer] = value instead\n",
      "\n",
      "See the caveats in the documentation: https://pandas.pydata.org/pandas-docs/stable/user_guide/indexing.html#returning-a-view-versus-a-copy\n",
      "\n"
     ]
    }
   ],
   "source": [
    "complex_clust['gender'] = complex_clust['gender'].replace({'M':1,'F':0})"
   ]
  },
  {
   "cell_type": "code",
   "execution_count": 1310,
   "metadata": {},
   "outputs": [],
   "source": [
    "complex_clust['has_prefix'] = complex_clust['name_prefix'].transform(lambda x: x != '').map({True:1,False:0})"
   ]
  },
  {
   "cell_type": "code",
   "execution_count": 1311,
   "metadata": {},
   "outputs": [
    {
     "data": {
      "text/plain": [
       "TX    83\n",
       "OK    16\n",
       "NJ    12\n",
       "LA     3\n",
       "Name: state_code, dtype: int64"
      ]
     },
     "execution_count": 1311,
     "metadata": {},
     "output_type": "execute_result"
    }
   ],
   "source": [
    "cust[ (cust.postal_code.astype(str).str.startswith('7'))].state_code.value_counts()"
   ]
  },
  {
   "attachments": {},
   "cell_type": "markdown",
   "metadata": {},
   "source": [
    "MA and NJ are problems. Switch everything that has a length of 4 to start with 1"
   ]
  },
  {
   "cell_type": "code",
   "execution_count": 1312,
   "metadata": {},
   "outputs": [],
   "source": [
    "complex_clust.loc[(complex_clust.postal_code.astype(str).str.len()==4),'postal_code'] = 1"
   ]
  },
  {
   "cell_type": "code",
   "execution_count": 1313,
   "metadata": {},
   "outputs": [],
   "source": [
    "complex_clust['postal_code'] = complex_clust['postal_code'].astype(str).str[0]"
   ]
  },
  {
   "cell_type": "code",
   "execution_count": 1314,
   "metadata": {},
   "outputs": [],
   "source": [
    "tmp_dummies = pd.get_dummies(complex_clust['state_code'])"
   ]
  },
  {
   "cell_type": "code",
   "execution_count": 1315,
   "metadata": {},
   "outputs": [],
   "source": [
    "complex_clust = pd.concat([complex_clust,tmp_dummies], axis=1)"
   ]
  },
  {
   "cell_type": "code",
   "execution_count": 1316,
   "metadata": {},
   "outputs": [],
   "source": [
    "post_dummies = pd.get_dummies(complex_clust.postal_code,prefix='region')\n"
   ]
  },
  {
   "cell_type": "code",
   "execution_count": 1317,
   "metadata": {},
   "outputs": [],
   "source": [
    "complex_clust = pd.concat([complex_clust,post_dummies],axis=1)"
   ]
  },
  {
   "cell_type": "code",
   "execution_count": 1318,
   "metadata": {},
   "outputs": [],
   "source": [
    "complex_clust.drop(['nbr_children','name_prefix','postal_code','state_code'],axis=1,inplace=True)"
   ]
  },
  {
   "attachments": {},
   "cell_type": "markdown",
   "metadata": {},
   "source": [
    "49 dimensions"
   ]
  },
  {
   "attachments": {},
   "cell_type": "markdown",
   "metadata": {},
   "source": [
    "onto PCA"
   ]
  },
  {
   "cell_type": "code",
   "execution_count": 1319,
   "metadata": {},
   "outputs": [
    {
     "data": {
      "text/plain": [
       "PCA()"
      ]
     },
     "execution_count": 1319,
     "metadata": {},
     "output_type": "execute_result"
    }
   ],
   "source": [
    "pca = PCA()\n",
    "pca.fit(complex_clust)"
   ]
  },
  {
   "cell_type": "code",
   "execution_count": 1320,
   "metadata": {},
   "outputs": [],
   "source": [
    "x = pca.transform(complex_clust)"
   ]
  },
  {
   "cell_type": "code",
   "execution_count": 1321,
   "metadata": {},
   "outputs": [
    {
     "data": {
      "text/plain": [
       "array([9.99999283e-01, 6.97076783e-07, 1.40472692e-08, 1.54330711e-09,\n",
       "       8.46091327e-10, 5.67748126e-10, 5.10448608e-10, 4.15095988e-10,\n",
       "       3.90763697e-10, 2.77668151e-10, 2.54820258e-10, 1.90956435e-10,\n",
       "       1.58641555e-10, 1.21607433e-10, 1.00369493e-10, 9.20654494e-11,\n",
       "       8.27345338e-11, 6.53663637e-11, 6.26983606e-11, 5.27250838e-11,\n",
       "       4.52407569e-11, 4.12902758e-11, 3.98831455e-11, 3.86870857e-11,\n",
       "       3.81306293e-11, 3.75168475e-11, 2.70682790e-11, 2.67503639e-11,\n",
       "       2.43995640e-11, 2.28907430e-11, 2.22158286e-11, 1.82301998e-11,\n",
       "       1.43903541e-11, 1.41757710e-11, 1.29410973e-11, 1.23505535e-11,\n",
       "       1.05994740e-11, 8.11690443e-12, 6.32523935e-12, 9.98401322e-33,\n",
       "       9.98401322e-33, 9.98401322e-33, 9.98401322e-33, 9.98401322e-33,\n",
       "       9.98401322e-33, 9.98401322e-33, 9.98401322e-33, 9.98401322e-33,\n",
       "       9.98401322e-33])"
      ]
     },
     "execution_count": 1321,
     "metadata": {},
     "output_type": "execute_result"
    }
   ],
   "source": [
    "pca.explained_variance_ratio_"
   ]
  },
  {
   "cell_type": "code",
   "execution_count": 1322,
   "metadata": {},
   "outputs": [
    {
     "data": {
      "text/plain": [
       "[<matplotlib.lines.Line2D at 0x1cf292c5ac0>]"
      ]
     },
     "execution_count": 1322,
     "metadata": {},
     "output_type": "execute_result"
    },
    {
     "data": {
      "image/png": "[encoded data removed]",
      "text/plain": [
       "<Figure size 640x480 with 1 Axes>"
      ]
     },
     "metadata": {},
     "output_type": "display_data"
    }
   ],
   "source": [
    "plt.plot(np.cumsum(pca.explained_variance_ratio_[2:]))"
   ]
  },
  {
   "cell_type": "code",
   "execution_count": 1323,
   "metadata": {},
   "outputs": [],
   "source": [
    "pca = PCA(n_components=10)\n",
    "pca.fit(complex_clust)\n",
    "x = pca.transform(complex_clust)"
   ]
  },
  {
   "cell_type": "code",
   "execution_count": null,
   "metadata": {},
   "outputs": [],
   "source": []
  },
  {
   "cell_type": "code",
   "execution_count": 1324,
   "metadata": {},
   "outputs": [
    {
     "name": "stderr",
     "output_type": "stream",
     "text": [
      "c:\\Users\\malco\\anaconda3\\lib\\site-packages\\sklearn\\cluster\\_kmeans.py:1036: UserWarning:\n",
      "\n",
      "KMeans is known to have a memory leak on Windows with MKL, when there are less chunks than available threads. You can avoid it by setting the environment variable OMP_NUM_THREADS=3.\n",
      "\n"
     ]
    },
    {
     "data": {
      "application/vnd.plotly.v1+json": {
       "config": {
        "plotlyServerURL": "https://plot.ly"
       },
       "data": [
        {
         "hovertemplate": "Number of Clusters=%{x}<br>Joints=%{y}<extra></extra>",
         "legendgroup": "",
         "line": {
          "color": "#636efa",
          "dash": "solid"
         },
         "marker": {
          "symbol": "circle"
         },
         "mode": "lines+markers",
         "name": "",
         "orientation": "v",
         "showlegend": false,
         "type": "scatter",
         "x": [
          1,
          2,
          3,
          4,
          5,
          6,
          7,
          8,
          9,
          10
         ],
         "xaxis": "x",
         "y": [
          367898148897.5708,
          133707810492.13094,
          66699114250.939224,
          37886256710.83003,
          27302928254.543377,
          17710405928.824955,
          12252598768.091581,
          8789437061.833002,
          6875080807.271679,
          5539540248.734317
         ],
         "yaxis": "y"
        }
       ],
       "layout": {
        "legend": {
         "tracegroupgap": 0
        },
        "margin": {
         "t": 60
        },
        "template": {
         "data": {
          "bar": [
           {
            "error_x": {
             "color": "#2a3f5f"
            },
            "error_y": {
             "color": "#2a3f5f"
            },
            "marker": {
             "line": {
              "color": "#E5ECF6",
              "width": 0.5
             },
             "pattern": {
              "fillmode": "overlay",
              "size": 10,
              "solidity": 0.2
             }
            },
            "type": "bar"
           }
          ],
          "barpolar": [
           {
            "marker": {
             "line": {
              "color": "#E5ECF6",
              "width": 0.5
             },
             "pattern": {
              "fillmode": "overlay",
              "size": 10,
              "solidity": 0.2
             }
            },
            "type": "barpolar"
           }
          ],
          "carpet": [
           {
            "aaxis": {
             "endlinecolor": "#2a3f5f",
             "gridcolor": "white",
             "linecolor": "white",
             "minorgridcolor": "white",
             "startlinecolor": "#2a3f5f"
            },
            "baxis": {
             "endlinecolor": "#2a3f5f",
             "gridcolor": "white",
             "linecolor": "white",
             "minorgridcolor": "white",
             "startlinecolor": "#2a3f5f"
            },
            "type": "carpet"
           }
          ],
          "choropleth": [
           {
            "colorbar": {
             "outlinewidth": 0,
             "ticks": ""
            },
            "type": "choropleth"
           }
          ],
          "contour": [
           {
            "colorbar": {
             "outlinewidth": 0,
             "ticks": ""
            },
            "colorscale": [
             [
              0,
              "#0d0887"
             ],
             [
              0.1111111111111111,
              "#46039f"
             ],
             [
              0.2222222222222222,
              "#7201a8"
             ],
             [
              0.3333333333333333,
              "#9c179e"
             ],
             [
              0.4444444444444444,
              "#bd3786"
             ],
             [
              0.5555555555555556,
              "#d8576b"
             ],
             [
              0.6666666666666666,
              "#ed7953"
             ],
             [
              0.7777777777777778,
              "#fb9f3a"
             ],
             [
              0.8888888888888888,
              "#fdca26"
             ],
             [
              1,
              "#f0f921"
             ]
            ],
            "type": "contour"
           }
          ],
          "contourcarpet": [
           {
            "colorbar": {
             "outlinewidth": 0,
             "ticks": ""
            },
            "type": "contourcarpet"
           }
          ],
          "heatmap": [
           {
            "colorbar": {
             "outlinewidth": 0,
             "ticks": ""
            },
            "colorscale": [
             [
              0,
              "#0d0887"
             ],
             [
              0.1111111111111111,
              "#46039f"
             ],
             [
              0.2222222222222222,
              "#7201a8"
             ],
             [
              0.3333333333333333,
              "#9c179e"
             ],
             [
              0.4444444444444444,
              "#bd3786"
             ],
             [
              0.5555555555555556,
              "#d8576b"
             ],
             [
              0.6666666666666666,
              "#ed7953"
             ],
             [
              0.7777777777777778,
              "#fb9f3a"
             ],
             [
              0.8888888888888888,
              "#fdca26"
             ],
             [
              1,
              "#f0f921"
             ]
            ],
            "type": "heatmap"
           }
          ],
          "heatmapgl": [
           {
            "colorbar": {
             "outlinewidth": 0,
             "ticks": ""
            },
            "colorscale": [
             [
              0,
              "#0d0887"
             ],
             [
              0.1111111111111111,
              "#46039f"
             ],
             [
              0.2222222222222222,
              "#7201a8"
             ],
             [
              0.3333333333333333,
              "#9c179e"
             ],
             [
              0.4444444444444444,
              "#bd3786"
             ],
             [
              0.5555555555555556,
              "#d8576b"
             ],
             [
              0.6666666666666666,
              "#ed7953"
             ],
             [
              0.7777777777777778,
              "#fb9f3a"
             ],
             [
              0.8888888888888888,
              "#fdca26"
             ],
             [
              1,
              "#f0f921"
             ]
            ],
            "type": "heatmapgl"
           }
          ],
          "histogram": [
           {
            "marker": {
             "pattern": {
              "fillmode": "overlay",
              "size": 10,
              "solidity": 0.2
             }
            },
            "type": "histogram"
           }
          ],
          "histogram2d": [
           {
            "colorbar": {
             "outlinewidth": 0,
             "ticks": ""
            },
            "colorscale": [
             [
              0,
              "#0d0887"
             ],
             [
              0.1111111111111111,
              "#46039f"
             ],
             [
              0.2222222222222222,
              "#7201a8"
             ],
             [
              0.3333333333333333,
              "#9c179e"
             ],
             [
              0.4444444444444444,
              "#bd3786"
             ],
             [
              0.5555555555555556,
              "#d8576b"
             ],
             [
              0.6666666666666666,
              "#ed7953"
             ],
             [
              0.7777777777777778,
              "#fb9f3a"
             ],
             [
              0.8888888888888888,
              "#fdca26"
             ],
             [
              1,
              "#f0f921"
             ]
            ],
            "type": "histogram2d"
           }
          ],
          "histogram2dcontour": [
           {
            "colorbar": {
             "outlinewidth": 0,
             "ticks": ""
            },
            "colorscale": [
             [
              0,
              "#0d0887"
             ],
             [
              0.1111111111111111,
              "#46039f"
             ],
             [
              0.2222222222222222,
              "#7201a8"
             ],
             [
              0.3333333333333333,
              "#9c179e"
             ],
             [
              0.4444444444444444,
              "#bd3786"
             ],
             [
              0.5555555555555556,
              "#d8576b"
             ],
             [
              0.6666666666666666,
              "#ed7953"
             ],
             [
              0.7777777777777778,
              "#fb9f3a"
             ],
             [
              0.8888888888888888,
              "#fdca26"
             ],
             [
              1,
              "#f0f921"
             ]
            ],
            "type": "histogram2dcontour"
           }
          ],
          "mesh3d": [
           {
            "colorbar": {
             "outlinewidth": 0,
             "ticks": ""
            },
            "type": "mesh3d"
           }
          ],
          "parcoords": [
           {
            "line": {
             "colorbar": {
              "outlinewidth": 0,
              "ticks": ""
             }
            },
            "type": "parcoords"
           }
          ],
          "pie": [
           {
            "automargin": true,
            "type": "pie"
           }
          ],
          "scatter": [
           {
            "fillpattern": {
             "fillmode": "overlay",
             "size": 10,
             "solidity": 0.2
            },
            "type": "scatter"
           }
          ],
          "scatter3d": [
           {
            "line": {
             "colorbar": {
              "outlinewidth": 0,
              "ticks": ""
             }
            },
            "marker": {
             "colorbar": {
              "outlinewidth": 0,
              "ticks": ""
             }
            },
            "type": "scatter3d"
           }
          ],
          "scattercarpet": [
           {
            "marker": {
             "colorbar": {
              "outlinewidth": 0,
              "ticks": ""
             }
            },
            "type": "scattercarpet"
           }
          ],
          "scattergeo": [
           {
            "marker": {
             "colorbar": {
              "outlinewidth": 0,
              "ticks": ""
             }
            },
            "type": "scattergeo"
           }
          ],
          "scattergl": [
           {
            "marker": {
             "colorbar": {
              "outlinewidth": 0,
              "ticks": ""
             }
            },
            "type": "scattergl"
           }
          ],
          "scattermapbox": [
           {
            "marker": {
             "colorbar": {
              "outlinewidth": 0,
              "ticks": ""
             }
            },
            "type": "scattermapbox"
           }
          ],
          "scatterpolar": [
           {
            "marker": {
             "colorbar": {
              "outlinewidth": 0,
              "ticks": ""
             }
            },
            "type": "scatterpolar"
           }
          ],
          "scatterpolargl": [
           {
            "marker": {
             "colorbar": {
              "outlinewidth": 0,
              "ticks": ""
             }
            },
            "type": "scatterpolargl"
           }
          ],
          "scatterternary": [
           {
            "marker": {
             "colorbar": {
              "outlinewidth": 0,
              "ticks": ""
             }
            },
            "type": "scatterternary"
           }
          ],
          "surface": [
           {
            "colorbar": {
             "outlinewidth": 0,
             "ticks": ""
            },
            "colorscale": [
             [
              0,
              "#0d0887"
             ],
             [
              0.1111111111111111,
              "#46039f"
             ],
             [
              0.2222222222222222,
              "#7201a8"
             ],
             [
              0.3333333333333333,
              "#9c179e"
             ],
             [
              0.4444444444444444,
              "#bd3786"
             ],
             [
              0.5555555555555556,
              "#d8576b"
             ],
             [
              0.6666666666666666,
              "#ed7953"
             ],
             [
              0.7777777777777778,
              "#fb9f3a"
             ],
             [
              0.8888888888888888,
              "#fdca26"
             ],
             [
              1,
              "#f0f921"
             ]
            ],
            "type": "surface"
           }
          ],
          "table": [
           {
            "cells": {
             "fill": {
              "color": "#EBF0F8"
             },
             "line": {
              "color": "white"
             }
            },
            "header": {
             "fill": {
              "color": "#C8D4E3"
             },
             "line": {
              "color": "white"
             }
            },
            "type": "table"
           }
          ]
         },
         "layout": {
          "annotationdefaults": {
           "arrowcolor": "#2a3f5f",
           "arrowhead": 0,
           "arrowwidth": 1
          },
          "autotypenumbers": "strict",
          "coloraxis": {
           "colorbar": {
            "outlinewidth": 0,
            "ticks": ""
           }
          },
          "colorscale": {
           "diverging": [
            [
             0,
             "#8e0152"
            ],
            [
             0.1,
             "#c51b7d"
            ],
            [
             0.2,
             "#de77ae"
            ],
            [
             0.3,
             "#f1b6da"
            ],
            [
             0.4,
             "#fde0ef"
            ],
            [
             0.5,
             "#f7f7f7"
            ],
            [
             0.6,
             "#e6f5d0"
            ],
            [
             0.7,
             "#b8e186"
            ],
            [
             0.8,
             "#7fbc41"
            ],
            [
             0.9,
             "#4d9221"
            ],
            [
             1,
             "#276419"
            ]
           ],
           "sequential": [
            [
             0,
             "#0d0887"
            ],
            [
             0.1111111111111111,
             "#46039f"
            ],
            [
             0.2222222222222222,
             "#7201a8"
            ],
            [
             0.3333333333333333,
             "#9c179e"
            ],
            [
             0.4444444444444444,
             "#bd3786"
            ],
            [
             0.5555555555555556,
             "#d8576b"
            ],
            [
             0.6666666666666666,
             "#ed7953"
            ],
            [
             0.7777777777777778,
             "#fb9f3a"
            ],
            [
             0.8888888888888888,
             "#fdca26"
            ],
            [
             1,
             "#f0f921"
            ]
           ],
           "sequentialminus": [
            [
             0,
             "#0d0887"
            ],
            [
             0.1111111111111111,
             "#46039f"
            ],
            [
             0.2222222222222222,
             "#7201a8"
            ],
            [
             0.3333333333333333,
             "#9c179e"
            ],
            [
             0.4444444444444444,
             "#bd3786"
            ],
            [
             0.5555555555555556,
             "#d8576b"
            ],
            [
             0.6666666666666666,
             "#ed7953"
            ],
            [
             0.7777777777777778,
             "#fb9f3a"
            ],
            [
             0.8888888888888888,
             "#fdca26"
            ],
            [
             1,
             "#f0f921"
            ]
           ]
          },
          "colorway": [
           "#636efa",
           "#EF553B",
           "#00cc96",
           "#ab63fa",
           "#FFA15A",
           "#19d3f3",
           "#FF6692",
           "#B6E880",
           "#FF97FF",
           "#FECB52"
          ],
          "font": {
           "color": "#2a3f5f"
          },
          "geo": {
           "bgcolor": "white",
           "lakecolor": "white",
           "landcolor": "#E5ECF6",
           "showlakes": true,
           "showland": true,
           "subunitcolor": "white"
          },
          "hoverlabel": {
           "align": "left"
          },
          "hovermode": "closest",
          "mapbox": {
           "style": "light"
          },
          "paper_bgcolor": "white",
          "plot_bgcolor": "#E5ECF6",
          "polar": {
           "angularaxis": {
            "gridcolor": "white",
            "linecolor": "white",
            "ticks": ""
           },
           "bgcolor": "#E5ECF6",
           "radialaxis": {
            "gridcolor": "white",
            "linecolor": "white",
            "ticks": ""
           }
          },
          "scene": {
           "xaxis": {
            "backgroundcolor": "#E5ECF6",
            "gridcolor": "white",
            "gridwidth": 2,
            "linecolor": "white",
            "showbackground": true,
            "ticks": "",
            "zerolinecolor": "white"
           },
           "yaxis": {
            "backgroundcolor": "#E5ECF6",
            "gridcolor": "white",
            "gridwidth": 2,
            "linecolor": "white",
            "showbackground": true,
            "ticks": "",
            "zerolinecolor": "white"
           },
           "zaxis": {
            "backgroundcolor": "#E5ECF6",
            "gridcolor": "white",
            "gridwidth": 2,
            "linecolor": "white",
            "showbackground": true,
            "ticks": "",
            "zerolinecolor": "white"
           }
          },
          "shapedefaults": {
           "line": {
            "color": "#2a3f5f"
           }
          },
          "ternary": {
           "aaxis": {
            "gridcolor": "white",
            "linecolor": "white",
            "ticks": ""
           },
           "baxis": {
            "gridcolor": "white",
            "linecolor": "white",
            "ticks": ""
           },
           "bgcolor": "#E5ECF6",
           "caxis": {
            "gridcolor": "white",
            "linecolor": "white",
            "ticks": ""
           }
          },
          "title": {
           "x": 0.05
          },
          "xaxis": {
           "automargin": true,
           "gridcolor": "white",
           "linecolor": "white",
           "ticks": "",
           "title": {
            "standoff": 15
           },
           "zerolinecolor": "white",
           "zerolinewidth": 2
          },
          "yaxis": {
           "automargin": true,
           "gridcolor": "white",
           "linecolor": "white",
           "ticks": "",
           "title": {
            "standoff": 15
           },
           "zerolinecolor": "white",
           "zerolinewidth": 2
          }
         }
        },
        "xaxis": {
         "anchor": "y",
         "domain": [
          0,
          1
         ],
         "title": {
          "text": "Number of Clusters"
         }
        },
        "yaxis": {
         "anchor": "x",
         "domain": [
          0,
          1
         ],
         "title": {
          "text": "Joints"
         }
        }
       }
      }
     },
     "metadata": {},
     "output_type": "display_data"
    }
   ],
   "source": [
    "plot_elbow(x)"
   ]
  },
  {
   "cell_type": "code",
   "execution_count": 1325,
   "metadata": {},
   "outputs": [
    {
     "data": {
      "image/png": "[encoded data removed]",
      "text/plain": [
       "<Figure size 640x480 with 1 Axes>"
      ]
     },
     "metadata": {},
     "output_type": "display_data"
    }
   ],
   "source": [
    "km = KMeans(n_clusters=3,\n",
    "            n_init=10,\n",
    "            random_state=0)\n",
    "y = km.fit_predict(x)\n",
    "plot_clusters(x,y,plt_cluster_centers=True)"
   ]
  },
  {
   "cell_type": "code",
   "execution_count": 1326,
   "metadata": {},
   "outputs": [],
   "source": [
    "tmp_srs = pd.Series(y,name='cluster')"
   ]
  },
  {
   "cell_type": "code",
   "execution_count": 1327,
   "metadata": {},
   "outputs": [],
   "source": [
    "complex_clust = pd.concat([complex_clust,tmp_srs],axis=1,)"
   ]
  },
  {
   "cell_type": "code",
   "execution_count": 1328,
   "metadata": {},
   "outputs": [],
   "source": [
    "complex_clust.columns = ['income', 'age', 'years_with_bank', 'gender', 'marital_status',\n",
    "       'parent', 'has_prefix', 'AL', 'AZ', 'CA', 'CO', 'DC', 'FL', 'GA', 'HI',\n",
    "       'IL', 'IN', 'KS', 'KY', 'LA', 'MA', 'MD', 'MI', 'MN', 'MO', 'NB', 'NC',\n",
    "       'NJ', 'NM', 'NV', 'NY', 'OH', 'OK', 'OR', 'PA', 'TN', 'TX', 'VA', 'WA',\n",
    "       'WI', 'near_NY', 'near_VA', 'near_FL', 'near_OH', 'near_MN',\n",
    "       'near_MI', 'near_TX', 'near_CO', 'near_CA', 'cluster']"
   ]
  },
  {
   "attachments": {},
   "cell_type": "markdown",
   "metadata": {},
   "source": [
    "## Comparing clusters"
   ]
  },
  {
   "attachments": {},
   "cell_type": "markdown",
   "metadata": {},
   "source": [
    "- 1 = north east / New York\n",
    "- 2 = east / Virginia\n",
    "- 3 = south east / Florida\n",
    "- 4 = center east / Ohio\n",
    "- 5 = center north east / Minnesota\n",
    "- 6 = center center east / missouri\n",
    "- 7 = south / Texas\n",
    "- 8 = south west / Colorado\n",
    "- 9 = west west / California"
   ]
  },
  {
   "cell_type": "code",
   "execution_count": 1337,
   "metadata": {},
   "outputs": [
    {
     "data": {
      "text/html": [
       "<div>\n",
       "<style scoped>\n",
       "    .dataframe tbody tr th:only-of-type {\n",
       "        vertical-align: middle;\n",
       "    }\n",
       "\n",
       "    .dataframe tbody tr th {\n",
       "        vertical-align: top;\n",
       "    }\n",
       "\n",
       "    .dataframe thead th {\n",
       "        text-align: right;\n",
       "    }\n",
       "</style>\n",
       "<table border=\"1\" class=\"dataframe\">\n",
       "  <thead>\n",
       "    <tr style=\"text-align: right;\">\n",
       "      <th></th>\n",
       "      <th>income</th>\n",
       "      <th>age</th>\n",
       "      <th>years_with_bank</th>\n",
       "      <th>gender</th>\n",
       "      <th>marital_status</th>\n",
       "      <th>parent</th>\n",
       "      <th>has_prefix</th>\n",
       "      <th>AL</th>\n",
       "      <th>AZ</th>\n",
       "      <th>CA</th>\n",
       "      <th>...</th>\n",
       "      <th>near_NY</th>\n",
       "      <th>near_VA</th>\n",
       "      <th>near_FL</th>\n",
       "      <th>near_OH</th>\n",
       "      <th>near_MN</th>\n",
       "      <th>near_MI</th>\n",
       "      <th>near_TX</th>\n",
       "      <th>near_CO</th>\n",
       "      <th>near_CA</th>\n",
       "      <th>cluster</th>\n",
       "    </tr>\n",
       "  </thead>\n",
       "  <tbody>\n",
       "    <tr>\n",
       "      <th>count</th>\n",
       "      <td>44.000000</td>\n",
       "      <td>44.000000</td>\n",
       "      <td>44.000000</td>\n",
       "      <td>44.000000</td>\n",
       "      <td>44.000000</td>\n",
       "      <td>44.000000</td>\n",
       "      <td>44.000000</td>\n",
       "      <td>44.0</td>\n",
       "      <td>44.000000</td>\n",
       "      <td>44.000000</td>\n",
       "      <td>...</td>\n",
       "      <td>44.000000</td>\n",
       "      <td>44.000000</td>\n",
       "      <td>44.000000</td>\n",
       "      <td>44.000000</td>\n",
       "      <td>44.000000</td>\n",
       "      <td>44.000000</td>\n",
       "      <td>44.000000</td>\n",
       "      <td>44.000000</td>\n",
       "      <td>44.000000</td>\n",
       "      <td>44.0</td>\n",
       "    </tr>\n",
       "    <tr>\n",
       "      <th>mean</th>\n",
       "      <td>84921.363636</td>\n",
       "      <td>49.590909</td>\n",
       "      <td>3.954545</td>\n",
       "      <td>0.636364</td>\n",
       "      <td>2.227273</td>\n",
       "      <td>0.522727</td>\n",
       "      <td>0.454545</td>\n",
       "      <td>0.0</td>\n",
       "      <td>0.022727</td>\n",
       "      <td>0.250000</td>\n",
       "      <td>...</td>\n",
       "      <td>0.181818</td>\n",
       "      <td>0.045455</td>\n",
       "      <td>0.068182</td>\n",
       "      <td>0.068182</td>\n",
       "      <td>0.022727</td>\n",
       "      <td>0.159091</td>\n",
       "      <td>0.136364</td>\n",
       "      <td>0.068182</td>\n",
       "      <td>0.250000</td>\n",
       "      <td>2.0</td>\n",
       "    </tr>\n",
       "    <tr>\n",
       "      <th>std</th>\n",
       "      <td>20145.032926</td>\n",
       "      <td>7.758920</td>\n",
       "      <td>2.769892</td>\n",
       "      <td>0.486607</td>\n",
       "      <td>0.885638</td>\n",
       "      <td>0.505258</td>\n",
       "      <td>0.503686</td>\n",
       "      <td>0.0</td>\n",
       "      <td>0.150756</td>\n",
       "      <td>0.438019</td>\n",
       "      <td>...</td>\n",
       "      <td>0.390154</td>\n",
       "      <td>0.210707</td>\n",
       "      <td>0.254972</td>\n",
       "      <td>0.254972</td>\n",
       "      <td>0.150756</td>\n",
       "      <td>0.369989</td>\n",
       "      <td>0.347142</td>\n",
       "      <td>0.254972</td>\n",
       "      <td>0.438019</td>\n",
       "      <td>0.0</td>\n",
       "    </tr>\n",
       "    <tr>\n",
       "      <th>min</th>\n",
       "      <td>61300.000000</td>\n",
       "      <td>30.000000</td>\n",
       "      <td>0.000000</td>\n",
       "      <td>0.000000</td>\n",
       "      <td>1.000000</td>\n",
       "      <td>0.000000</td>\n",
       "      <td>0.000000</td>\n",
       "      <td>0.0</td>\n",
       "      <td>0.000000</td>\n",
       "      <td>0.000000</td>\n",
       "      <td>...</td>\n",
       "      <td>0.000000</td>\n",
       "      <td>0.000000</td>\n",
       "      <td>0.000000</td>\n",
       "      <td>0.000000</td>\n",
       "      <td>0.000000</td>\n",
       "      <td>0.000000</td>\n",
       "      <td>0.000000</td>\n",
       "      <td>0.000000</td>\n",
       "      <td>0.000000</td>\n",
       "      <td>2.0</td>\n",
       "    </tr>\n",
       "    <tr>\n",
       "      <th>25%</th>\n",
       "      <td>71503.500000</td>\n",
       "      <td>43.000000</td>\n",
       "      <td>2.000000</td>\n",
       "      <td>0.000000</td>\n",
       "      <td>2.000000</td>\n",
       "      <td>0.000000</td>\n",
       "      <td>0.000000</td>\n",
       "      <td>0.0</td>\n",
       "      <td>0.000000</td>\n",
       "      <td>0.000000</td>\n",
       "      <td>...</td>\n",
       "      <td>0.000000</td>\n",
       "      <td>0.000000</td>\n",
       "      <td>0.000000</td>\n",
       "      <td>0.000000</td>\n",
       "      <td>0.000000</td>\n",
       "      <td>0.000000</td>\n",
       "      <td>0.000000</td>\n",
       "      <td>0.000000</td>\n",
       "      <td>0.000000</td>\n",
       "      <td>2.0</td>\n",
       "    </tr>\n",
       "    <tr>\n",
       "      <th>50%</th>\n",
       "      <td>80283.000000</td>\n",
       "      <td>52.000000</td>\n",
       "      <td>3.500000</td>\n",
       "      <td>1.000000</td>\n",
       "      <td>2.000000</td>\n",
       "      <td>1.000000</td>\n",
       "      <td>0.000000</td>\n",
       "      <td>0.0</td>\n",
       "      <td>0.000000</td>\n",
       "      <td>0.000000</td>\n",
       "      <td>...</td>\n",
       "      <td>0.000000</td>\n",
       "      <td>0.000000</td>\n",
       "      <td>0.000000</td>\n",
       "      <td>0.000000</td>\n",
       "      <td>0.000000</td>\n",
       "      <td>0.000000</td>\n",
       "      <td>0.000000</td>\n",
       "      <td>0.000000</td>\n",
       "      <td>0.000000</td>\n",
       "      <td>2.0</td>\n",
       "    </tr>\n",
       "    <tr>\n",
       "      <th>75%</th>\n",
       "      <td>91209.000000</td>\n",
       "      <td>56.000000</td>\n",
       "      <td>6.000000</td>\n",
       "      <td>1.000000</td>\n",
       "      <td>3.000000</td>\n",
       "      <td>1.000000</td>\n",
       "      <td>1.000000</td>\n",
       "      <td>0.0</td>\n",
       "      <td>0.000000</td>\n",
       "      <td>0.250000</td>\n",
       "      <td>...</td>\n",
       "      <td>0.000000</td>\n",
       "      <td>0.000000</td>\n",
       "      <td>0.000000</td>\n",
       "      <td>0.000000</td>\n",
       "      <td>0.000000</td>\n",
       "      <td>0.000000</td>\n",
       "      <td>0.000000</td>\n",
       "      <td>0.000000</td>\n",
       "      <td>0.250000</td>\n",
       "      <td>2.0</td>\n",
       "    </tr>\n",
       "    <tr>\n",
       "      <th>max</th>\n",
       "      <td>144157.000000</td>\n",
       "      <td>58.000000</td>\n",
       "      <td>8.000000</td>\n",
       "      <td>1.000000</td>\n",
       "      <td>4.000000</td>\n",
       "      <td>1.000000</td>\n",
       "      <td>1.000000</td>\n",
       "      <td>0.0</td>\n",
       "      <td>1.000000</td>\n",
       "      <td>1.000000</td>\n",
       "      <td>...</td>\n",
       "      <td>1.000000</td>\n",
       "      <td>1.000000</td>\n",
       "      <td>1.000000</td>\n",
       "      <td>1.000000</td>\n",
       "      <td>1.000000</td>\n",
       "      <td>1.000000</td>\n",
       "      <td>1.000000</td>\n",
       "      <td>1.000000</td>\n",
       "      <td>1.000000</td>\n",
       "      <td>2.0</td>\n",
       "    </tr>\n",
       "  </tbody>\n",
       "</table>\n",
       "<p>8 rows × 50 columns</p>\n",
       "</div>"
      ],
      "text/plain": [
       "              income        age  years_with_bank     gender  marital_status  \\\n",
       "count      44.000000  44.000000        44.000000  44.000000       44.000000   \n",
       "mean    84921.363636  49.590909         3.954545   0.636364        2.227273   \n",
       "std     20145.032926   7.758920         2.769892   0.486607        0.885638   \n",
       "min     61300.000000  30.000000         0.000000   0.000000        1.000000   \n",
       "25%     71503.500000  43.000000         2.000000   0.000000        2.000000   \n",
       "50%     80283.000000  52.000000         3.500000   1.000000        2.000000   \n",
       "75%     91209.000000  56.000000         6.000000   1.000000        3.000000   \n",
       "max    144157.000000  58.000000         8.000000   1.000000        4.000000   \n",
       "\n",
       "          parent  has_prefix    AL         AZ         CA  ...    near_NY  \\\n",
       "count  44.000000   44.000000  44.0  44.000000  44.000000  ...  44.000000   \n",
       "mean    0.522727    0.454545   0.0   0.022727   0.250000  ...   0.181818   \n",
       "std     0.505258    0.503686   0.0   0.150756   0.438019  ...   0.390154   \n",
       "min     0.000000    0.000000   0.0   0.000000   0.000000  ...   0.000000   \n",
       "25%     0.000000    0.000000   0.0   0.000000   0.000000  ...   0.000000   \n",
       "50%     1.000000    0.000000   0.0   0.000000   0.000000  ...   0.000000   \n",
       "75%     1.000000    1.000000   0.0   0.000000   0.250000  ...   0.000000   \n",
       "max     1.000000    1.000000   0.0   1.000000   1.000000  ...   1.000000   \n",
       "\n",
       "         near_VA    near_FL    near_OH    near_MN    near_MI    near_TX  \\\n",
       "count  44.000000  44.000000  44.000000  44.000000  44.000000  44.000000   \n",
       "mean    0.045455   0.068182   0.068182   0.022727   0.159091   0.136364   \n",
       "std     0.210707   0.254972   0.254972   0.150756   0.369989   0.347142   \n",
       "min     0.000000   0.000000   0.000000   0.000000   0.000000   0.000000   \n",
       "25%     0.000000   0.000000   0.000000   0.000000   0.000000   0.000000   \n",
       "50%     0.000000   0.000000   0.000000   0.000000   0.000000   0.000000   \n",
       "75%     0.000000   0.000000   0.000000   0.000000   0.000000   0.000000   \n",
       "max     1.000000   1.000000   1.000000   1.000000   1.000000   1.000000   \n",
       "\n",
       "         near_CO    near_CA  cluster  \n",
       "count  44.000000  44.000000     44.0  \n",
       "mean    0.068182   0.250000      2.0  \n",
       "std     0.254972   0.438019      0.0  \n",
       "min     0.000000   0.000000      2.0  \n",
       "25%     0.000000   0.000000      2.0  \n",
       "50%     0.000000   0.000000      2.0  \n",
       "75%     0.000000   0.250000      2.0  \n",
       "max     1.000000   1.000000      2.0  \n",
       "\n",
       "[8 rows x 50 columns]"
      ]
     },
     "execution_count": 1337,
     "metadata": {},
     "output_type": "execute_result"
    }
   ],
   "source": [
    "complex_clust[complex_clust['cluster'] == 2].describe()"
   ]
  },
  {
   "cell_type": "code",
   "execution_count": 1357,
   "metadata": {},
   "outputs": [
    {
     "data": {
      "text/html": [
       "<div>\n",
       "<style scoped>\n",
       "    .dataframe tbody tr th:only-of-type {\n",
       "        vertical-align: middle;\n",
       "    }\n",
       "\n",
       "    .dataframe tbody tr th {\n",
       "        vertical-align: top;\n",
       "    }\n",
       "\n",
       "    .dataframe thead th {\n",
       "        text-align: right;\n",
       "    }\n",
       "</style>\n",
       "<table border=\"1\" class=\"dataframe\">\n",
       "  <thead>\n",
       "    <tr style=\"text-align: right;\">\n",
       "      <th></th>\n",
       "      <th>income</th>\n",
       "      <th>age</th>\n",
       "      <th>gender_dummy</th>\n",
       "      <th>AL</th>\n",
       "      <th>AZ</th>\n",
       "      <th>CA</th>\n",
       "      <th>CO</th>\n",
       "      <th>DC</th>\n",
       "      <th>FL</th>\n",
       "      <th>GA</th>\n",
       "      <th>...</th>\n",
       "      <th>OH</th>\n",
       "      <th>OK</th>\n",
       "      <th>OR</th>\n",
       "      <th>PA</th>\n",
       "      <th>TN</th>\n",
       "      <th>TX</th>\n",
       "      <th>VA</th>\n",
       "      <th>WA</th>\n",
       "      <th>WI</th>\n",
       "      <th>cluster</th>\n",
       "    </tr>\n",
       "  </thead>\n",
       "  <tbody>\n",
       "    <tr>\n",
       "      <th>count</th>\n",
       "      <td>212.000000</td>\n",
       "      <td>212.000000</td>\n",
       "      <td>212.000000</td>\n",
       "      <td>212.000000</td>\n",
       "      <td>212.000000</td>\n",
       "      <td>212.000000</td>\n",
       "      <td>212.000000</td>\n",
       "      <td>212.000000</td>\n",
       "      <td>212.000000</td>\n",
       "      <td>212.0</td>\n",
       "      <td>...</td>\n",
       "      <td>212.000000</td>\n",
       "      <td>212.000000</td>\n",
       "      <td>212.000000</td>\n",
       "      <td>212.000000</td>\n",
       "      <td>212.000000</td>\n",
       "      <td>212.000000</td>\n",
       "      <td>212.0</td>\n",
       "      <td>212.000000</td>\n",
       "      <td>212.000000</td>\n",
       "      <td>212.0</td>\n",
       "    </tr>\n",
       "    <tr>\n",
       "      <th>mean</th>\n",
       "      <td>16978.183962</td>\n",
       "      <td>65.254717</td>\n",
       "      <td>0.415094</td>\n",
       "      <td>0.009434</td>\n",
       "      <td>0.051887</td>\n",
       "      <td>0.127358</td>\n",
       "      <td>0.023585</td>\n",
       "      <td>0.004717</td>\n",
       "      <td>0.014151</td>\n",
       "      <td>0.0</td>\n",
       "      <td>...</td>\n",
       "      <td>0.047170</td>\n",
       "      <td>0.023585</td>\n",
       "      <td>0.009434</td>\n",
       "      <td>0.037736</td>\n",
       "      <td>0.028302</td>\n",
       "      <td>0.108491</td>\n",
       "      <td>0.0</td>\n",
       "      <td>0.018868</td>\n",
       "      <td>0.056604</td>\n",
       "      <td>1.0</td>\n",
       "    </tr>\n",
       "    <tr>\n",
       "      <th>std</th>\n",
       "      <td>10697.265328</td>\n",
       "      <td>10.199490</td>\n",
       "      <td>0.493905</td>\n",
       "      <td>0.096898</td>\n",
       "      <td>0.222323</td>\n",
       "      <td>0.334163</td>\n",
       "      <td>0.152111</td>\n",
       "      <td>0.068680</td>\n",
       "      <td>0.118393</td>\n",
       "      <td>0.0</td>\n",
       "      <td>...</td>\n",
       "      <td>0.212504</td>\n",
       "      <td>0.152111</td>\n",
       "      <td>0.096898</td>\n",
       "      <td>0.191008</td>\n",
       "      <td>0.166226</td>\n",
       "      <td>0.311735</td>\n",
       "      <td>0.0</td>\n",
       "      <td>0.136381</td>\n",
       "      <td>0.231631</td>\n",
       "      <td>0.0</td>\n",
       "    </tr>\n",
       "    <tr>\n",
       "      <th>min</th>\n",
       "      <td>1039.000000</td>\n",
       "      <td>50.000000</td>\n",
       "      <td>0.000000</td>\n",
       "      <td>0.000000</td>\n",
       "      <td>0.000000</td>\n",
       "      <td>0.000000</td>\n",
       "      <td>0.000000</td>\n",
       "      <td>0.000000</td>\n",
       "      <td>0.000000</td>\n",
       "      <td>0.0</td>\n",
       "      <td>...</td>\n",
       "      <td>0.000000</td>\n",
       "      <td>0.000000</td>\n",
       "      <td>0.000000</td>\n",
       "      <td>0.000000</td>\n",
       "      <td>0.000000</td>\n",
       "      <td>0.000000</td>\n",
       "      <td>0.0</td>\n",
       "      <td>0.000000</td>\n",
       "      <td>0.000000</td>\n",
       "      <td>1.0</td>\n",
       "    </tr>\n",
       "    <tr>\n",
       "      <th>25%</th>\n",
       "      <td>7954.500000</td>\n",
       "      <td>57.000000</td>\n",
       "      <td>0.000000</td>\n",
       "      <td>0.000000</td>\n",
       "      <td>0.000000</td>\n",
       "      <td>0.000000</td>\n",
       "      <td>0.000000</td>\n",
       "      <td>0.000000</td>\n",
       "      <td>0.000000</td>\n",
       "      <td>0.0</td>\n",
       "      <td>...</td>\n",
       "      <td>0.000000</td>\n",
       "      <td>0.000000</td>\n",
       "      <td>0.000000</td>\n",
       "      <td>0.000000</td>\n",
       "      <td>0.000000</td>\n",
       "      <td>0.000000</td>\n",
       "      <td>0.0</td>\n",
       "      <td>0.000000</td>\n",
       "      <td>0.000000</td>\n",
       "      <td>1.0</td>\n",
       "    </tr>\n",
       "    <tr>\n",
       "      <th>50%</th>\n",
       "      <td>14534.000000</td>\n",
       "      <td>64.000000</td>\n",
       "      <td>0.000000</td>\n",
       "      <td>0.000000</td>\n",
       "      <td>0.000000</td>\n",
       "      <td>0.000000</td>\n",
       "      <td>0.000000</td>\n",
       "      <td>0.000000</td>\n",
       "      <td>0.000000</td>\n",
       "      <td>0.0</td>\n",
       "      <td>...</td>\n",
       "      <td>0.000000</td>\n",
       "      <td>0.000000</td>\n",
       "      <td>0.000000</td>\n",
       "      <td>0.000000</td>\n",
       "      <td>0.000000</td>\n",
       "      <td>0.000000</td>\n",
       "      <td>0.0</td>\n",
       "      <td>0.000000</td>\n",
       "      <td>0.000000</td>\n",
       "      <td>1.0</td>\n",
       "    </tr>\n",
       "    <tr>\n",
       "      <th>75%</th>\n",
       "      <td>25717.500000</td>\n",
       "      <td>72.250000</td>\n",
       "      <td>1.000000</td>\n",
       "      <td>0.000000</td>\n",
       "      <td>0.000000</td>\n",
       "      <td>0.000000</td>\n",
       "      <td>0.000000</td>\n",
       "      <td>0.000000</td>\n",
       "      <td>0.000000</td>\n",
       "      <td>0.0</td>\n",
       "      <td>...</td>\n",
       "      <td>0.000000</td>\n",
       "      <td>0.000000</td>\n",
       "      <td>0.000000</td>\n",
       "      <td>0.000000</td>\n",
       "      <td>0.000000</td>\n",
       "      <td>0.000000</td>\n",
       "      <td>0.0</td>\n",
       "      <td>0.000000</td>\n",
       "      <td>0.000000</td>\n",
       "      <td>1.0</td>\n",
       "    </tr>\n",
       "    <tr>\n",
       "      <th>max</th>\n",
       "      <td>40795.000000</td>\n",
       "      <td>89.000000</td>\n",
       "      <td>1.000000</td>\n",
       "      <td>1.000000</td>\n",
       "      <td>1.000000</td>\n",
       "      <td>1.000000</td>\n",
       "      <td>1.000000</td>\n",
       "      <td>1.000000</td>\n",
       "      <td>1.000000</td>\n",
       "      <td>0.0</td>\n",
       "      <td>...</td>\n",
       "      <td>1.000000</td>\n",
       "      <td>1.000000</td>\n",
       "      <td>1.000000</td>\n",
       "      <td>1.000000</td>\n",
       "      <td>1.000000</td>\n",
       "      <td>1.000000</td>\n",
       "      <td>0.0</td>\n",
       "      <td>1.000000</td>\n",
       "      <td>1.000000</td>\n",
       "      <td>1.0</td>\n",
       "    </tr>\n",
       "  </tbody>\n",
       "</table>\n",
       "<p>8 rows × 37 columns</p>\n",
       "</div>"
      ],
      "text/plain": [
       "             income         age  gender_dummy          AL          AZ  \\\n",
       "count    212.000000  212.000000    212.000000  212.000000  212.000000   \n",
       "mean   16978.183962   65.254717      0.415094    0.009434    0.051887   \n",
       "std    10697.265328   10.199490      0.493905    0.096898    0.222323   \n",
       "min     1039.000000   50.000000      0.000000    0.000000    0.000000   \n",
       "25%     7954.500000   57.000000      0.000000    0.000000    0.000000   \n",
       "50%    14534.000000   64.000000      0.000000    0.000000    0.000000   \n",
       "75%    25717.500000   72.250000      1.000000    0.000000    0.000000   \n",
       "max    40795.000000   89.000000      1.000000    1.000000    1.000000   \n",
       "\n",
       "               CA          CO          DC          FL     GA  ...          OH  \\\n",
       "count  212.000000  212.000000  212.000000  212.000000  212.0  ...  212.000000   \n",
       "mean     0.127358    0.023585    0.004717    0.014151    0.0  ...    0.047170   \n",
       "std      0.334163    0.152111    0.068680    0.118393    0.0  ...    0.212504   \n",
       "min      0.000000    0.000000    0.000000    0.000000    0.0  ...    0.000000   \n",
       "25%      0.000000    0.000000    0.000000    0.000000    0.0  ...    0.000000   \n",
       "50%      0.000000    0.000000    0.000000    0.000000    0.0  ...    0.000000   \n",
       "75%      0.000000    0.000000    0.000000    0.000000    0.0  ...    0.000000   \n",
       "max      1.000000    1.000000    1.000000    1.000000    0.0  ...    1.000000   \n",
       "\n",
       "               OK          OR          PA          TN          TX     VA  \\\n",
       "count  212.000000  212.000000  212.000000  212.000000  212.000000  212.0   \n",
       "mean     0.023585    0.009434    0.037736    0.028302    0.108491    0.0   \n",
       "std      0.152111    0.096898    0.191008    0.166226    0.311735    0.0   \n",
       "min      0.000000    0.000000    0.000000    0.000000    0.000000    0.0   \n",
       "25%      0.000000    0.000000    0.000000    0.000000    0.000000    0.0   \n",
       "50%      0.000000    0.000000    0.000000    0.000000    0.000000    0.0   \n",
       "75%      0.000000    0.000000    0.000000    0.000000    0.000000    0.0   \n",
       "max      1.000000    1.000000    1.000000    1.000000    1.000000    0.0   \n",
       "\n",
       "               WA          WI  cluster  \n",
       "count  212.000000  212.000000    212.0  \n",
       "mean     0.018868    0.056604      1.0  \n",
       "std      0.136381    0.231631      0.0  \n",
       "min      0.000000    0.000000      1.0  \n",
       "25%      0.000000    0.000000      1.0  \n",
       "50%      0.000000    0.000000      1.0  \n",
       "75%      0.000000    0.000000      1.0  \n",
       "max      1.000000    1.000000      1.0  \n",
       "\n",
       "[8 rows x 37 columns]"
      ]
     },
     "execution_count": 1357,
     "metadata": {},
     "output_type": "execute_result"
    }
   ],
   "source": [
    "clust_1[clust_1['cluster'] == 1].describe()"
   ]
  },
  {
   "cell_type": "code",
   "execution_count": 1362,
   "metadata": {},
   "outputs": [
    {
     "data": {
      "text/html": [
       "<div>\n",
       "<style scoped>\n",
       "    .dataframe tbody tr th:only-of-type {\n",
       "        vertical-align: middle;\n",
       "    }\n",
       "\n",
       "    .dataframe tbody tr th {\n",
       "        vertical-align: top;\n",
       "    }\n",
       "\n",
       "    .dataframe thead th {\n",
       "        text-align: right;\n",
       "    }\n",
       "</style>\n",
       "<table border=\"1\" class=\"dataframe\">\n",
       "  <thead>\n",
       "    <tr style=\"text-align: right;\">\n",
       "      <th></th>\n",
       "      <th>income</th>\n",
       "      <th>age</th>\n",
       "      <th>gender_dummy</th>\n",
       "      <th>cluster</th>\n",
       "    </tr>\n",
       "  </thead>\n",
       "  <tbody>\n",
       "    <tr>\n",
       "      <th>count</th>\n",
       "      <td>186.000000</td>\n",
       "      <td>186.000000</td>\n",
       "      <td>186.000000</td>\n",
       "      <td>226.0</td>\n",
       "    </tr>\n",
       "    <tr>\n",
       "      <th>mean</th>\n",
       "      <td>26500.462366</td>\n",
       "      <td>47.623656</td>\n",
       "      <td>0.473118</td>\n",
       "      <td>0.0</td>\n",
       "    </tr>\n",
       "    <tr>\n",
       "      <th>std</th>\n",
       "      <td>22115.066255</td>\n",
       "      <td>16.543743</td>\n",
       "      <td>0.500624</td>\n",
       "      <td>0.0</td>\n",
       "    </tr>\n",
       "    <tr>\n",
       "      <th>min</th>\n",
       "      <td>2442.000000</td>\n",
       "      <td>19.000000</td>\n",
       "      <td>0.000000</td>\n",
       "      <td>0.0</td>\n",
       "    </tr>\n",
       "    <tr>\n",
       "      <th>25%</th>\n",
       "      <td>12075.250000</td>\n",
       "      <td>35.250000</td>\n",
       "      <td>0.000000</td>\n",
       "      <td>0.0</td>\n",
       "    </tr>\n",
       "    <tr>\n",
       "      <th>50%</th>\n",
       "      <td>20512.000000</td>\n",
       "      <td>46.000000</td>\n",
       "      <td>0.000000</td>\n",
       "      <td>0.0</td>\n",
       "    </tr>\n",
       "    <tr>\n",
       "      <th>75%</th>\n",
       "      <td>32026.250000</td>\n",
       "      <td>58.000000</td>\n",
       "      <td>1.000000</td>\n",
       "      <td>0.0</td>\n",
       "    </tr>\n",
       "    <tr>\n",
       "      <th>max</th>\n",
       "      <td>127848.000000</td>\n",
       "      <td>88.000000</td>\n",
       "      <td>1.000000</td>\n",
       "      <td>0.0</td>\n",
       "    </tr>\n",
       "  </tbody>\n",
       "</table>\n",
       "</div>"
      ],
      "text/plain": [
       "              income         age  gender_dummy  cluster\n",
       "count     186.000000  186.000000    186.000000    226.0\n",
       "mean    26500.462366   47.623656      0.473118      0.0\n",
       "std     22115.066255   16.543743      0.500624      0.0\n",
       "min      2442.000000   19.000000      0.000000      0.0\n",
       "25%     12075.250000   35.250000      0.000000      0.0\n",
       "50%     20512.000000   46.000000      0.000000      0.0\n",
       "75%     32026.250000   58.000000      1.000000      0.0\n",
       "max    127848.000000   88.000000      1.000000      0.0"
      ]
     },
     "execution_count": 1362,
     "metadata": {},
     "output_type": "execute_result"
    }
   ],
   "source": [
    "clust_2_simple[clust_2_simple['cluster'] == 0].describe()"
   ]
  },
  {
   "attachments": {},
   "cell_type": "markdown",
   "metadata": {},
   "source": [
    "clust_2_simple did a very poor job of clustering based on demographics and instead took 3 clusters having about the same pattern. Cluster 1 complex cluster did a much better job. All clusters chose income as their most important component."
   ]
  },
  {
   "attachments": {},
   "cell_type": "markdown",
   "metadata": {},
   "source": [
    "# Based on Banking Behaviour"
   ]
  },
  {
   "cell_type": "code",
   "execution_count": 1363,
   "metadata": {},
   "outputs": [
    {
     "data": {
      "text/html": [
       "<div>\n",
       "<style scoped>\n",
       "    .dataframe tbody tr th:only-of-type {\n",
       "        vertical-align: middle;\n",
       "    }\n",
       "\n",
       "    .dataframe tbody tr th {\n",
       "        vertical-align: top;\n",
       "    }\n",
       "\n",
       "    .dataframe thead th {\n",
       "        text-align: right;\n",
       "    }\n",
       "</style>\n",
       "<table border=\"1\" class=\"dataframe\">\n",
       "  <thead>\n",
       "    <tr style=\"text-align: right;\">\n",
       "      <th></th>\n",
       "      <th>tran_id</th>\n",
       "      <th>acct_nbr</th>\n",
       "      <th>tran_amt</th>\n",
       "      <th>principal_amt</th>\n",
       "      <th>interest_amt</th>\n",
       "      <th>new_balance</th>\n",
       "      <th>tran_date</th>\n",
       "      <th>tran_time</th>\n",
       "      <th>tran_code</th>\n",
       "    </tr>\n",
       "  </thead>\n",
       "  <tbody>\n",
       "    <tr>\n",
       "      <th>0</th>\n",
       "      <td>27</td>\n",
       "      <td>13625623</td>\n",
       "      <td>0.00</td>\n",
       "      <td>0.00</td>\n",
       "      <td>0.0</td>\n",
       "      <td>3753.34</td>\n",
       "      <td>1995-10-21</td>\n",
       "      <td>12.0</td>\n",
       "      <td>IQ</td>\n",
       "    </tr>\n",
       "    <tr>\n",
       "      <th>1</th>\n",
       "      <td>97</td>\n",
       "      <td>13628392</td>\n",
       "      <td>0.00</td>\n",
       "      <td>0.00</td>\n",
       "      <td>0.0</td>\n",
       "      <td>254.49</td>\n",
       "      <td>1995-02-05</td>\n",
       "      <td>15.0</td>\n",
       "      <td>IQ</td>\n",
       "    </tr>\n",
       "    <tr>\n",
       "      <th>2</th>\n",
       "      <td>21</td>\n",
       "      <td>13630842</td>\n",
       "      <td>-97.57</td>\n",
       "      <td>-97.57</td>\n",
       "      <td>0.0</td>\n",
       "      <td>3819.56</td>\n",
       "      <td>1995-07-23</td>\n",
       "      <td>NaN</td>\n",
       "      <td>WD</td>\n",
       "    </tr>\n",
       "    <tr>\n",
       "      <th>3</th>\n",
       "      <td>44</td>\n",
       "      <td>13631412</td>\n",
       "      <td>-0.15</td>\n",
       "      <td>-0.15</td>\n",
       "      <td>0.0</td>\n",
       "      <td>224.05</td>\n",
       "      <td>1995-01-30</td>\n",
       "      <td>NaN</td>\n",
       "      <td>FK</td>\n",
       "    </tr>\n",
       "    <tr>\n",
       "      <th>4</th>\n",
       "      <td>31</td>\n",
       "      <td>13625722</td>\n",
       "      <td>0.00</td>\n",
       "      <td>0.00</td>\n",
       "      <td>0.0</td>\n",
       "      <td>240.55</td>\n",
       "      <td>1995-01-25</td>\n",
       "      <td>20.0</td>\n",
       "      <td>IQ</td>\n",
       "    </tr>\n",
       "    <tr>\n",
       "      <th>...</th>\n",
       "      <td>...</td>\n",
       "      <td>...</td>\n",
       "      <td>...</td>\n",
       "      <td>...</td>\n",
       "      <td>...</td>\n",
       "      <td>...</td>\n",
       "      <td>...</td>\n",
       "      <td>...</td>\n",
       "      <td>...</td>\n",
       "    </tr>\n",
       "    <tr>\n",
       "      <th>77575</th>\n",
       "      <td>77</td>\n",
       "      <td>13631752</td>\n",
       "      <td>-95.71</td>\n",
       "      <td>-95.71</td>\n",
       "      <td>0.0</td>\n",
       "      <td>95.71</td>\n",
       "      <td>1995-02-14</td>\n",
       "      <td>16.0</td>\n",
       "      <td>TR</td>\n",
       "    </tr>\n",
       "    <tr>\n",
       "      <th>77576</th>\n",
       "      <td>94</td>\n",
       "      <td>13626772</td>\n",
       "      <td>-93.90</td>\n",
       "      <td>-93.90</td>\n",
       "      <td>0.0</td>\n",
       "      <td>824.36</td>\n",
       "      <td>1995-03-11</td>\n",
       "      <td>NaN</td>\n",
       "      <td>WD</td>\n",
       "    </tr>\n",
       "    <tr>\n",
       "      <th>77577</th>\n",
       "      <td>42</td>\n",
       "      <td>13625262</td>\n",
       "      <td>-10.35</td>\n",
       "      <td>-10.35</td>\n",
       "      <td>0.0</td>\n",
       "      <td>10.36</td>\n",
       "      <td>1995-08-26</td>\n",
       "      <td>NaN</td>\n",
       "      <td>WD</td>\n",
       "    </tr>\n",
       "    <tr>\n",
       "      <th>77578</th>\n",
       "      <td>98</td>\n",
       "      <td>13627052</td>\n",
       "      <td>-423.80</td>\n",
       "      <td>-423.80</td>\n",
       "      <td>0.0</td>\n",
       "      <td>162.28</td>\n",
       "      <td>1995-06-13</td>\n",
       "      <td>11.0</td>\n",
       "      <td>WD</td>\n",
       "    </tr>\n",
       "    <tr>\n",
       "      <th>77579</th>\n",
       "      <td>57</td>\n",
       "      <td>13632570</td>\n",
       "      <td>0.00</td>\n",
       "      <td>0.00</td>\n",
       "      <td>0.0</td>\n",
       "      <td>-2420.91</td>\n",
       "      <td>1995-10-18</td>\n",
       "      <td>10.0</td>\n",
       "      <td>IQ</td>\n",
       "    </tr>\n",
       "  </tbody>\n",
       "</table>\n",
       "<p>77580 rows × 9 columns</p>\n",
       "</div>"
      ],
      "text/plain": [
       "       tran_id  acct_nbr  tran_amt  principal_amt  interest_amt  new_balance  \\\n",
       "0           27  13625623      0.00           0.00           0.0      3753.34   \n",
       "1           97  13628392      0.00           0.00           0.0       254.49   \n",
       "2           21  13630842    -97.57         -97.57           0.0      3819.56   \n",
       "3           44  13631412     -0.15          -0.15           0.0       224.05   \n",
       "4           31  13625722      0.00           0.00           0.0       240.55   \n",
       "...        ...       ...       ...            ...           ...          ...   \n",
       "77575       77  13631752    -95.71         -95.71           0.0        95.71   \n",
       "77576       94  13626772    -93.90         -93.90           0.0       824.36   \n",
       "77577       42  13625262    -10.35         -10.35           0.0        10.36   \n",
       "77578       98  13627052   -423.80        -423.80           0.0       162.28   \n",
       "77579       57  13632570      0.00           0.00           0.0     -2420.91   \n",
       "\n",
       "       tran_date  tran_time tran_code  \n",
       "0     1995-10-21       12.0        IQ  \n",
       "1     1995-02-05       15.0        IQ  \n",
       "2     1995-07-23        NaN        WD  \n",
       "3     1995-01-30        NaN        FK  \n",
       "4     1995-01-25       20.0        IQ  \n",
       "...          ...        ...       ...  \n",
       "77575 1995-02-14       16.0        TR  \n",
       "77576 1995-03-11        NaN        WD  \n",
       "77577 1995-08-26        NaN        WD  \n",
       "77578 1995-06-13       11.0        WD  \n",
       "77579 1995-10-18       10.0        IQ  \n",
       "\n",
       "[77580 rows x 9 columns]"
      ]
     },
     "execution_count": 1363,
     "metadata": {},
     "output_type": "execute_result"
    }
   ],
   "source": []
  }
 ],
 "metadata": {
  "kernelspec": {
   "display_name": "base",
   "language": "python",
   "name": "python3"
  },
  "language_info": {
   "codemirror_mode": {
    "name": "ipython",
    "version": 3
   },
   "file_extension": ".py",
   "mimetype": "text/x-python",
   "name": "python",
   "nbconvert_exporter": "python",
   "pygments_lexer": "ipython3",
   "version": "3.9.13"
  },
  "orig_nbformat": 4,
  "vscode": {
   "interpreter": {
    "hash": "8a34b3273de5bc47428473d2a098b2b644951547a78dfc045c680f0cd3ff6f5f"
   }
  }
 },
 "nbformat": 4,
 "nbformat_minor": 2
}
