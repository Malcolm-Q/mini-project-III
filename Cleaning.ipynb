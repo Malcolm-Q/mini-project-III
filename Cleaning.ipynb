{
 "cells": [
  {
   "cell_type": "markdown",
   "metadata": {},
   "source": [
    "## Mini Project III"
   ]
  },
  {
   "cell_type": "code",
   "execution_count": 212,
   "metadata": {},
   "outputs": [],
   "source": [
    "import numpy as np\n",
    "import plotly.express as px\n",
    "import matplotlib.pyplot as plt\n",
    "import pandas as pd"
   ]
  },
  {
   "attachments": {},
   "cell_type": "markdown",
   "metadata": {},
   "source": [
    "**NOTES**\n",
    "\n",
    "first 8 of acct_nbr are uniform.\n",
    "\n",
    "acct_nbr contains no duplicates :)\n",
    "\n",
    "one years worth of transactions\n",
    "\n",
    "33 states, 69 cities\n",
    "\n",
    "Investigate clustering by 1st postal code\n",
    "\n",
    "Take absolute value when comparing transaction sum\n",
    "\n",
    "**CODES**\n",
    "\n",
    "IN - interest\n",
    "\n",
    "PM - loan payment\n",
    "\n",
    "WD - withdraw\n",
    "\n",
    "DP - deposit\n",
    "\n",
    "IQ - inquiry (credit bureau)\n",
    "\n",
    "Marriage\n",
    "* 1 = single\n",
    "* 2 = married\n",
    "* ?3 = seperated ?\n",
    "* ?4 = divorced ?"
   ]
  },
  {
   "cell_type": "code",
   "execution_count": 213,
   "metadata": {},
   "outputs": [],
   "source": [
    "customer = pd.read_csv('data/twm_customer.csv', delimiter=';')\n",
    "\n",
    "account = pd.read_csv('data/twm_accounts.csv', delimiter=';')\n",
    "transactions = pd.read_csv('data/twm_transactions.csv', delimiter=';')\n",
    "\n",
    "account_checking = pd.read_csv('data/twm_checking_acct.csv', delimiter=';')\n",
    "account_credit = pd.read_csv('data/twm_credit_acct.csv', delimiter=';')\n",
    "account_saving = pd.read_csv('data/twm_savings_acct.csv', delimiter=';')\n",
    "\n",
    "transaction_checking = pd.read_csv('data/twm_checking_tran.csv', delimiter=';')\n",
    "transaction_credit = pd.read_csv('data/twm_credit_tran.csv', delimiter=';')\n",
    "transaction_saving = pd.read_csv('data/twm_savings_tran.csv', delimiter=';')"
   ]
  },
  {
   "attachments": {},
   "cell_type": "markdown",
   "metadata": {},
   "source": [
    "# Cleaning\n",
    "### First\n",
    "* strip white spaces from str columns\n",
    "* convert dates to computable date types, and times to just the hour.\n",
    "* make account numbers uniform\n",
    "* drop columns\n",
    "\n"
   ]
  },
  {
   "cell_type": "code",
   "execution_count": 214,
   "metadata": {},
   "outputs": [],
   "source": [
    "all_dfs = [customer,account,transactions,account_checking,account_credit,account_saving,transaction_checking,transaction_credit,transaction_saving]\n",
    "\n",
    "for i in range(len(all_dfs)):\n",
    "    for col in all_dfs[i].select_dtypes('object'):\n",
    "        all_dfs[i][col] = all_dfs[i][col].str.strip()\n",
    "\n",
    "customer,account,transactions,account_checking,account_credit,account_saving,transaction_checking,transaction_credit,transaction_saving = all_dfs\n",
    "\n",
    "tran_dfs = [transactions,transaction_checking,transaction_credit,transaction_saving]\n",
    "for i in range(len(tran_dfs)):\n",
    "    tran_dfs[i]['tran_time'] = tran_dfs[i]['tran_time'].astype(str)\n",
    "    tran_dfs[i].tran_time = tran_dfs[i].tran_time.replace('',np.nan)\n",
    "    tran_dfs[i].loc[(tran_dfs[i]['tran_time'].str.len() > 6) | (tran_dfs[i]['tran_time'].str.len() <=4),'tran_time'] = np.nan\n",
    "    tran_dfs[i]['tran_time'] = pd.to_datetime(tran_dfs[i]['tran_time'], format='%H%M%S').dt.hour\n",
    "    tran_dfs[i]['tran_date'] = pd.to_datetime(tran_dfs[i]['tran_date'], format='%d.%M.%Y').dt.normalize()\n",
    "\n",
    "transactions,transaction_checking,transaction_credit,transaction_saving = tran_dfs\n",
    "\n",
    "account_number_dfs =[account,transactions,account_credit]\n",
    "\n",
    "\n",
    "\n",
    "for df in account_number_dfs:\n",
    "    df['acct_nbr'] = df['acct_nbr'].astype(str)\n",
    "\n",
    "    df['acct_nbr'] = np.where(df['acct_nbr'].str.len() == 16, df['acct_nbr'].str[8:],df['acct_nbr'])\n",
    "\n",
    "account,transactions,account_credit = account_number_dfs"
   ]
  },
  {
   "cell_type": "code",
   "execution_count": 215,
   "metadata": {},
   "outputs": [],
   "source": [
    "customer = customer.drop(['first_name','last_name','street_nbr','street_name'],axis=1)\n",
    "account = account.drop(['account_active','acct_start_date','acct_end_date'],axis=1)\n",
    "transactions = transactions.drop(['channel'],axis=1)\n",
    "\n",
    "account_checking = account_checking.drop(['account_active','acct_start_date','acct_end_date'],axis=1)\n",
    "account_credit = account_credit.drop(['account_active','acct_start_date','acct_end_date'],axis=1)\n",
    "account_saving = account_saving.drop(['account_active','acct_start_date','acct_end_date'],axis=1)\n",
    "\n",
    "transaction_checking = transaction_checking.drop(['channel'],axis=1)\n",
    "transaction_credit = transaction_credit.drop(['channel'],axis=1)\n",
    "transaction_saving = transaction_saving.drop(['channel'],axis=1)"
   ]
  },
  {
   "cell_type": "code",
   "execution_count": 299,
   "metadata": {},
   "outputs": [],
   "source": [
    "customer.to_feather(path='created_data/customer.feather')\n",
    "account.to_feather(path='created_data/account.feather')\n",
    "transactions.to_feather(path='created_data/transactions.feather')\n",
    "\n",
    "account_checking.to_feather(path='created_data/account_checking.feather')\n",
    "account_credit.to_feather(path='created_data/account_credit.feather')\n",
    "account_saving.to_feather(path='created_data/account_saving.feather')\n",
    "\n",
    "transaction_checking.to_feather(path='created_data/transaction_checking.feather')\n",
    "transaction_credit.to_feather(path='created_data/transaction_credit.feather')\n",
    "transaction_saving.to_feather(path='created_data/transaction_saving.feather')\n"
   ]
  },
  {
   "cell_type": "code",
   "execution_count": 300,
   "metadata": {},
   "outputs": [],
   "source": [
    "asdf = pd.read_feather('created_data/customer.feather')"
   ]
  }
 ],
 "metadata": {
  "kernelspec": {
   "display_name": "py_test_env",
   "language": "python",
   "name": "python3"
  },
  "language_info": {
   "codemirror_mode": {
    "name": "ipython",
    "version": 3
   },
   "file_extension": ".py",
   "mimetype": "text/x-python",
   "name": "python",
   "nbconvert_exporter": "python",
   "pygments_lexer": "ipython3",
   "version": "3.9.15"
  },
  "vscode": {
   "interpreter": {
    "hash": "6eb05ff5f08e5d2301c774ad8a6837cae4f8b061b9b5708f7fb002f42c722a83"
   }
  }
 },
 "nbformat": 4,
 "nbformat_minor": 4
}
